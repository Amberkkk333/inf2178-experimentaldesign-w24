{
 "cells": [
  {
   "cell_type": "markdown",
   "metadata": {},
   "source": [
    "# INF2178 Assignment 1\n",
    "Samantha Chui (1002369126)\n"
   ]
  },
  {
   "cell_type": "markdown",
   "metadata": {},
   "source": [
    "### Pre-Processing"
   ]
  },
  {
   "cell_type": "code",
   "execution_count": 2,
   "metadata": {},
   "outputs": [],
   "source": [
    "import pandas as pd\n",
    "import numpy as np\n",
    "import matplotlib.pyplot as plt\n",
    "import scipy.stats as stats\n",
    "import seaborn as sns\n",
    "import statistics"
   ]
  },
  {
   "cell_type": "code",
   "execution_count": 3,
   "metadata": {},
   "outputs": [
    {
     "data": {
      "text/html": [
       "<div>\n",
       "<style scoped>\n",
       "    .dataframe tbody tr th:only-of-type {\n",
       "        vertical-align: middle;\n",
       "    }\n",
       "\n",
       "    .dataframe tbody tr th {\n",
       "        vertical-align: top;\n",
       "    }\n",
       "\n",
       "    .dataframe thead th {\n",
       "        text-align: right;\n",
       "    }\n",
       "</style>\n",
       "<table border=\"1\" class=\"dataframe\">\n",
       "  <thead>\n",
       "    <tr style=\"text-align: right;\">\n",
       "      <th></th>\n",
       "      <th>OCCUPANCY_DATE</th>\n",
       "      <th>ORGANIZATION_NAME</th>\n",
       "      <th>PROGRAM_ID</th>\n",
       "      <th>PROGRAM_NAME</th>\n",
       "      <th>SECTOR</th>\n",
       "      <th>PROGRAM_MODEL</th>\n",
       "      <th>OVERNIGHT_SERVICE_TYPE</th>\n",
       "      <th>PROGRAM_AREA</th>\n",
       "      <th>SERVICE_USER_COUNT</th>\n",
       "      <th>CAPACITY_TYPE</th>\n",
       "      <th>CAPACITY_ACTUAL_BED</th>\n",
       "      <th>OCCUPIED_BEDS</th>\n",
       "      <th>CAPACITY_ACTUAL_ROOM</th>\n",
       "      <th>OCCUPIED_ROOMS</th>\n",
       "    </tr>\n",
       "  </thead>\n",
       "  <tbody>\n",
       "    <tr>\n",
       "      <th>0</th>\n",
       "      <td>2021-01-01</td>\n",
       "      <td>COSTI Immigrant Services</td>\n",
       "      <td>15371</td>\n",
       "      <td>COSTI North York West Hotel - Family Program</td>\n",
       "      <td>Families</td>\n",
       "      <td>Emergency</td>\n",
       "      <td>Motel/Hotel Shelter</td>\n",
       "      <td>COVID-19 Response</td>\n",
       "      <td>74</td>\n",
       "      <td>Room Based Capacity</td>\n",
       "      <td>NaN</td>\n",
       "      <td>NaN</td>\n",
       "      <td>29.0</td>\n",
       "      <td>26.0</td>\n",
       "    </tr>\n",
       "    <tr>\n",
       "      <th>1</th>\n",
       "      <td>2021-01-01</td>\n",
       "      <td>COSTI Immigrant Services</td>\n",
       "      <td>16211</td>\n",
       "      <td>COSTI North York West Hotel - Seniors Program</td>\n",
       "      <td>Mixed Adult</td>\n",
       "      <td>Emergency</td>\n",
       "      <td>Motel/Hotel Shelter</td>\n",
       "      <td>COVID-19 Response</td>\n",
       "      <td>3</td>\n",
       "      <td>Room Based Capacity</td>\n",
       "      <td>NaN</td>\n",
       "      <td>NaN</td>\n",
       "      <td>3.0</td>\n",
       "      <td>3.0</td>\n",
       "    </tr>\n",
       "    <tr>\n",
       "      <th>2</th>\n",
       "      <td>2021-01-01</td>\n",
       "      <td>COSTI Immigrant Services</td>\n",
       "      <td>16192</td>\n",
       "      <td>COSTI North York West Hotel Program - Men</td>\n",
       "      <td>Men</td>\n",
       "      <td>Emergency</td>\n",
       "      <td>Motel/Hotel Shelter</td>\n",
       "      <td>COVID-19 Response</td>\n",
       "      <td>24</td>\n",
       "      <td>Room Based Capacity</td>\n",
       "      <td>NaN</td>\n",
       "      <td>NaN</td>\n",
       "      <td>28.0</td>\n",
       "      <td>23.0</td>\n",
       "    </tr>\n",
       "    <tr>\n",
       "      <th>3</th>\n",
       "      <td>2021-01-01</td>\n",
       "      <td>COSTI Immigrant Services</td>\n",
       "      <td>16191</td>\n",
       "      <td>COSTI North York West Hotel Program - Mixed Adult</td>\n",
       "      <td>Mixed Adult</td>\n",
       "      <td>Emergency</td>\n",
       "      <td>Motel/Hotel Shelter</td>\n",
       "      <td>COVID-19 Response</td>\n",
       "      <td>25</td>\n",
       "      <td>Room Based Capacity</td>\n",
       "      <td>NaN</td>\n",
       "      <td>NaN</td>\n",
       "      <td>17.0</td>\n",
       "      <td>17.0</td>\n",
       "    </tr>\n",
       "    <tr>\n",
       "      <th>4</th>\n",
       "      <td>2021-01-01</td>\n",
       "      <td>COSTI Immigrant Services</td>\n",
       "      <td>16193</td>\n",
       "      <td>COSTI North York West Hotel Program - Women</td>\n",
       "      <td>Women</td>\n",
       "      <td>Emergency</td>\n",
       "      <td>Motel/Hotel Shelter</td>\n",
       "      <td>COVID-19 Response</td>\n",
       "      <td>13</td>\n",
       "      <td>Room Based Capacity</td>\n",
       "      <td>NaN</td>\n",
       "      <td>NaN</td>\n",
       "      <td>14.0</td>\n",
       "      <td>13.0</td>\n",
       "    </tr>\n",
       "  </tbody>\n",
       "</table>\n",
       "</div>"
      ],
      "text/plain": [
       "  OCCUPANCY_DATE         ORGANIZATION_NAME  PROGRAM_ID  \\\n",
       "0     2021-01-01  COSTI Immigrant Services       15371   \n",
       "1     2021-01-01  COSTI Immigrant Services       16211   \n",
       "2     2021-01-01  COSTI Immigrant Services       16192   \n",
       "3     2021-01-01  COSTI Immigrant Services       16191   \n",
       "4     2021-01-01  COSTI Immigrant Services       16193   \n",
       "\n",
       "                                        PROGRAM_NAME       SECTOR  \\\n",
       "0       COSTI North York West Hotel - Family Program     Families   \n",
       "1      COSTI North York West Hotel - Seniors Program  Mixed Adult   \n",
       "2          COSTI North York West Hotel Program - Men          Men   \n",
       "3  COSTI North York West Hotel Program - Mixed Adult  Mixed Adult   \n",
       "4        COSTI North York West Hotel Program - Women        Women   \n",
       "\n",
       "  PROGRAM_MODEL OVERNIGHT_SERVICE_TYPE       PROGRAM_AREA  SERVICE_USER_COUNT  \\\n",
       "0     Emergency    Motel/Hotel Shelter  COVID-19 Response                  74   \n",
       "1     Emergency    Motel/Hotel Shelter  COVID-19 Response                   3   \n",
       "2     Emergency    Motel/Hotel Shelter  COVID-19 Response                  24   \n",
       "3     Emergency    Motel/Hotel Shelter  COVID-19 Response                  25   \n",
       "4     Emergency    Motel/Hotel Shelter  COVID-19 Response                  13   \n",
       "\n",
       "         CAPACITY_TYPE  CAPACITY_ACTUAL_BED  OCCUPIED_BEDS  \\\n",
       "0  Room Based Capacity                  NaN            NaN   \n",
       "1  Room Based Capacity                  NaN            NaN   \n",
       "2  Room Based Capacity                  NaN            NaN   \n",
       "3  Room Based Capacity                  NaN            NaN   \n",
       "4  Room Based Capacity                  NaN            NaN   \n",
       "\n",
       "   CAPACITY_ACTUAL_ROOM  OCCUPIED_ROOMS  \n",
       "0                  29.0            26.0  \n",
       "1                   3.0             3.0  \n",
       "2                  28.0            23.0  \n",
       "3                  17.0            17.0  \n",
       "4                  14.0            13.0  "
      ]
     },
     "execution_count": 3,
     "metadata": {},
     "output_type": "execute_result"
    }
   ],
   "source": [
    "filepath = '/Users/schui/Documents/Master of Information/INF2178/'\n",
    "df = pd.read_excel(filepath + 'INF2178_A1_data.xlsx')\n",
    "shelter_df = df.copy() # make a copy of the df so that the original df remains untouched\n",
    "shelter_df.head()"
   ]
  },
  {
   "cell_type": "code",
   "execution_count": 4,
   "metadata": {},
   "outputs": [
    {
     "name": "stdout",
     "output_type": "stream",
     "text": [
      "<class 'pandas.core.frame.DataFrame'>\n",
      "RangeIndex: 50944 entries, 0 to 50943\n",
      "Data columns (total 14 columns):\n",
      " #   Column                  Non-Null Count  Dtype         \n",
      "---  ------                  --------------  -----         \n",
      " 0   OCCUPANCY_DATE          50944 non-null  datetime64[ns]\n",
      " 1   ORGANIZATION_NAME       50944 non-null  object        \n",
      " 2   PROGRAM_ID              50944 non-null  int64         \n",
      " 3   PROGRAM_NAME            50909 non-null  object        \n",
      " 4   SECTOR                  50944 non-null  object        \n",
      " 5   PROGRAM_MODEL           50942 non-null  object        \n",
      " 6   OVERNIGHT_SERVICE_TYPE  50942 non-null  object        \n",
      " 7   PROGRAM_AREA            50942 non-null  object        \n",
      " 8   SERVICE_USER_COUNT      50944 non-null  int64         \n",
      " 9   CAPACITY_TYPE           50944 non-null  object        \n",
      " 10  CAPACITY_ACTUAL_BED     32399 non-null  float64       \n",
      " 11  OCCUPIED_BEDS           32399 non-null  float64       \n",
      " 12  CAPACITY_ACTUAL_ROOM    18545 non-null  float64       \n",
      " 13  OCCUPIED_ROOMS          18545 non-null  float64       \n",
      "dtypes: datetime64[ns](1), float64(4), int64(2), object(7)\n",
      "memory usage: 5.4+ MB\n"
     ]
    }
   ],
   "source": [
    "# check column types\n",
    "shelter_df.info()"
   ]
  },
  {
   "cell_type": "code",
   "execution_count": 5,
   "metadata": {},
   "outputs": [
    {
     "name": "stdout",
     "output_type": "stream",
     "text": [
      "<class 'pandas.core.series.Series'>\n",
      "RangeIndex: 50944 entries, 0 to 50943\n",
      "Series name: PROGRAM_ID\n",
      "Non-Null Count  Dtype \n",
      "--------------  ----- \n",
      "50944 non-null  object\n",
      "dtypes: object(1)\n",
      "memory usage: 398.1+ KB\n"
     ]
    }
   ],
   "source": [
    "# change 'PROGRAM_ID' into type str for easier extraction\n",
    "# (since it's a unique identifier and we won't be doing any calculations with it)\n",
    "\n",
    "shelter_df['PROGRAM_ID'] = shelter_df['PROGRAM_ID'].astype(str)\n",
    "shelter_df['PROGRAM_ID'].info() # confirm change was made"
   ]
  },
  {
   "cell_type": "code",
   "execution_count": 6,
   "metadata": {},
   "outputs": [
    {
     "name": "stdout",
     "output_type": "stream",
     "text": [
      "Number of Unique Categories in a Column:\n",
      "OCCUPANCY_DATE: 365\n",
      "ORGANIZATION_NAME: 35\n",
      "PROGRAM_ID: 169\n",
      "PROGRAM_NAME: 167\n",
      "SECTOR: 5\n",
      "PROGRAM_MODEL: 2\n",
      "OVERNIGHT_SERVICE_TYPE: 7\n",
      "PROGRAM_AREA: 4\n",
      "CAPACITY_TYPE: 2\n"
     ]
    }
   ],
   "source": [
    "# count the number of unique values in each 'category' type column\n",
    "# a column is a category type if it distinguishes the specific program\n",
    "# these columns all happen to be non-numerical values\n",
    "\n",
    "# create function\n",
    "def unique_categories(df):\n",
    "    print('Number of Unique Categories in a Column:')\n",
    "    for column, values in df.transpose().iterrows(): # for each column\n",
    "        if (df.dtypes[column] != 'float64') and (df.dtypes[column] != 'int64'):\n",
    "            print(column, ': ', str(df[column].nunique()), sep='')\n",
    "\n",
    "\n",
    "# call on function\n",
    "unique_categories(shelter_df)"
   ]
  },
  {
   "cell_type": "markdown",
   "metadata": {},
   "source": [
    "### Bed vs. Room Occupancy"
   ]
  },
  {
   "cell_type": "markdown",
   "metadata": {},
   "source": [
    "##### Exploratory Data Analysis"
   ]
  },
  {
   "cell_type": "code",
   "execution_count": 7,
   "metadata": {},
   "outputs": [
    {
     "data": {
      "text/html": [
       "<div>\n",
       "<style scoped>\n",
       "    .dataframe tbody tr th:only-of-type {\n",
       "        vertical-align: middle;\n",
       "    }\n",
       "\n",
       "    .dataframe tbody tr th {\n",
       "        vertical-align: top;\n",
       "    }\n",
       "\n",
       "    .dataframe thead th {\n",
       "        text-align: right;\n",
       "    }\n",
       "</style>\n",
       "<table border=\"1\" class=\"dataframe\">\n",
       "  <thead>\n",
       "    <tr style=\"text-align: right;\">\n",
       "      <th></th>\n",
       "      <th>OCCUPANCY_DATE</th>\n",
       "      <th>OCCUPIED_BEDS</th>\n",
       "      <th>CAPACITY_ACTUAL_BED</th>\n",
       "      <th>OCCUPANCY_RATE</th>\n",
       "    </tr>\n",
       "  </thead>\n",
       "  <tbody>\n",
       "    <tr>\n",
       "      <th>0</th>\n",
       "      <td>2021-01-01</td>\n",
       "      <td>6.0</td>\n",
       "      <td>8.0</td>\n",
       "      <td>0.750000</td>\n",
       "    </tr>\n",
       "    <tr>\n",
       "      <th>1</th>\n",
       "      <td>2021-01-01</td>\n",
       "      <td>22.0</td>\n",
       "      <td>24.0</td>\n",
       "      <td>0.916667</td>\n",
       "    </tr>\n",
       "    <tr>\n",
       "      <th>2</th>\n",
       "      <td>2021-01-01</td>\n",
       "      <td>8.0</td>\n",
       "      <td>12.0</td>\n",
       "      <td>0.666667</td>\n",
       "    </tr>\n",
       "    <tr>\n",
       "      <th>3</th>\n",
       "      <td>2021-01-01</td>\n",
       "      <td>10.0</td>\n",
       "      <td>12.0</td>\n",
       "      <td>0.833333</td>\n",
       "    </tr>\n",
       "    <tr>\n",
       "      <th>4</th>\n",
       "      <td>2021-01-01</td>\n",
       "      <td>11.0</td>\n",
       "      <td>12.0</td>\n",
       "      <td>0.916667</td>\n",
       "    </tr>\n",
       "    <tr>\n",
       "      <th>...</th>\n",
       "      <td>...</td>\n",
       "      <td>...</td>\n",
       "      <td>...</td>\n",
       "      <td>...</td>\n",
       "    </tr>\n",
       "    <tr>\n",
       "      <th>32394</th>\n",
       "      <td>2021-12-31</td>\n",
       "      <td>6.0</td>\n",
       "      <td>20.0</td>\n",
       "      <td>0.300000</td>\n",
       "    </tr>\n",
       "    <tr>\n",
       "      <th>32395</th>\n",
       "      <td>2021-12-31</td>\n",
       "      <td>23.0</td>\n",
       "      <td>23.0</td>\n",
       "      <td>1.000000</td>\n",
       "    </tr>\n",
       "    <tr>\n",
       "      <th>32396</th>\n",
       "      <td>2021-12-31</td>\n",
       "      <td>13.0</td>\n",
       "      <td>14.0</td>\n",
       "      <td>0.928571</td>\n",
       "    </tr>\n",
       "    <tr>\n",
       "      <th>32397</th>\n",
       "      <td>2021-12-31</td>\n",
       "      <td>10.0</td>\n",
       "      <td>10.0</td>\n",
       "      <td>1.000000</td>\n",
       "    </tr>\n",
       "    <tr>\n",
       "      <th>32398</th>\n",
       "      <td>2021-12-31</td>\n",
       "      <td>29.0</td>\n",
       "      <td>29.0</td>\n",
       "      <td>1.000000</td>\n",
       "    </tr>\n",
       "  </tbody>\n",
       "</table>\n",
       "<p>32399 rows × 4 columns</p>\n",
       "</div>"
      ],
      "text/plain": [
       "      OCCUPANCY_DATE  OCCUPIED_BEDS  CAPACITY_ACTUAL_BED  OCCUPANCY_RATE\n",
       "0         2021-01-01            6.0                  8.0        0.750000\n",
       "1         2021-01-01           22.0                 24.0        0.916667\n",
       "2         2021-01-01            8.0                 12.0        0.666667\n",
       "3         2021-01-01           10.0                 12.0        0.833333\n",
       "4         2021-01-01           11.0                 12.0        0.916667\n",
       "...              ...            ...                  ...             ...\n",
       "32394     2021-12-31            6.0                 20.0        0.300000\n",
       "32395     2021-12-31           23.0                 23.0        1.000000\n",
       "32396     2021-12-31           13.0                 14.0        0.928571\n",
       "32397     2021-12-31           10.0                 10.0        1.000000\n",
       "32398     2021-12-31           29.0                 29.0        1.000000\n",
       "\n",
       "[32399 rows x 4 columns]"
      ]
     },
     "execution_count": 7,
     "metadata": {},
     "output_type": "execute_result"
    }
   ],
   "source": [
    "# filter df to contain only bed based capacity\n",
    "bed_df = shelter_df[shelter_df['CAPACITY_TYPE'] == 'Bed Based Capacity'].copy()\n",
    "\n",
    "# drop unecessary columns: we only care about the date and bed capacity & occupancy\n",
    "bed_df = bed_df[['OCCUPANCY_DATE', 'OCCUPIED_BEDS', 'CAPACITY_ACTUAL_BED']]\n",
    "bed_df.reset_index(drop=True, inplace=True) # reset index\n",
    "\n",
    "# calculate bed occupancy rate\n",
    "bed_df['OCCUPANCY_RATE'] = bed_df['OCCUPIED_BEDS'] / bed_df['CAPACITY_ACTUAL_BED']\n",
    "\n",
    "bed_df"
   ]
  },
  {
   "cell_type": "code",
   "execution_count": 18,
   "metadata": {},
   "outputs": [
    {
     "name": "stdout",
     "output_type": "stream",
     "text": [
      "Bed Occupancy Rate Summary Statistics:\n",
      "Mean: 0.93\n",
      "Median: 1.0\n",
      "Min Value: 0.02\n",
      "Max Value: 1.0\n",
      "25th Quartile: 0.9\n",
      "75th Quartile: 1.0\n"
     ]
    }
   ],
   "source": [
    "# get summary statistics of bed occupancy rate\n",
    "\n",
    "# create function\n",
    "def get_stats(df):\n",
    "  mean = np.round(np.mean(df), 2)\n",
    "  median = np.round(np.median(df), 2)\n",
    "  min_value = np.round(df.min(), 2)\n",
    "  max_value = np.round(df.max(), 2)\n",
    "  quartile_1 = np.round(df.quantile(0.25), 2)\n",
    "  quartile_3 = np.round(df.quantile(0.75), 2)\n",
    "\n",
    "  print('Mean: %s' % mean)\n",
    "  print('Median: %s' % median)\n",
    "  print('Min Value: %s' % min_value)\n",
    "  print('Max Value: %s' % max_value)\n",
    "  print('25th Quartile: %s' % quartile_1)\n",
    "  print('75th Quartile: %s' % quartile_3)\n",
    "\n",
    "# call on function\n",
    "print('Bed Occupancy Rate Summary Statistics:')\n",
    "get_stats(bed_df['OCCUPANCY_RATE'])"
   ]
  },
  {
   "cell_type": "code",
   "execution_count": 11,
   "metadata": {},
   "outputs": [
    {
     "data": {
      "image/png": "[encoded data removed]",
      "text/plain": [
       "<Figure size 500x300 with 1 Axes>"
      ]
     },
     "metadata": {},
     "output_type": "display_data"
    }
   ],
   "source": [
    "# visualize the data as a histogram\n",
    "\n",
    "plt.figure(figsize=(5, 3))\n",
    "\n",
    "sns.histplot(bed_df['OCCUPANCY_RATE'], bins=30, kde=True)\n",
    "\n",
    "plt.title('Distribution of  Bed Occupancy Rate')\n",
    "plt.xlabel('Occupancy Rate')\n",
    "plt.ylabel('Frequency')\n",
    "\n",
    "plt.show()\n",
    "\n",
    "# data is highly skewed, therefore median should be used to calculate daily occupancy rate"
   ]
  },
  {
   "cell_type": "code",
   "execution_count": 9,
   "metadata": {},
   "outputs": [
    {
     "data": {
      "text/html": [
       "<div>\n",
       "<style scoped>\n",
       "    .dataframe tbody tr th:only-of-type {\n",
       "        vertical-align: middle;\n",
       "    }\n",
       "\n",
       "    .dataframe tbody tr th {\n",
       "        vertical-align: top;\n",
       "    }\n",
       "\n",
       "    .dataframe thead th {\n",
       "        text-align: right;\n",
       "    }\n",
       "</style>\n",
       "<table border=\"1\" class=\"dataframe\">\n",
       "  <thead>\n",
       "    <tr style=\"text-align: right;\">\n",
       "      <th></th>\n",
       "      <th>OCCUPANCY_RATE</th>\n",
       "    </tr>\n",
       "    <tr>\n",
       "      <th>OCCUPANCY_DATE</th>\n",
       "      <th></th>\n",
       "    </tr>\n",
       "  </thead>\n",
       "  <tbody>\n",
       "    <tr>\n",
       "      <th>2021-01-01</th>\n",
       "      <td>1.000000</td>\n",
       "    </tr>\n",
       "    <tr>\n",
       "      <th>2021-01-02</th>\n",
       "      <td>1.000000</td>\n",
       "    </tr>\n",
       "    <tr>\n",
       "      <th>2021-01-03</th>\n",
       "      <td>1.000000</td>\n",
       "    </tr>\n",
       "    <tr>\n",
       "      <th>2021-01-04</th>\n",
       "      <td>0.989618</td>\n",
       "    </tr>\n",
       "    <tr>\n",
       "      <th>2021-01-05</th>\n",
       "      <td>0.979779</td>\n",
       "    </tr>\n",
       "    <tr>\n",
       "      <th>...</th>\n",
       "      <td>...</td>\n",
       "    </tr>\n",
       "    <tr>\n",
       "      <th>2021-12-27</th>\n",
       "      <td>1.000000</td>\n",
       "    </tr>\n",
       "    <tr>\n",
       "      <th>2021-12-28</th>\n",
       "      <td>1.000000</td>\n",
       "    </tr>\n",
       "    <tr>\n",
       "      <th>2021-12-29</th>\n",
       "      <td>1.000000</td>\n",
       "    </tr>\n",
       "    <tr>\n",
       "      <th>2021-12-30</th>\n",
       "      <td>1.000000</td>\n",
       "    </tr>\n",
       "    <tr>\n",
       "      <th>2021-12-31</th>\n",
       "      <td>1.000000</td>\n",
       "    </tr>\n",
       "  </tbody>\n",
       "</table>\n",
       "<p>365 rows × 1 columns</p>\n",
       "</div>"
      ],
      "text/plain": [
       "                OCCUPANCY_RATE\n",
       "OCCUPANCY_DATE                \n",
       "2021-01-01            1.000000\n",
       "2021-01-02            1.000000\n",
       "2021-01-03            1.000000\n",
       "2021-01-04            0.989618\n",
       "2021-01-05            0.979779\n",
       "...                        ...\n",
       "2021-12-27            1.000000\n",
       "2021-12-28            1.000000\n",
       "2021-12-29            1.000000\n",
       "2021-12-30            1.000000\n",
       "2021-12-31            1.000000\n",
       "\n",
       "[365 rows x 1 columns]"
      ]
     },
     "execution_count": 9,
     "metadata": {},
     "output_type": "execute_result"
    }
   ],
   "source": [
    "# calculate daily median bed occupancy\n",
    "daily_beds = bed_df.pivot_table(values='OCCUPANCY_RATE', aggfunc='median', index='OCCUPANCY_DATE')\n",
    "daily_beds"
   ]
  },
  {
   "cell_type": "code",
   "execution_count": 10,
   "metadata": {},
   "outputs": [
    {
     "data": {
      "text/html": [
       "<div>\n",
       "<style scoped>\n",
       "    .dataframe tbody tr th:only-of-type {\n",
       "        vertical-align: middle;\n",
       "    }\n",
       "\n",
       "    .dataframe tbody tr th {\n",
       "        vertical-align: top;\n",
       "    }\n",
       "\n",
       "    .dataframe thead th {\n",
       "        text-align: right;\n",
       "    }\n",
       "</style>\n",
       "<table border=\"1\" class=\"dataframe\">\n",
       "  <thead>\n",
       "    <tr style=\"text-align: right;\">\n",
       "      <th></th>\n",
       "      <th>OCCUPANCY_DATE</th>\n",
       "      <th>OCCUPIED_ROOMS</th>\n",
       "      <th>CAPACITY_ACTUAL_ROOM</th>\n",
       "      <th>OCCUPANCY_RATE</th>\n",
       "    </tr>\n",
       "  </thead>\n",
       "  <tbody>\n",
       "    <tr>\n",
       "      <th>0</th>\n",
       "      <td>2021-01-01</td>\n",
       "      <td>26.0</td>\n",
       "      <td>29.0</td>\n",
       "      <td>0.896552</td>\n",
       "    </tr>\n",
       "    <tr>\n",
       "      <th>1</th>\n",
       "      <td>2021-01-01</td>\n",
       "      <td>3.0</td>\n",
       "      <td>3.0</td>\n",
       "      <td>1.000000</td>\n",
       "    </tr>\n",
       "    <tr>\n",
       "      <th>2</th>\n",
       "      <td>2021-01-01</td>\n",
       "      <td>23.0</td>\n",
       "      <td>28.0</td>\n",
       "      <td>0.821429</td>\n",
       "    </tr>\n",
       "    <tr>\n",
       "      <th>3</th>\n",
       "      <td>2021-01-01</td>\n",
       "      <td>17.0</td>\n",
       "      <td>17.0</td>\n",
       "      <td>1.000000</td>\n",
       "    </tr>\n",
       "    <tr>\n",
       "      <th>4</th>\n",
       "      <td>2021-01-01</td>\n",
       "      <td>13.0</td>\n",
       "      <td>14.0</td>\n",
       "      <td>0.928571</td>\n",
       "    </tr>\n",
       "    <tr>\n",
       "      <th>...</th>\n",
       "      <td>...</td>\n",
       "      <td>...</td>\n",
       "      <td>...</td>\n",
       "      <td>...</td>\n",
       "    </tr>\n",
       "    <tr>\n",
       "      <th>18540</th>\n",
       "      <td>2021-12-31</td>\n",
       "      <td>128.0</td>\n",
       "      <td>128.0</td>\n",
       "      <td>1.000000</td>\n",
       "    </tr>\n",
       "    <tr>\n",
       "      <th>18541</th>\n",
       "      <td>2021-12-31</td>\n",
       "      <td>76.0</td>\n",
       "      <td>76.0</td>\n",
       "      <td>1.000000</td>\n",
       "    </tr>\n",
       "    <tr>\n",
       "      <th>18542</th>\n",
       "      <td>2021-12-31</td>\n",
       "      <td>3.0</td>\n",
       "      <td>3.0</td>\n",
       "      <td>1.000000</td>\n",
       "    </tr>\n",
       "    <tr>\n",
       "      <th>18543</th>\n",
       "      <td>2021-12-31</td>\n",
       "      <td>22.0</td>\n",
       "      <td>23.0</td>\n",
       "      <td>0.956522</td>\n",
       "    </tr>\n",
       "    <tr>\n",
       "      <th>18544</th>\n",
       "      <td>2021-12-31</td>\n",
       "      <td>27.0</td>\n",
       "      <td>28.0</td>\n",
       "      <td>0.964286</td>\n",
       "    </tr>\n",
       "  </tbody>\n",
       "</table>\n",
       "<p>18545 rows × 4 columns</p>\n",
       "</div>"
      ],
      "text/plain": [
       "      OCCUPANCY_DATE  OCCUPIED_ROOMS  CAPACITY_ACTUAL_ROOM  OCCUPANCY_RATE\n",
       "0         2021-01-01            26.0                  29.0        0.896552\n",
       "1         2021-01-01             3.0                   3.0        1.000000\n",
       "2         2021-01-01            23.0                  28.0        0.821429\n",
       "3         2021-01-01            17.0                  17.0        1.000000\n",
       "4         2021-01-01            13.0                  14.0        0.928571\n",
       "...              ...             ...                   ...             ...\n",
       "18540     2021-12-31           128.0                 128.0        1.000000\n",
       "18541     2021-12-31            76.0                  76.0        1.000000\n",
       "18542     2021-12-31             3.0                   3.0        1.000000\n",
       "18543     2021-12-31            22.0                  23.0        0.956522\n",
       "18544     2021-12-31            27.0                  28.0        0.964286\n",
       "\n",
       "[18545 rows x 4 columns]"
      ]
     },
     "execution_count": 10,
     "metadata": {},
     "output_type": "execute_result"
    }
   ],
   "source": [
    "# filter df to contain only room based capacity\n",
    "room_df = shelter_df[shelter_df['CAPACITY_TYPE'] == 'Room Based Capacity'].copy()\n",
    "\n",
    "# drop unecessary columns: we only care about the date and bed capacity & occupancy\n",
    "room_df = room_df[['OCCUPANCY_DATE', 'OCCUPIED_ROOMS', 'CAPACITY_ACTUAL_ROOM']]\n",
    "room_df.reset_index(drop=True, inplace=True) # reset index\n",
    "\n",
    "# calculate bed occupancy rate\n",
    "room_df['OCCUPANCY_RATE'] = room_df['OCCUPIED_ROOMS'] / room_df['CAPACITY_ACTUAL_ROOM']\n",
    "\n",
    "room_df"
   ]
  },
  {
   "cell_type": "code",
   "execution_count": 19,
   "metadata": {},
   "outputs": [
    {
     "name": "stdout",
     "output_type": "stream",
     "text": [
      "Room Occupancy Rate Summary Statistics:\n",
      "Mean: 0.93\n",
      "Median: 1.0\n",
      "Min Value: 0.01\n",
      "Max Value: 1.01\n",
      "25th Quartile: 0.96\n",
      "75th Quartile: 1.0\n"
     ]
    }
   ],
   "source": [
    "# get summary statistics of room occupancy rate\n",
    "print('Room Occupancy Rate Summary Statistics:')\n",
    "get_stats(room_df['OCCUPANCY_RATE'])"
   ]
  },
  {
   "cell_type": "code",
   "execution_count": 12,
   "metadata": {},
   "outputs": [
    {
     "data": {
      "image/png": "[encoded data removed]",
      "text/plain": [
       "<Figure size 500x300 with 1 Axes>"
      ]
     },
     "metadata": {},
     "output_type": "display_data"
    }
   ],
   "source": [
    "# visualize the data as a histogram\n",
    "\n",
    "plt.figure(figsize=(5, 3))\n",
    "\n",
    "sns.histplot(room_df['OCCUPANCY_RATE'], bins=30, kde=True)\n",
    "\n",
    "plt.title('Distribution of Room Occupancy Rate')\n",
    "plt.xlabel('Occupancy Rate')\n",
    "plt.ylabel('Frequency')\n",
    "\n",
    "plt.show()\n",
    "\n",
    "# data is highly skewed, therefore median should be used to calculate daily occupancy rate"
   ]
  },
  {
   "cell_type": "code",
   "execution_count": 14,
   "metadata": {},
   "outputs": [
    {
     "data": {
      "text/html": [
       "<div>\n",
       "<style scoped>\n",
       "    .dataframe tbody tr th:only-of-type {\n",
       "        vertical-align: middle;\n",
       "    }\n",
       "\n",
       "    .dataframe tbody tr th {\n",
       "        vertical-align: top;\n",
       "    }\n",
       "\n",
       "    .dataframe thead th {\n",
       "        text-align: right;\n",
       "    }\n",
       "</style>\n",
       "<table border=\"1\" class=\"dataframe\">\n",
       "  <thead>\n",
       "    <tr style=\"text-align: right;\">\n",
       "      <th></th>\n",
       "      <th>OCCUPANCY_RATE</th>\n",
       "    </tr>\n",
       "    <tr>\n",
       "      <th>OCCUPANCY_DATE</th>\n",
       "      <th></th>\n",
       "    </tr>\n",
       "  </thead>\n",
       "  <tbody>\n",
       "    <tr>\n",
       "      <th>2021-01-01</th>\n",
       "      <td>1.000000</td>\n",
       "    </tr>\n",
       "    <tr>\n",
       "      <th>2021-01-02</th>\n",
       "      <td>1.000000</td>\n",
       "    </tr>\n",
       "    <tr>\n",
       "      <th>2021-01-03</th>\n",
       "      <td>1.000000</td>\n",
       "    </tr>\n",
       "    <tr>\n",
       "      <th>2021-01-04</th>\n",
       "      <td>0.995238</td>\n",
       "    </tr>\n",
       "    <tr>\n",
       "      <th>2021-01-05</th>\n",
       "      <td>1.000000</td>\n",
       "    </tr>\n",
       "    <tr>\n",
       "      <th>...</th>\n",
       "      <td>...</td>\n",
       "    </tr>\n",
       "    <tr>\n",
       "      <th>2021-12-27</th>\n",
       "      <td>1.000000</td>\n",
       "    </tr>\n",
       "    <tr>\n",
       "      <th>2021-12-28</th>\n",
       "      <td>1.000000</td>\n",
       "    </tr>\n",
       "    <tr>\n",
       "      <th>2021-12-29</th>\n",
       "      <td>1.000000</td>\n",
       "    </tr>\n",
       "    <tr>\n",
       "      <th>2021-12-30</th>\n",
       "      <td>1.000000</td>\n",
       "    </tr>\n",
       "    <tr>\n",
       "      <th>2021-12-31</th>\n",
       "      <td>1.000000</td>\n",
       "    </tr>\n",
       "  </tbody>\n",
       "</table>\n",
       "<p>365 rows × 1 columns</p>\n",
       "</div>"
      ],
      "text/plain": [
       "                OCCUPANCY_RATE\n",
       "OCCUPANCY_DATE                \n",
       "2021-01-01            1.000000\n",
       "2021-01-02            1.000000\n",
       "2021-01-03            1.000000\n",
       "2021-01-04            0.995238\n",
       "2021-01-05            1.000000\n",
       "...                        ...\n",
       "2021-12-27            1.000000\n",
       "2021-12-28            1.000000\n",
       "2021-12-29            1.000000\n",
       "2021-12-30            1.000000\n",
       "2021-12-31            1.000000\n",
       "\n",
       "[365 rows x 1 columns]"
      ]
     },
     "execution_count": 14,
     "metadata": {},
     "output_type": "execute_result"
    }
   ],
   "source": [
    "# calculate daily median room occupancy\n",
    "daily_rooms = room_df.pivot_table(values='OCCUPANCY_RATE', aggfunc='median', index='OCCUPANCY_DATE')\n",
    "daily_rooms"
   ]
  },
  {
   "cell_type": "code",
   "execution_count": 36,
   "metadata": {},
   "outputs": [
    {
     "data": {
      "image/png": "[encoded data removed]",
      "text/plain": [
       "<Figure size 1000x300 with 2 Axes>"
      ]
     },
     "metadata": {},
     "output_type": "display_data"
    }
   ],
   "source": [
    "# plot final sample of bed and room occupancy as a histogram side by side\n",
    "\n",
    "fig, ax = plt.subplots(1, 2, figsize=[10, 3])\n",
    "\n",
    "# Bed Based Capacity\n",
    "sns.histplot(daily_beds['OCCUPANCY_RATE'], bins=30, kde=True, ax=ax[0])\n",
    "ax[0].set_title('Daily Bed Occupancy Rate')\n",
    "ax[0].set_xlabel('Occupancy Rate')\n",
    "ax[0].set_ylabel('Frequency')\n",
    "\n",
    "# Room Based Capacity\n",
    "sns.histplot(daily_rooms['OCCUPANCY_RATE'], bins=30, kde=True, ax=ax[1])\n",
    "ax[1].set_title('Daily Room Occupancy Rate')\n",
    "ax[1].set_xlabel('Occupancy Rate')\n",
    "ax[1].set_ylabel('Frequency')\n",
    "\n",
    "plt.show()"
   ]
  },
  {
   "cell_type": "code",
   "execution_count": 22,
   "metadata": {},
   "outputs": [
    {
     "data": {
      "image/png": "[encoded data removed]",
      "text/plain": [
       "<Figure size 1200x700 with 1 Axes>"
      ]
     },
     "metadata": {},
     "output_type": "display_data"
    }
   ],
   "source": [
    "# plot bed vs. room occupancy as a boxplot\n",
    "\n",
    "fig, ax = plt.subplots(figsize=[12, 7])\n",
    "\n",
    "# hide lines of the chart\n",
    "ax.spines['top'].set_visible(False)\n",
    "ax.spines['right'].set_visible(False)\n",
    "ax.spines['left'].set_visible(False)\n",
    "\n",
    "ax.yaxis.set_ticks_position('none') # remove ticks\n",
    "\n",
    "ax.grid(color='grey', axis='y', linestyle='-', linewidth=0.25, alpha=0.5) # show horizontal grid lines\n",
    "\n",
    "ax.set_title('Occupancy Rates by Capacity Type')\n",
    "\n",
    "dataset = [daily_beds['OCCUPANCY_RATE'], daily_rooms['OCCUPANCY_RATE']]\n",
    "\n",
    "capacity_type = shelter_df['CAPACITY_TYPE'].unique().tolist() # extract the different types of shelter capacity categorizations\n",
    "capacity_type.sort() # organize alphabetically\n",
    "\n",
    "ax.boxplot(dataset, labels=capacity_type)\n",
    "\n",
    "plt.show()"
   ]
  },
  {
   "cell_type": "markdown",
   "metadata": {},
   "source": [
    "#### T-Test\n",
    "A Welch's T-Test is conducted since the two groups do not have equal variance"
   ]
  },
  {
   "cell_type": "code",
   "execution_count": 40,
   "metadata": {},
   "outputs": [
    {
     "name": "stdout",
     "output_type": "stream",
     "text": [
      "T-Statistic: -12.600199631576169\n",
      "P-Value: 1.0402130955387886e-30\n",
      "We reject the null hypothesis.\n"
     ]
    }
   ],
   "source": [
    "# Calculate t-statistic and p-value\n",
    "def welchs_ttest(x, y, a=0.05):\n",
    "    t_stats, p_val = stats.ttest_ind(x, y, equal_var=False)\n",
    "    if p_val <= a:\n",
    "        result = 'reject'\n",
    "    else:\n",
    "        result = 'accept'\n",
    "    print('T-Statistic: %s' % t_stats)\n",
    "    print('P-Value: %s' % p_val)\n",
    "    print('We %s the null hypothesis.' % result)\n",
    "\n",
    "welchs_ttest(daily_beds['OCCUPANCY_RATE'], daily_rooms['OCCUPANCY_RATE'])\n"
   ]
  },
  {
   "cell_type": "markdown",
   "metadata": {},
   "source": [
    "### Number of Users: City of Toronto vs. COSTI"
   ]
  },
  {
   "cell_type": "markdown",
   "metadata": {},
   "source": [
    "##### Exploratory Data Analysis"
   ]
  },
  {
   "cell_type": "code",
   "execution_count": 49,
   "metadata": {},
   "outputs": [
    {
     "data": {
      "text/html": [
       "<div>\n",
       "<style scoped>\n",
       "    .dataframe tbody tr th:only-of-type {\n",
       "        vertical-align: middle;\n",
       "    }\n",
       "\n",
       "    .dataframe tbody tr th {\n",
       "        vertical-align: top;\n",
       "    }\n",
       "\n",
       "    .dataframe thead th {\n",
       "        text-align: right;\n",
       "    }\n",
       "</style>\n",
       "<table border=\"1\" class=\"dataframe\">\n",
       "  <thead>\n",
       "    <tr style=\"text-align: right;\">\n",
       "      <th></th>\n",
       "      <th>SERVICE_USER_COUNT</th>\n",
       "    </tr>\n",
       "    <tr>\n",
       "      <th>OCCUPANCY_DATE</th>\n",
       "      <th></th>\n",
       "    </tr>\n",
       "  </thead>\n",
       "  <tbody>\n",
       "    <tr>\n",
       "      <th>2021-01-01</th>\n",
       "      <td>1441</td>\n",
       "    </tr>\n",
       "    <tr>\n",
       "      <th>2021-01-02</th>\n",
       "      <td>1433</td>\n",
       "    </tr>\n",
       "    <tr>\n",
       "      <th>2021-01-03</th>\n",
       "      <td>1431</td>\n",
       "    </tr>\n",
       "    <tr>\n",
       "      <th>2021-01-04</th>\n",
       "      <td>1433</td>\n",
       "    </tr>\n",
       "    <tr>\n",
       "      <th>2021-01-05</th>\n",
       "      <td>1441</td>\n",
       "    </tr>\n",
       "    <tr>\n",
       "      <th>...</th>\n",
       "      <td>...</td>\n",
       "    </tr>\n",
       "    <tr>\n",
       "      <th>2021-12-27</th>\n",
       "      <td>1767</td>\n",
       "    </tr>\n",
       "    <tr>\n",
       "      <th>2021-12-28</th>\n",
       "      <td>1773</td>\n",
       "    </tr>\n",
       "    <tr>\n",
       "      <th>2021-12-29</th>\n",
       "      <td>1775</td>\n",
       "    </tr>\n",
       "    <tr>\n",
       "      <th>2021-12-30</th>\n",
       "      <td>1773</td>\n",
       "    </tr>\n",
       "    <tr>\n",
       "      <th>2021-12-31</th>\n",
       "      <td>1767</td>\n",
       "    </tr>\n",
       "  </tbody>\n",
       "</table>\n",
       "<p>365 rows × 1 columns</p>\n",
       "</div>"
      ],
      "text/plain": [
       "                SERVICE_USER_COUNT\n",
       "OCCUPANCY_DATE                    \n",
       "2021-01-01                    1441\n",
       "2021-01-02                    1433\n",
       "2021-01-03                    1431\n",
       "2021-01-04                    1433\n",
       "2021-01-05                    1441\n",
       "...                            ...\n",
       "2021-12-27                    1767\n",
       "2021-12-28                    1773\n",
       "2021-12-29                    1775\n",
       "2021-12-30                    1773\n",
       "2021-12-31                    1767\n",
       "\n",
       "[365 rows x 1 columns]"
      ]
     },
     "execution_count": 49,
     "metadata": {},
     "output_type": "execute_result"
    }
   ],
   "source": [
    "# filter df to contain only data from City of Toronto\n",
    "toronto_df = shelter_df[shelter_df['ORGANIZATION_NAME'] == 'City of Toronto'].copy()\n",
    "toronto_df\n",
    "\n",
    "# drop unnecessary columns\n",
    "toronto_df = toronto_df[['OCCUPANCY_DATE', 'SERVICE_USER_COUNT']]\n",
    "toronto_df.reset_index(drop=True, inplace=True)\n",
    "\n",
    "# calculate daily total users\n",
    "daily_toronto = toronto_df.pivot_table(values='SERVICE_USER_COUNT', aggfunc='sum', index='OCCUPANCY_DATE')\n",
    "daily_toronto"
   ]
  },
  {
   "cell_type": "code",
   "execution_count": 52,
   "metadata": {},
   "outputs": [
    {
     "name": "stdout",
     "output_type": "stream",
     "text": [
      "City of Toronto Users Summary Statistics:\n",
      "Mean: 1497.37\n",
      "Median: 1471.0\n",
      "Min Value: 1378\n",
      "Max Value: 1775\n",
      "25th Quartile: 1426.0\n",
      "75th Quartile: 1527.0\n"
     ]
    }
   ],
   "source": [
    "# get summary statistics\n",
    "print('City of Toronto Users Summary Statistics:')\n",
    "get_stats(daily_toronto['SERVICE_USER_COUNT'])"
   ]
  },
  {
   "cell_type": "code",
   "execution_count": 50,
   "metadata": {},
   "outputs": [
    {
     "data": {
      "text/html": [
       "<div>\n",
       "<style scoped>\n",
       "    .dataframe tbody tr th:only-of-type {\n",
       "        vertical-align: middle;\n",
       "    }\n",
       "\n",
       "    .dataframe tbody tr th {\n",
       "        vertical-align: top;\n",
       "    }\n",
       "\n",
       "    .dataframe thead th {\n",
       "        text-align: right;\n",
       "    }\n",
       "</style>\n",
       "<table border=\"1\" class=\"dataframe\">\n",
       "  <thead>\n",
       "    <tr style=\"text-align: right;\">\n",
       "      <th></th>\n",
       "      <th>SERVICE_USER_COUNT</th>\n",
       "    </tr>\n",
       "    <tr>\n",
       "      <th>OCCUPANCY_DATE</th>\n",
       "      <th></th>\n",
       "    </tr>\n",
       "  </thead>\n",
       "  <tbody>\n",
       "    <tr>\n",
       "      <th>2021-01-01</th>\n",
       "      <td>395</td>\n",
       "    </tr>\n",
       "    <tr>\n",
       "      <th>2021-01-02</th>\n",
       "      <td>402</td>\n",
       "    </tr>\n",
       "    <tr>\n",
       "      <th>2021-01-03</th>\n",
       "      <td>404</td>\n",
       "    </tr>\n",
       "    <tr>\n",
       "      <th>2021-01-04</th>\n",
       "      <td>417</td>\n",
       "    </tr>\n",
       "    <tr>\n",
       "      <th>2021-01-05</th>\n",
       "      <td>422</td>\n",
       "    </tr>\n",
       "    <tr>\n",
       "      <th>...</th>\n",
       "      <td>...</td>\n",
       "    </tr>\n",
       "    <tr>\n",
       "      <th>2021-12-27</th>\n",
       "      <td>746</td>\n",
       "    </tr>\n",
       "    <tr>\n",
       "      <th>2021-12-28</th>\n",
       "      <td>744</td>\n",
       "    </tr>\n",
       "    <tr>\n",
       "      <th>2021-12-29</th>\n",
       "      <td>742</td>\n",
       "    </tr>\n",
       "    <tr>\n",
       "      <th>2021-12-30</th>\n",
       "      <td>738</td>\n",
       "    </tr>\n",
       "    <tr>\n",
       "      <th>2021-12-31</th>\n",
       "      <td>736</td>\n",
       "    </tr>\n",
       "  </tbody>\n",
       "</table>\n",
       "<p>365 rows × 1 columns</p>\n",
       "</div>"
      ],
      "text/plain": [
       "                SERVICE_USER_COUNT\n",
       "OCCUPANCY_DATE                    \n",
       "2021-01-01                     395\n",
       "2021-01-02                     402\n",
       "2021-01-03                     404\n",
       "2021-01-04                     417\n",
       "2021-01-05                     422\n",
       "...                            ...\n",
       "2021-12-27                     746\n",
       "2021-12-28                     744\n",
       "2021-12-29                     742\n",
       "2021-12-30                     738\n",
       "2021-12-31                     736\n",
       "\n",
       "[365 rows x 1 columns]"
      ]
     },
     "execution_count": 50,
     "metadata": {},
     "output_type": "execute_result"
    }
   ],
   "source": [
    "# filter df to contain only data from COSTI\n",
    "costi_df = shelter_df[shelter_df['ORGANIZATION_NAME'] == 'COSTI Immigrant Services'].copy()\n",
    "costi_df\n",
    "\n",
    "# drop unnecessary columns\n",
    "costi_df = costi_df[['OCCUPANCY_DATE', 'SERVICE_USER_COUNT']]\n",
    "costi_df.reset_index(drop=True, inplace=True)\n",
    "\n",
    "# calculate daily total users\n",
    "daily_costi = costi_df.pivot_table(values='SERVICE_USER_COUNT', aggfunc='sum', index='OCCUPANCY_DATE')\n",
    "daily_costi"
   ]
  },
  {
   "cell_type": "code",
   "execution_count": 53,
   "metadata": {},
   "outputs": [
    {
     "name": "stdout",
     "output_type": "stream",
     "text": [
      "COSTI Users Summary Statistics:\n",
      "Mean: 495.48\n",
      "Median: 484.0\n",
      "Min Value: 318\n",
      "Max Value: 747\n",
      "25th Quartile: 374.0\n",
      "75th Quartile: 556.0\n"
     ]
    }
   ],
   "source": [
    "# get summary statistics\n",
    "print('COSTI Users Summary Statistics:')\n",
    "get_stats(daily_costi['SERVICE_USER_COUNT'])"
   ]
  },
  {
   "cell_type": "code",
   "execution_count": 51,
   "metadata": {},
   "outputs": [
    {
     "data": {
      "image/png": "[encoded data removed]",
      "text/plain": [
       "<Figure size 1000x300 with 2 Axes>"
      ]
     },
     "metadata": {},
     "output_type": "display_data"
    }
   ],
   "source": [
    "# visualize distribution of service users as a histogram\n",
    "\n",
    "fig, ax = plt.subplots(1, 2, figsize=[10, 3])\n",
    "\n",
    "# Bed Based Capacity\n",
    "sns.histplot(daily_toronto['SERVICE_USER_COUNT'], bins=30, kde=True, ax=ax[0])\n",
    "ax[0].set_title('Total Daily Users at City of Toronto Shelters')\n",
    "ax[0].set_xlabel('Num of Users')\n",
    "ax[0].set_ylabel('Frequency')\n",
    "\n",
    "# Room Based Capacity\n",
    "sns.histplot(daily_costi['SERVICE_USER_COUNT'], bins=30, kde=True, ax=ax[1])\n",
    "ax[1].set_title('Total Daily Users at COSTI Shelters')\n",
    "ax[1].set_xlabel('Num of Users')\n",
    "ax[1].set_ylabel('Frequency')\n",
    "\n",
    "plt.show()"
   ]
  },
  {
   "cell_type": "code",
   "execution_count": 60,
   "metadata": {},
   "outputs": [
    {
     "data": {
      "image/png": "[encoded data removed]",
      "text/plain": [
       "<Figure size 1200x700 with 1 Axes>"
      ]
     },
     "metadata": {},
     "output_type": "display_data"
    }
   ],
   "source": [
    "# plot Toronto vs. COSTI users as a boxplot\n",
    "\n",
    "fig, ax = plt.subplots(figsize=[12, 7])\n",
    "\n",
    "# hide lines of the chart\n",
    "ax.spines['top'].set_visible(False)\n",
    "ax.spines['right'].set_visible(False)\n",
    "ax.spines['left'].set_visible(False)\n",
    "\n",
    "ax.yaxis.set_ticks_position('none') # remove ticks\n",
    "\n",
    "ax.grid(color='grey', axis='y', linestyle='-', linewidth=0.25, alpha=0.5) # show horizontal grid lines\n",
    "\n",
    "ax.set_title('Daily Total Service Users')\n",
    "\n",
    "dataset = [daily_toronto['SERVICE_USER_COUNT'], daily_costi['SERVICE_USER_COUNT']]\n",
    "\n",
    "ax.boxplot(dataset, labels=['City of Toronto', 'COSTI Immigrant Services'])\n",
    "\n",
    "plt.show()"
   ]
  },
  {
   "cell_type": "code",
   "execution_count": 59,
   "metadata": {},
   "outputs": [
    {
     "name": "stdout",
     "output_type": "stream",
     "text": [
      "T-Statistic: 114.74917804584445\n",
      "P-Value: 0.0\n",
      "We reject the null hypothesis.\n"
     ]
    }
   ],
   "source": [
    "welchs_ttest(daily_toronto['SERVICE_USER_COUNT'], daily_costi['SERVICE_USER_COUNT'])"
   ]
  }
 ],
 "metadata": {
  "kernelspec": {
   "display_name": "Python 3",
   "language": "python",
   "name": "python3"
  },
  "language_info": {
   "codemirror_mode": {
    "name": "ipython",
    "version": 3
   },
   "file_extension": ".py",
   "mimetype": "text/x-python",
   "name": "python",
   "nbconvert_exporter": "python",
   "pygments_lexer": "ipython3",
   "version": "3.12.1"
  }
 },
 "nbformat": 4,
 "nbformat_minor": 2
}
