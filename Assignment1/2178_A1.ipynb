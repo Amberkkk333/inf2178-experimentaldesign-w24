{
  "nbformat": 4,
  "nbformat_minor": 0,
  "metadata": {
    "colab": {
      "provenance": []
    },
    "kernelspec": {
      "name": "python3",
      "display_name": "Python 3"
    },
    "language_info": {
      "name": "python"
    }
  },
  "cells": [
    {
      "cell_type": "markdown",
      "source": [
        "Google Colab Link\n",
        "https://colab.research.google.com/drive/1Xa4y_ZjjdHWTDdKURK8B0q9jYhfOe8bi?usp=sharing"
      ],
      "metadata": {
        "id": "cY6YvLrDG9y1"
      }
    },
    {
      "cell_type": "code",
      "execution_count": 1,
      "metadata": {
        "id": "CV13mqGWFZGU"
      },
      "outputs": [],
      "source": [
        "# Load the libraries\n",
        "import numpy as np\n",
        "import pandas as pd\n",
        "from sklearn import datasets\n",
        "import matplotlib.pyplot as plt\n",
        "from scipy.stats import ttest_ind\n",
        "import seaborn as sns"
      ]
    },
    {
      "cell_type": "code",
      "source": [
        "from google.colab import drive"
      ],
      "metadata": {
        "id": "9ScoFR7FIj4d"
      },
      "execution_count": 2,
      "outputs": []
    },
    {
      "cell_type": "code",
      "source": [
        "# Mount file to google drive\n",
        "drive.mount('/content/drive')"
      ],
      "metadata": {
        "colab": {
          "base_uri": "https://localhost:8080/"
        },
        "id": "XhyR0Kt7Il_c",
        "outputId": "cd04f4df-b854-40cc-b074-86244ecdbf35"
      },
      "execution_count": 3,
      "outputs": [
        {
          "output_type": "stream",
          "name": "stdout",
          "text": [
            "Mounted at /content/drive\n"
          ]
        }
      ]
    },
    {
      "cell_type": "code",
      "source": [
        "df=pd.read_excel('/content/drive/MyDrive/2178/INF2178_A1_data.xlsx',sheet_name='data')"
      ],
      "metadata": {
        "id": "XwCvN85UImEN"
      },
      "execution_count": 4,
      "outputs": []
    },
    {
      "cell_type": "code",
      "source": [
        "df.head(10)"
      ],
      "metadata": {
        "colab": {
          "base_uri": "https://localhost:8080/",
          "height": 834
        },
        "id": "wv4NI013ImMh",
        "outputId": "05551da9-8e51-407e-85c9-8a3ffcf99191"
      },
      "execution_count": 5,
      "outputs": [
        {
          "output_type": "execute_result",
          "data": {
            "text/plain": [
              "  OCCUPANCY_DATE                        ORGANIZATION_NAME  PROGRAM_ID  \\\n",
              "0     2021-01-01                 COSTI Immigrant Services       15371   \n",
              "1     2021-01-01                 COSTI Immigrant Services       16211   \n",
              "2     2021-01-01                 COSTI Immigrant Services       16192   \n",
              "3     2021-01-01                 COSTI Immigrant Services       16191   \n",
              "4     2021-01-01                 COSTI Immigrant Services       16193   \n",
              "5     2021-01-01                 COSTI Immigrant Services       12251   \n",
              "6     2021-01-01                 COSTI Immigrant Services       15372   \n",
              "7     2021-01-01                 COSTI Immigrant Services       13751   \n",
              "8     2021-01-01  Christie Ossington Neighbourhood Centre       16111   \n",
              "9     2021-01-01  Christie Ossington Neighbourhood Centre       15711   \n",
              "\n",
              "                                        PROGRAM_NAME       SECTOR  \\\n",
              "0       COSTI North York West Hotel - Family Program     Families   \n",
              "1      COSTI North York West Hotel - Seniors Program  Mixed Adult   \n",
              "2          COSTI North York West Hotel Program - Men          Men   \n",
              "3  COSTI North York West Hotel Program - Mixed Adult  Mixed Adult   \n",
              "4        COSTI North York West Hotel Program - Women        Women   \n",
              "5                COSTI Reception Centre CITY Program  Mixed Adult   \n",
              "6       COSTI Uptown Hotel COVID-19 - Family Program     Families   \n",
              "7                  COSTI Uptown Hotel Family Program     Families   \n",
              "8         CONC Etobicoke Hotel Program - Mixed Adult  Mixed Adult   \n",
              "9                           CONC Men's Hotel Program          Men   \n",
              "\n",
              "  PROGRAM_MODEL OVERNIGHT_SERVICE_TYPE  \\\n",
              "0     Emergency    Motel/Hotel Shelter   \n",
              "1     Emergency    Motel/Hotel Shelter   \n",
              "2     Emergency    Motel/Hotel Shelter   \n",
              "3     Emergency    Motel/Hotel Shelter   \n",
              "4     Emergency    Motel/Hotel Shelter   \n",
              "5     Emergency                Shelter   \n",
              "6     Emergency    Motel/Hotel Shelter   \n",
              "7     Emergency    Motel/Hotel Shelter   \n",
              "8     Emergency    Motel/Hotel Shelter   \n",
              "9     Emergency    Motel/Hotel Shelter   \n",
              "\n",
              "                                 PROGRAM_AREA  SERVICE_USER_COUNT  \\\n",
              "0                           COVID-19 Response                  74   \n",
              "1                           COVID-19 Response                   3   \n",
              "2                           COVID-19 Response                  24   \n",
              "3                           COVID-19 Response                  25   \n",
              "4                           COVID-19 Response                  13   \n",
              "5  Base Shelter and Overnight Services System                   6   \n",
              "6                           COVID-19 Response                 120   \n",
              "7                  Temporary Refugee Response                 130   \n",
              "8                           COVID-19 Response                 153   \n",
              "9                           COVID-19 Response                  40   \n",
              "\n",
              "         CAPACITY_TYPE  CAPACITY_ACTUAL_BED  OCCUPIED_BEDS  \\\n",
              "0  Room Based Capacity                  NaN            NaN   \n",
              "1  Room Based Capacity                  NaN            NaN   \n",
              "2  Room Based Capacity                  NaN            NaN   \n",
              "3  Room Based Capacity                  NaN            NaN   \n",
              "4  Room Based Capacity                  NaN            NaN   \n",
              "5   Bed Based Capacity                  8.0            6.0   \n",
              "6  Room Based Capacity                  NaN            NaN   \n",
              "7  Room Based Capacity                  NaN            NaN   \n",
              "8  Room Based Capacity                  NaN            NaN   \n",
              "9  Room Based Capacity                  NaN            NaN   \n",
              "\n",
              "   CAPACITY_ACTUAL_ROOM  OCCUPIED_ROOMS  \n",
              "0                  29.0            26.0  \n",
              "1                   3.0             3.0  \n",
              "2                  28.0            23.0  \n",
              "3                  17.0            17.0  \n",
              "4                  14.0            13.0  \n",
              "5                   NaN             NaN  \n",
              "6                  46.0            44.0  \n",
              "7                  46.0            44.0  \n",
              "8                 145.0           145.0  \n",
              "9                  41.0            40.0  "
            ],
            "text/html": [
              "\n",
              "  <div id=\"df-b1bd6e05-abfd-4c61-b3d4-59a287b6f0af\" class=\"colab-df-container\">\n",
              "    <div>\n",
              "<style scoped>\n",
              "    .dataframe tbody tr th:only-of-type {\n",
              "        vertical-align: middle;\n",
              "    }\n",
              "\n",
              "    .dataframe tbody tr th {\n",
              "        vertical-align: top;\n",
              "    }\n",
              "\n",
              "    .dataframe thead th {\n",
              "        text-align: right;\n",
              "    }\n",
              "</style>\n",
              "<table border=\"1\" class=\"dataframe\">\n",
              "  <thead>\n",
              "    <tr style=\"text-align: right;\">\n",
              "      <th></th>\n",
              "      <th>OCCUPANCY_DATE</th>\n",
              "      <th>ORGANIZATION_NAME</th>\n",
              "      <th>PROGRAM_ID</th>\n",
              "      <th>PROGRAM_NAME</th>\n",
              "      <th>SECTOR</th>\n",
              "      <th>PROGRAM_MODEL</th>\n",
              "      <th>OVERNIGHT_SERVICE_TYPE</th>\n",
              "      <th>PROGRAM_AREA</th>\n",
              "      <th>SERVICE_USER_COUNT</th>\n",
              "      <th>CAPACITY_TYPE</th>\n",
              "      <th>CAPACITY_ACTUAL_BED</th>\n",
              "      <th>OCCUPIED_BEDS</th>\n",
              "      <th>CAPACITY_ACTUAL_ROOM</th>\n",
              "      <th>OCCUPIED_ROOMS</th>\n",
              "    </tr>\n",
              "  </thead>\n",
              "  <tbody>\n",
              "    <tr>\n",
              "      <th>0</th>\n",
              "      <td>2021-01-01</td>\n",
              "      <td>COSTI Immigrant Services</td>\n",
              "      <td>15371</td>\n",
              "      <td>COSTI North York West Hotel - Family Program</td>\n",
              "      <td>Families</td>\n",
              "      <td>Emergency</td>\n",
              "      <td>Motel/Hotel Shelter</td>\n",
              "      <td>COVID-19 Response</td>\n",
              "      <td>74</td>\n",
              "      <td>Room Based Capacity</td>\n",
              "      <td>NaN</td>\n",
              "      <td>NaN</td>\n",
              "      <td>29.0</td>\n",
              "      <td>26.0</td>\n",
              "    </tr>\n",
              "    <tr>\n",
              "      <th>1</th>\n",
              "      <td>2021-01-01</td>\n",
              "      <td>COSTI Immigrant Services</td>\n",
              "      <td>16211</td>\n",
              "      <td>COSTI North York West Hotel - Seniors Program</td>\n",
              "      <td>Mixed Adult</td>\n",
              "      <td>Emergency</td>\n",
              "      <td>Motel/Hotel Shelter</td>\n",
              "      <td>COVID-19 Response</td>\n",
              "      <td>3</td>\n",
              "      <td>Room Based Capacity</td>\n",
              "      <td>NaN</td>\n",
              "      <td>NaN</td>\n",
              "      <td>3.0</td>\n",
              "      <td>3.0</td>\n",
              "    </tr>\n",
              "    <tr>\n",
              "      <th>2</th>\n",
              "      <td>2021-01-01</td>\n",
              "      <td>COSTI Immigrant Services</td>\n",
              "      <td>16192</td>\n",
              "      <td>COSTI North York West Hotel Program - Men</td>\n",
              "      <td>Men</td>\n",
              "      <td>Emergency</td>\n",
              "      <td>Motel/Hotel Shelter</td>\n",
              "      <td>COVID-19 Response</td>\n",
              "      <td>24</td>\n",
              "      <td>Room Based Capacity</td>\n",
              "      <td>NaN</td>\n",
              "      <td>NaN</td>\n",
              "      <td>28.0</td>\n",
              "      <td>23.0</td>\n",
              "    </tr>\n",
              "    <tr>\n",
              "      <th>3</th>\n",
              "      <td>2021-01-01</td>\n",
              "      <td>COSTI Immigrant Services</td>\n",
              "      <td>16191</td>\n",
              "      <td>COSTI North York West Hotel Program - Mixed Adult</td>\n",
              "      <td>Mixed Adult</td>\n",
              "      <td>Emergency</td>\n",
              "      <td>Motel/Hotel Shelter</td>\n",
              "      <td>COVID-19 Response</td>\n",
              "      <td>25</td>\n",
              "      <td>Room Based Capacity</td>\n",
              "      <td>NaN</td>\n",
              "      <td>NaN</td>\n",
              "      <td>17.0</td>\n",
              "      <td>17.0</td>\n",
              "    </tr>\n",
              "    <tr>\n",
              "      <th>4</th>\n",
              "      <td>2021-01-01</td>\n",
              "      <td>COSTI Immigrant Services</td>\n",
              "      <td>16193</td>\n",
              "      <td>COSTI North York West Hotel Program - Women</td>\n",
              "      <td>Women</td>\n",
              "      <td>Emergency</td>\n",
              "      <td>Motel/Hotel Shelter</td>\n",
              "      <td>COVID-19 Response</td>\n",
              "      <td>13</td>\n",
              "      <td>Room Based Capacity</td>\n",
              "      <td>NaN</td>\n",
              "      <td>NaN</td>\n",
              "      <td>14.0</td>\n",
              "      <td>13.0</td>\n",
              "    </tr>\n",
              "    <tr>\n",
              "      <th>5</th>\n",
              "      <td>2021-01-01</td>\n",
              "      <td>COSTI Immigrant Services</td>\n",
              "      <td>12251</td>\n",
              "      <td>COSTI Reception Centre CITY Program</td>\n",
              "      <td>Mixed Adult</td>\n",
              "      <td>Emergency</td>\n",
              "      <td>Shelter</td>\n",
              "      <td>Base Shelter and Overnight Services System</td>\n",
              "      <td>6</td>\n",
              "      <td>Bed Based Capacity</td>\n",
              "      <td>8.0</td>\n",
              "      <td>6.0</td>\n",
              "      <td>NaN</td>\n",
              "      <td>NaN</td>\n",
              "    </tr>\n",
              "    <tr>\n",
              "      <th>6</th>\n",
              "      <td>2021-01-01</td>\n",
              "      <td>COSTI Immigrant Services</td>\n",
              "      <td>15372</td>\n",
              "      <td>COSTI Uptown Hotel COVID-19 - Family Program</td>\n",
              "      <td>Families</td>\n",
              "      <td>Emergency</td>\n",
              "      <td>Motel/Hotel Shelter</td>\n",
              "      <td>COVID-19 Response</td>\n",
              "      <td>120</td>\n",
              "      <td>Room Based Capacity</td>\n",
              "      <td>NaN</td>\n",
              "      <td>NaN</td>\n",
              "      <td>46.0</td>\n",
              "      <td>44.0</td>\n",
              "    </tr>\n",
              "    <tr>\n",
              "      <th>7</th>\n",
              "      <td>2021-01-01</td>\n",
              "      <td>COSTI Immigrant Services</td>\n",
              "      <td>13751</td>\n",
              "      <td>COSTI Uptown Hotel Family Program</td>\n",
              "      <td>Families</td>\n",
              "      <td>Emergency</td>\n",
              "      <td>Motel/Hotel Shelter</td>\n",
              "      <td>Temporary Refugee Response</td>\n",
              "      <td>130</td>\n",
              "      <td>Room Based Capacity</td>\n",
              "      <td>NaN</td>\n",
              "      <td>NaN</td>\n",
              "      <td>46.0</td>\n",
              "      <td>44.0</td>\n",
              "    </tr>\n",
              "    <tr>\n",
              "      <th>8</th>\n",
              "      <td>2021-01-01</td>\n",
              "      <td>Christie Ossington Neighbourhood Centre</td>\n",
              "      <td>16111</td>\n",
              "      <td>CONC Etobicoke Hotel Program - Mixed Adult</td>\n",
              "      <td>Mixed Adult</td>\n",
              "      <td>Emergency</td>\n",
              "      <td>Motel/Hotel Shelter</td>\n",
              "      <td>COVID-19 Response</td>\n",
              "      <td>153</td>\n",
              "      <td>Room Based Capacity</td>\n",
              "      <td>NaN</td>\n",
              "      <td>NaN</td>\n",
              "      <td>145.0</td>\n",
              "      <td>145.0</td>\n",
              "    </tr>\n",
              "    <tr>\n",
              "      <th>9</th>\n",
              "      <td>2021-01-01</td>\n",
              "      <td>Christie Ossington Neighbourhood Centre</td>\n",
              "      <td>15711</td>\n",
              "      <td>CONC Men's Hotel Program</td>\n",
              "      <td>Men</td>\n",
              "      <td>Emergency</td>\n",
              "      <td>Motel/Hotel Shelter</td>\n",
              "      <td>COVID-19 Response</td>\n",
              "      <td>40</td>\n",
              "      <td>Room Based Capacity</td>\n",
              "      <td>NaN</td>\n",
              "      <td>NaN</td>\n",
              "      <td>41.0</td>\n",
              "      <td>40.0</td>\n",
              "    </tr>\n",
              "  </tbody>\n",
              "</table>\n",
              "</div>\n",
              "    <div class=\"colab-df-buttons\">\n",
              "\n",
              "  <div class=\"colab-df-container\">\n",
              "    <button class=\"colab-df-convert\" onclick=\"convertToInteractive('df-b1bd6e05-abfd-4c61-b3d4-59a287b6f0af')\"\n",
              "            title=\"Convert this dataframe to an interactive table.\"\n",
              "            style=\"display:none;\">\n",
              "\n",
              "  <svg xmlns=\"http://www.w3.org/2000/svg\" height=\"24px\" viewBox=\"0 -960 960 960\">\n",
              "    <path d=\"M120-120v-720h720v720H120Zm60-500h600v-160H180v160Zm220 220h160v-160H400v160Zm0 220h160v-160H400v160ZM180-400h160v-160H180v160Zm440 0h160v-160H620v160ZM180-180h160v-160H180v160Zm440 0h160v-160H620v160Z\"/>\n",
              "  </svg>\n",
              "    </button>\n",
              "\n",
              "  <style>\n",
              "    .colab-df-container {\n",
              "      display:flex;\n",
              "      gap: 12px;\n",
              "    }\n",
              "\n",
              "    .colab-df-convert {\n",
              "      background-color: #E8F0FE;\n",
              "      border: none;\n",
              "      border-radius: 50%;\n",
              "      cursor: pointer;\n",
              "      display: none;\n",
              "      fill: #1967D2;\n",
              "      height: 32px;\n",
              "      padding: 0 0 0 0;\n",
              "      width: 32px;\n",
              "    }\n",
              "\n",
              "    .colab-df-convert:hover {\n",
              "      background-color: #E2EBFA;\n",
              "      box-shadow: 0px 1px 2px rgba(60, 64, 67, 0.3), 0px 1px 3px 1px rgba(60, 64, 67, 0.15);\n",
              "      fill: #174EA6;\n",
              "    }\n",
              "\n",
              "    .colab-df-buttons div {\n",
              "      margin-bottom: 4px;\n",
              "    }\n",
              "\n",
              "    [theme=dark] .colab-df-convert {\n",
              "      background-color: #3B4455;\n",
              "      fill: #D2E3FC;\n",
              "    }\n",
              "\n",
              "    [theme=dark] .colab-df-convert:hover {\n",
              "      background-color: #434B5C;\n",
              "      box-shadow: 0px 1px 3px 1px rgba(0, 0, 0, 0.15);\n",
              "      filter: drop-shadow(0px 1px 2px rgba(0, 0, 0, 0.3));\n",
              "      fill: #FFFFFF;\n",
              "    }\n",
              "  </style>\n",
              "\n",
              "    <script>\n",
              "      const buttonEl =\n",
              "        document.querySelector('#df-b1bd6e05-abfd-4c61-b3d4-59a287b6f0af button.colab-df-convert');\n",
              "      buttonEl.style.display =\n",
              "        google.colab.kernel.accessAllowed ? 'block' : 'none';\n",
              "\n",
              "      async function convertToInteractive(key) {\n",
              "        const element = document.querySelector('#df-b1bd6e05-abfd-4c61-b3d4-59a287b6f0af');\n",
              "        const dataTable =\n",
              "          await google.colab.kernel.invokeFunction('convertToInteractive',\n",
              "                                                    [key], {});\n",
              "        if (!dataTable) return;\n",
              "\n",
              "        const docLinkHtml = 'Like what you see? Visit the ' +\n",
              "          '<a target=\"_blank\" href=https://colab.research.google.com/notebooks/data_table.ipynb>data table notebook</a>'\n",
              "          + ' to learn more about interactive tables.';\n",
              "        element.innerHTML = '';\n",
              "        dataTable['output_type'] = 'display_data';\n",
              "        await google.colab.output.renderOutput(dataTable, element);\n",
              "        const docLink = document.createElement('div');\n",
              "        docLink.innerHTML = docLinkHtml;\n",
              "        element.appendChild(docLink);\n",
              "      }\n",
              "    </script>\n",
              "  </div>\n",
              "\n",
              "\n",
              "<div id=\"df-70a09e77-8c3b-4fa5-9ba9-5eb030e9d60d\">\n",
              "  <button class=\"colab-df-quickchart\" onclick=\"quickchart('df-70a09e77-8c3b-4fa5-9ba9-5eb030e9d60d')\"\n",
              "            title=\"Suggest charts\"\n",
              "            style=\"display:none;\">\n",
              "\n",
              "<svg xmlns=\"http://www.w3.org/2000/svg\" height=\"24px\"viewBox=\"0 0 24 24\"\n",
              "     width=\"24px\">\n",
              "    <g>\n",
              "        <path d=\"M19 3H5c-1.1 0-2 .9-2 2v14c0 1.1.9 2 2 2h14c1.1 0 2-.9 2-2V5c0-1.1-.9-2-2-2zM9 17H7v-7h2v7zm4 0h-2V7h2v10zm4 0h-2v-4h2v4z\"/>\n",
              "    </g>\n",
              "</svg>\n",
              "  </button>\n",
              "\n",
              "<style>\n",
              "  .colab-df-quickchart {\n",
              "      --bg-color: #E8F0FE;\n",
              "      --fill-color: #1967D2;\n",
              "      --hover-bg-color: #E2EBFA;\n",
              "      --hover-fill-color: #174EA6;\n",
              "      --disabled-fill-color: #AAA;\n",
              "      --disabled-bg-color: #DDD;\n",
              "  }\n",
              "\n",
              "  [theme=dark] .colab-df-quickchart {\n",
              "      --bg-color: #3B4455;\n",
              "      --fill-color: #D2E3FC;\n",
              "      --hover-bg-color: #434B5C;\n",
              "      --hover-fill-color: #FFFFFF;\n",
              "      --disabled-bg-color: #3B4455;\n",
              "      --disabled-fill-color: #666;\n",
              "  }\n",
              "\n",
              "  .colab-df-quickchart {\n",
              "    background-color: var(--bg-color);\n",
              "    border: none;\n",
              "    border-radius: 50%;\n",
              "    cursor: pointer;\n",
              "    display: none;\n",
              "    fill: var(--fill-color);\n",
              "    height: 32px;\n",
              "    padding: 0;\n",
              "    width: 32px;\n",
              "  }\n",
              "\n",
              "  .colab-df-quickchart:hover {\n",
              "    background-color: var(--hover-bg-color);\n",
              "    box-shadow: 0 1px 2px rgba(60, 64, 67, 0.3), 0 1px 3px 1px rgba(60, 64, 67, 0.15);\n",
              "    fill: var(--button-hover-fill-color);\n",
              "  }\n",
              "\n",
              "  .colab-df-quickchart-complete:disabled,\n",
              "  .colab-df-quickchart-complete:disabled:hover {\n",
              "    background-color: var(--disabled-bg-color);\n",
              "    fill: var(--disabled-fill-color);\n",
              "    box-shadow: none;\n",
              "  }\n",
              "\n",
              "  .colab-df-spinner {\n",
              "    border: 2px solid var(--fill-color);\n",
              "    border-color: transparent;\n",
              "    border-bottom-color: var(--fill-color);\n",
              "    animation:\n",
              "      spin 1s steps(1) infinite;\n",
              "  }\n",
              "\n",
              "  @keyframes spin {\n",
              "    0% {\n",
              "      border-color: transparent;\n",
              "      border-bottom-color: var(--fill-color);\n",
              "      border-left-color: var(--fill-color);\n",
              "    }\n",
              "    20% {\n",
              "      border-color: transparent;\n",
              "      border-left-color: var(--fill-color);\n",
              "      border-top-color: var(--fill-color);\n",
              "    }\n",
              "    30% {\n",
              "      border-color: transparent;\n",
              "      border-left-color: var(--fill-color);\n",
              "      border-top-color: var(--fill-color);\n",
              "      border-right-color: var(--fill-color);\n",
              "    }\n",
              "    40% {\n",
              "      border-color: transparent;\n",
              "      border-right-color: var(--fill-color);\n",
              "      border-top-color: var(--fill-color);\n",
              "    }\n",
              "    60% {\n",
              "      border-color: transparent;\n",
              "      border-right-color: var(--fill-color);\n",
              "    }\n",
              "    80% {\n",
              "      border-color: transparent;\n",
              "      border-right-color: var(--fill-color);\n",
              "      border-bottom-color: var(--fill-color);\n",
              "    }\n",
              "    90% {\n",
              "      border-color: transparent;\n",
              "      border-bottom-color: var(--fill-color);\n",
              "    }\n",
              "  }\n",
              "</style>\n",
              "\n",
              "  <script>\n",
              "    async function quickchart(key) {\n",
              "      const quickchartButtonEl =\n",
              "        document.querySelector('#' + key + ' button');\n",
              "      quickchartButtonEl.disabled = true;  // To prevent multiple clicks.\n",
              "      quickchartButtonEl.classList.add('colab-df-spinner');\n",
              "      try {\n",
              "        const charts = await google.colab.kernel.invokeFunction(\n",
              "            'suggestCharts', [key], {});\n",
              "      } catch (error) {\n",
              "        console.error('Error during call to suggestCharts:', error);\n",
              "      }\n",
              "      quickchartButtonEl.classList.remove('colab-df-spinner');\n",
              "      quickchartButtonEl.classList.add('colab-df-quickchart-complete');\n",
              "    }\n",
              "    (() => {\n",
              "      let quickchartButtonEl =\n",
              "        document.querySelector('#df-70a09e77-8c3b-4fa5-9ba9-5eb030e9d60d button');\n",
              "      quickchartButtonEl.style.display =\n",
              "        google.colab.kernel.accessAllowed ? 'block' : 'none';\n",
              "    })();\n",
              "  </script>\n",
              "</div>\n",
              "\n",
              "    </div>\n",
              "  </div>\n"
            ]
          },
          "metadata": {},
          "execution_count": 5
        }
      ]
    },
    {
      "cell_type": "code",
      "source": [
        "#checking data types\n",
        "data_types = df.dtypes\n",
        "data_types"
      ],
      "metadata": {
        "colab": {
          "base_uri": "https://localhost:8080/"
        },
        "id": "NkMgTxIZImYS",
        "outputId": "ea50cedb-9261-4e48-e3cb-d52818cee133"
      },
      "execution_count": 6,
      "outputs": [
        {
          "output_type": "execute_result",
          "data": {
            "text/plain": [
              "OCCUPANCY_DATE            datetime64[ns]\n",
              "ORGANIZATION_NAME                 object\n",
              "PROGRAM_ID                         int64\n",
              "PROGRAM_NAME                      object\n",
              "SECTOR                            object\n",
              "PROGRAM_MODEL                     object\n",
              "OVERNIGHT_SERVICE_TYPE            object\n",
              "PROGRAM_AREA                      object\n",
              "SERVICE_USER_COUNT                 int64\n",
              "CAPACITY_TYPE                     object\n",
              "CAPACITY_ACTUAL_BED              float64\n",
              "OCCUPIED_BEDS                    float64\n",
              "CAPACITY_ACTUAL_ROOM             float64\n",
              "OCCUPIED_ROOMS                   float64\n",
              "dtype: object"
            ]
          },
          "metadata": {},
          "execution_count": 6
        }
      ]
    },
    {
      "cell_type": "code",
      "source": [
        "# Checking for missing values in the specified key columns\n",
        "key_columns = ['CAPACITY_TYPE', 'PROGRAM_MODEL', 'SERVICE_USER_COUNT',\n",
        "               'CAPACITY_ACTUAL_BED', 'OCCUPIED_BEDS',\n",
        "               'CAPACITY_ACTUAL_ROOM', 'OCCUPIED_ROOMS']\n",
        "\n",
        "missing_values_key_columns = df[key_columns].isnull().sum()\n",
        "missing_values_key_columns"
      ],
      "metadata": {
        "colab": {
          "base_uri": "https://localhost:8080/"
        },
        "id": "T4b0NLh2ImWU",
        "outputId": "349d6d4c-aeb7-4f4d-9939-3f527b0fc419"
      },
      "execution_count": 7,
      "outputs": [
        {
          "output_type": "execute_result",
          "data": {
            "text/plain": [
              "CAPACITY_TYPE               0\n",
              "PROGRAM_MODEL               2\n",
              "SERVICE_USER_COUNT          0\n",
              "CAPACITY_ACTUAL_BED     18545\n",
              "OCCUPIED_BEDS           18545\n",
              "CAPACITY_ACTUAL_ROOM    32399\n",
              "OCCUPIED_ROOMS          32399\n",
              "dtype: int64"
            ]
          },
          "metadata": {},
          "execution_count": 7
        }
      ]
    },
    {
      "cell_type": "code",
      "source": [
        "#checking data shape\n",
        "df.shape"
      ],
      "metadata": {
        "colab": {
          "base_uri": "https://localhost:8080/"
        },
        "id": "uHYx0bvfImcp",
        "outputId": "f75d4def-4840-470c-c534-6da87492bd98"
      },
      "execution_count": 8,
      "outputs": [
        {
          "output_type": "execute_result",
          "data": {
            "text/plain": [
              "(50944, 14)"
            ]
          },
          "metadata": {},
          "execution_count": 8
        }
      ]
    },
    {
      "cell_type": "code",
      "source": [
        "#drop 2 missing value under program model\n",
        "df1 = df.dropna(subset=['PROGRAM_MODEL'])"
      ],
      "metadata": {
        "id": "LqWbAbfcImfR"
      },
      "execution_count": 9,
      "outputs": []
    },
    {
      "cell_type": "code",
      "source": [
        "#verify if missing value has been dropped\n",
        "df1.shape"
      ],
      "metadata": {
        "colab": {
          "base_uri": "https://localhost:8080/"
        },
        "id": "cTHn9azuImiY",
        "outputId": "7810b992-bd55-4aba-b098-2166f98127e7"
      },
      "execution_count": 10,
      "outputs": [
        {
          "output_type": "execute_result",
          "data": {
            "text/plain": [
              "(50942, 14)"
            ]
          },
          "metadata": {},
          "execution_count": 10
        }
      ]
    },
    {
      "cell_type": "code",
      "source": [
        "#Check program model distribution\n",
        "df1[\"PROGRAM_MODEL\"].value_counts()"
      ],
      "metadata": {
        "colab": {
          "base_uri": "https://localhost:8080/"
        },
        "id": "HcF894-Pgo3s",
        "outputId": "ff541f9c-84d3-46f1-b3ad-717a8ebbd1c8"
      },
      "execution_count": 11,
      "outputs": [
        {
          "output_type": "execute_result",
          "data": {
            "text/plain": [
              "Emergency       41541\n",
              "Transitional     9401\n",
              "Name: PROGRAM_MODEL, dtype: int64"
            ]
          },
          "metadata": {},
          "execution_count": 11
        }
      ]
    },
    {
      "cell_type": "code",
      "source": [
        "# Creating a boxplot for SERVICE_USER_COUNT per PROGRAM_MODEL\n",
        "plt.figure(figsize=(10, 6))\n",
        "sns.boxplot(x='PROGRAM_MODEL', y='SERVICE_USER_COUNT', data=df1,palette='muted')\n",
        "\n",
        "# Setting the aesthetics for the plots\n",
        "sns.set(style=\"whitegrid\")\n",
        "\n",
        "plt.title('Service User Count per Program Model')\n",
        "plt.xlabel('Program Model')\n",
        "plt.ylabel('Service User Count')\n",
        "plt.show()\n"
      ],
      "metadata": {
        "colab": {
          "base_uri": "https://localhost:8080/",
          "height": 651
        },
        "id": "5NGkBT0FImjl",
        "outputId": "e0bb2e88-5807-4008-e4a0-57c93b10b626"
      },
      "execution_count": 12,
      "outputs": [
        {
          "output_type": "stream",
          "name": "stderr",
          "text": [
            "<ipython-input-12-efb6fb4dd04f>:3: FutureWarning: \n",
            "\n",
            "Passing `palette` without assigning `hue` is deprecated and will be removed in v0.14.0. Assign the `x` variable to `hue` and set `legend=False` for the same effect.\n",
            "\n",
            "  sns.boxplot(x='PROGRAM_MODEL', y='SERVICE_USER_COUNT', data=df1,palette='muted')\n"
          ]
        },
        {
          "output_type": "display_data",
          "data": {
            "text/plain": [
              "<Figure size 1000x600 with 1 Axes>"
            ],
            "image/png": "[encoded data removed]"
          },
          "metadata": {}
        }
      ]
    },
    {
      "cell_type": "code",
      "source": [
        "#checking capacity type distribution\n",
        "df1[\"CAPACITY_TYPE\"].value_counts()"
      ],
      "metadata": {
        "colab": {
          "base_uri": "https://localhost:8080/"
        },
        "id": "0TSE7QoGC59I",
        "outputId": "d14a50d7-e3d4-4657-b8c4-989216a56058"
      },
      "execution_count": 13,
      "outputs": [
        {
          "output_type": "execute_result",
          "data": {
            "text/plain": [
              "Bed Based Capacity     32397\n",
              "Room Based Capacity    18545\n",
              "Name: CAPACITY_TYPE, dtype: int64"
            ]
          },
          "metadata": {},
          "execution_count": 13
        }
      ]
    },
    {
      "cell_type": "code",
      "source": [
        "# creating a boxplot for Service User Count per Capacity Type\n",
        "fig, ax = plt.subplots(figsize=(12, 7))\n",
        "\n",
        "# Remove top and right border\n",
        "ax.spines['top'].set_visible(False)\n",
        "ax.spines['right'].set_visible(False)\n",
        "ax.spines['left'].set_visible(False)\n",
        "\n",
        "# Remove y-axis tick marks\n",
        "ax.yaxis.set_ticks_position('none')\n",
        "\n",
        "# Add major gridlines in the y-axis\n",
        "ax.grid(color='grey', axis='y', linestyle='-', linewidth=0.25, alpha=0.5)\n",
        "\n",
        "# Set plot title\n",
        "ax.set_title('Service User Count per Capacity Type')\n",
        "\n",
        "# Creating the boxplot for SERVICE_USER_COUNT per PROGRAM_MODEL with seaborn to leverage its advanced plotting capabilities\n",
        "sns.boxplot(x='CAPACITY_TYPE', y='SERVICE_USER_COUNT', data=df1, ax=ax,palette='Set2')\n",
        "\n",
        "# Show the plot\n",
        "plt.show()\n"
      ],
      "metadata": {
        "colab": {
          "base_uri": "https://localhost:8080/",
          "height": 737
        },
        "id": "HNZSgJ2vImlX",
        "outputId": "d95de2ef-57e3-4243-b968-8c09854afddf"
      },
      "execution_count": 14,
      "outputs": [
        {
          "output_type": "stream",
          "name": "stderr",
          "text": [
            "<ipython-input-14-d0d568c86eff>:19: FutureWarning: \n",
            "\n",
            "Passing `palette` without assigning `hue` is deprecated and will be removed in v0.14.0. Assign the `x` variable to `hue` and set `legend=False` for the same effect.\n",
            "\n",
            "  sns.boxplot(x='CAPACITY_TYPE', y='SERVICE_USER_COUNT', data=df1, ax=ax,palette='Set2')\n"
          ]
        },
        {
          "output_type": "display_data",
          "data": {
            "text/plain": [
              "<Figure size 1200x700 with 1 Axes>"
            ],
            "image/png": "[encoded data removed]"
          },
          "metadata": {}
        }
      ]
    },
    {
      "cell_type": "code",
      "source": [
        "# Calculate occupancy rates for both Room and Bed based capacities\n",
        "# Occupancy rate is calculated as the number of occupied units divided by the actual number of units available\n",
        "df1['ROOM_OCCUPANCY_RATE'] = df1['OCCUPIED_ROOMS'] / df1['CAPACITY_ACTUAL_ROOM']\n",
        "df1['BED_OCCUPANCY_RATE'] = df1['OCCUPIED_BEDS'] / df1['CAPACITY_ACTUAL_BED']\n",
        "\n",
        "# We'll group the data by PROGRAM_MODEL and calculate the average occupancy rates for each\n",
        "occupancy_rates_by_program_model = df1.groupby('PROGRAM_MODEL')[['ROOM_OCCUPANCY_RATE', 'BED_OCCUPANCY_RATE']].mean().reset_index()\n",
        "\n",
        "occupancy_rates_by_program_model\n"
      ],
      "metadata": {
        "colab": {
          "base_uri": "https://localhost:8080/",
          "height": 333
        },
        "id": "_FZv39xoImmb",
        "outputId": "659c8f50-dd12-4584-b09a-5691ff7b5221"
      },
      "execution_count": 15,
      "outputs": [
        {
          "output_type": "stream",
          "name": "stderr",
          "text": [
            "<ipython-input-15-49512371c551>:3: SettingWithCopyWarning: \n",
            "A value is trying to be set on a copy of a slice from a DataFrame.\n",
            "Try using .loc[row_indexer,col_indexer] = value instead\n",
            "\n",
            "See the caveats in the documentation: https://pandas.pydata.org/pandas-docs/stable/user_guide/indexing.html#returning-a-view-versus-a-copy\n",
            "  df1['ROOM_OCCUPANCY_RATE'] = df1['OCCUPIED_ROOMS'] / df1['CAPACITY_ACTUAL_ROOM']\n",
            "<ipython-input-15-49512371c551>:4: SettingWithCopyWarning: \n",
            "A value is trying to be set on a copy of a slice from a DataFrame.\n",
            "Try using .loc[row_indexer,col_indexer] = value instead\n",
            "\n",
            "See the caveats in the documentation: https://pandas.pydata.org/pandas-docs/stable/user_guide/indexing.html#returning-a-view-versus-a-copy\n",
            "  df1['BED_OCCUPANCY_RATE'] = df1['OCCUPIED_BEDS'] / df1['CAPACITY_ACTUAL_BED']\n"
          ]
        },
        {
          "output_type": "execute_result",
          "data": {
            "text/plain": [
              "  PROGRAM_MODEL  ROOM_OCCUPANCY_RATE  BED_OCCUPANCY_RATE\n",
              "0     Emergency             0.938630            0.943501\n",
              "1  Transitional             0.823207            0.885194"
            ],
            "text/html": [
              "\n",
              "  <div id=\"df-1bcaf033-f7fc-4478-bdd6-934f01ad025c\" class=\"colab-df-container\">\n",
              "    <div>\n",
              "<style scoped>\n",
              "    .dataframe tbody tr th:only-of-type {\n",
              "        vertical-align: middle;\n",
              "    }\n",
              "\n",
              "    .dataframe tbody tr th {\n",
              "        vertical-align: top;\n",
              "    }\n",
              "\n",
              "    .dataframe thead th {\n",
              "        text-align: right;\n",
              "    }\n",
              "</style>\n",
              "<table border=\"1\" class=\"dataframe\">\n",
              "  <thead>\n",
              "    <tr style=\"text-align: right;\">\n",
              "      <th></th>\n",
              "      <th>PROGRAM_MODEL</th>\n",
              "      <th>ROOM_OCCUPANCY_RATE</th>\n",
              "      <th>BED_OCCUPANCY_RATE</th>\n",
              "    </tr>\n",
              "  </thead>\n",
              "  <tbody>\n",
              "    <tr>\n",
              "      <th>0</th>\n",
              "      <td>Emergency</td>\n",
              "      <td>0.938630</td>\n",
              "      <td>0.943501</td>\n",
              "    </tr>\n",
              "    <tr>\n",
              "      <th>1</th>\n",
              "      <td>Transitional</td>\n",
              "      <td>0.823207</td>\n",
              "      <td>0.885194</td>\n",
              "    </tr>\n",
              "  </tbody>\n",
              "</table>\n",
              "</div>\n",
              "    <div class=\"colab-df-buttons\">\n",
              "\n",
              "  <div class=\"colab-df-container\">\n",
              "    <button class=\"colab-df-convert\" onclick=\"convertToInteractive('df-1bcaf033-f7fc-4478-bdd6-934f01ad025c')\"\n",
              "            title=\"Convert this dataframe to an interactive table.\"\n",
              "            style=\"display:none;\">\n",
              "\n",
              "  <svg xmlns=\"http://www.w3.org/2000/svg\" height=\"24px\" viewBox=\"0 -960 960 960\">\n",
              "    <path d=\"M120-120v-720h720v720H120Zm60-500h600v-160H180v160Zm220 220h160v-160H400v160Zm0 220h160v-160H400v160ZM180-400h160v-160H180v160Zm440 0h160v-160H620v160ZM180-180h160v-160H180v160Zm440 0h160v-160H620v160Z\"/>\n",
              "  </svg>\n",
              "    </button>\n",
              "\n",
              "  <style>\n",
              "    .colab-df-container {\n",
              "      display:flex;\n",
              "      gap: 12px;\n",
              "    }\n",
              "\n",
              "    .colab-df-convert {\n",
              "      background-color: #E8F0FE;\n",
              "      border: none;\n",
              "      border-radius: 50%;\n",
              "      cursor: pointer;\n",
              "      display: none;\n",
              "      fill: #1967D2;\n",
              "      height: 32px;\n",
              "      padding: 0 0 0 0;\n",
              "      width: 32px;\n",
              "    }\n",
              "\n",
              "    .colab-df-convert:hover {\n",
              "      background-color: #E2EBFA;\n",
              "      box-shadow: 0px 1px 2px rgba(60, 64, 67, 0.3), 0px 1px 3px 1px rgba(60, 64, 67, 0.15);\n",
              "      fill: #174EA6;\n",
              "    }\n",
              "\n",
              "    .colab-df-buttons div {\n",
              "      margin-bottom: 4px;\n",
              "    }\n",
              "\n",
              "    [theme=dark] .colab-df-convert {\n",
              "      background-color: #3B4455;\n",
              "      fill: #D2E3FC;\n",
              "    }\n",
              "\n",
              "    [theme=dark] .colab-df-convert:hover {\n",
              "      background-color: #434B5C;\n",
              "      box-shadow: 0px 1px 3px 1px rgba(0, 0, 0, 0.15);\n",
              "      filter: drop-shadow(0px 1px 2px rgba(0, 0, 0, 0.3));\n",
              "      fill: #FFFFFF;\n",
              "    }\n",
              "  </style>\n",
              "\n",
              "    <script>\n",
              "      const buttonEl =\n",
              "        document.querySelector('#df-1bcaf033-f7fc-4478-bdd6-934f01ad025c button.colab-df-convert');\n",
              "      buttonEl.style.display =\n",
              "        google.colab.kernel.accessAllowed ? 'block' : 'none';\n",
              "\n",
              "      async function convertToInteractive(key) {\n",
              "        const element = document.querySelector('#df-1bcaf033-f7fc-4478-bdd6-934f01ad025c');\n",
              "        const dataTable =\n",
              "          await google.colab.kernel.invokeFunction('convertToInteractive',\n",
              "                                                    [key], {});\n",
              "        if (!dataTable) return;\n",
              "\n",
              "        const docLinkHtml = 'Like what you see? Visit the ' +\n",
              "          '<a target=\"_blank\" href=https://colab.research.google.com/notebooks/data_table.ipynb>data table notebook</a>'\n",
              "          + ' to learn more about interactive tables.';\n",
              "        element.innerHTML = '';\n",
              "        dataTable['output_type'] = 'display_data';\n",
              "        await google.colab.output.renderOutput(dataTable, element);\n",
              "        const docLink = document.createElement('div');\n",
              "        docLink.innerHTML = docLinkHtml;\n",
              "        element.appendChild(docLink);\n",
              "      }\n",
              "    </script>\n",
              "  </div>\n",
              "\n",
              "\n",
              "<div id=\"df-d4cc8958-e148-4011-92c1-9a4645cce9fe\">\n",
              "  <button class=\"colab-df-quickchart\" onclick=\"quickchart('df-d4cc8958-e148-4011-92c1-9a4645cce9fe')\"\n",
              "            title=\"Suggest charts\"\n",
              "            style=\"display:none;\">\n",
              "\n",
              "<svg xmlns=\"http://www.w3.org/2000/svg\" height=\"24px\"viewBox=\"0 0 24 24\"\n",
              "     width=\"24px\">\n",
              "    <g>\n",
              "        <path d=\"M19 3H5c-1.1 0-2 .9-2 2v14c0 1.1.9 2 2 2h14c1.1 0 2-.9 2-2V5c0-1.1-.9-2-2-2zM9 17H7v-7h2v7zm4 0h-2V7h2v10zm4 0h-2v-4h2v4z\"/>\n",
              "    </g>\n",
              "</svg>\n",
              "  </button>\n",
              "\n",
              "<style>\n",
              "  .colab-df-quickchart {\n",
              "      --bg-color: #E8F0FE;\n",
              "      --fill-color: #1967D2;\n",
              "      --hover-bg-color: #E2EBFA;\n",
              "      --hover-fill-color: #174EA6;\n",
              "      --disabled-fill-color: #AAA;\n",
              "      --disabled-bg-color: #DDD;\n",
              "  }\n",
              "\n",
              "  [theme=dark] .colab-df-quickchart {\n",
              "      --bg-color: #3B4455;\n",
              "      --fill-color: #D2E3FC;\n",
              "      --hover-bg-color: #434B5C;\n",
              "      --hover-fill-color: #FFFFFF;\n",
              "      --disabled-bg-color: #3B4455;\n",
              "      --disabled-fill-color: #666;\n",
              "  }\n",
              "\n",
              "  .colab-df-quickchart {\n",
              "    background-color: var(--bg-color);\n",
              "    border: none;\n",
              "    border-radius: 50%;\n",
              "    cursor: pointer;\n",
              "    display: none;\n",
              "    fill: var(--fill-color);\n",
              "    height: 32px;\n",
              "    padding: 0;\n",
              "    width: 32px;\n",
              "  }\n",
              "\n",
              "  .colab-df-quickchart:hover {\n",
              "    background-color: var(--hover-bg-color);\n",
              "    box-shadow: 0 1px 2px rgba(60, 64, 67, 0.3), 0 1px 3px 1px rgba(60, 64, 67, 0.15);\n",
              "    fill: var(--button-hover-fill-color);\n",
              "  }\n",
              "\n",
              "  .colab-df-quickchart-complete:disabled,\n",
              "  .colab-df-quickchart-complete:disabled:hover {\n",
              "    background-color: var(--disabled-bg-color);\n",
              "    fill: var(--disabled-fill-color);\n",
              "    box-shadow: none;\n",
              "  }\n",
              "\n",
              "  .colab-df-spinner {\n",
              "    border: 2px solid var(--fill-color);\n",
              "    border-color: transparent;\n",
              "    border-bottom-color: var(--fill-color);\n",
              "    animation:\n",
              "      spin 1s steps(1) infinite;\n",
              "  }\n",
              "\n",
              "  @keyframes spin {\n",
              "    0% {\n",
              "      border-color: transparent;\n",
              "      border-bottom-color: var(--fill-color);\n",
              "      border-left-color: var(--fill-color);\n",
              "    }\n",
              "    20% {\n",
              "      border-color: transparent;\n",
              "      border-left-color: var(--fill-color);\n",
              "      border-top-color: var(--fill-color);\n",
              "    }\n",
              "    30% {\n",
              "      border-color: transparent;\n",
              "      border-left-color: var(--fill-color);\n",
              "      border-top-color: var(--fill-color);\n",
              "      border-right-color: var(--fill-color);\n",
              "    }\n",
              "    40% {\n",
              "      border-color: transparent;\n",
              "      border-right-color: var(--fill-color);\n",
              "      border-top-color: var(--fill-color);\n",
              "    }\n",
              "    60% {\n",
              "      border-color: transparent;\n",
              "      border-right-color: var(--fill-color);\n",
              "    }\n",
              "    80% {\n",
              "      border-color: transparent;\n",
              "      border-right-color: var(--fill-color);\n",
              "      border-bottom-color: var(--fill-color);\n",
              "    }\n",
              "    90% {\n",
              "      border-color: transparent;\n",
              "      border-bottom-color: var(--fill-color);\n",
              "    }\n",
              "  }\n",
              "</style>\n",
              "\n",
              "  <script>\n",
              "    async function quickchart(key) {\n",
              "      const quickchartButtonEl =\n",
              "        document.querySelector('#' + key + ' button');\n",
              "      quickchartButtonEl.disabled = true;  // To prevent multiple clicks.\n",
              "      quickchartButtonEl.classList.add('colab-df-spinner');\n",
              "      try {\n",
              "        const charts = await google.colab.kernel.invokeFunction(\n",
              "            'suggestCharts', [key], {});\n",
              "      } catch (error) {\n",
              "        console.error('Error during call to suggestCharts:', error);\n",
              "      }\n",
              "      quickchartButtonEl.classList.remove('colab-df-spinner');\n",
              "      quickchartButtonEl.classList.add('colab-df-quickchart-complete');\n",
              "    }\n",
              "    (() => {\n",
              "      let quickchartButtonEl =\n",
              "        document.querySelector('#df-d4cc8958-e148-4011-92c1-9a4645cce9fe button');\n",
              "      quickchartButtonEl.style.display =\n",
              "        google.colab.kernel.accessAllowed ? 'block' : 'none';\n",
              "    })();\n",
              "  </script>\n",
              "</div>\n",
              "\n",
              "  <div id=\"id_46470017-be02-404d-ba19-0db7b23c7481\">\n",
              "    <style>\n",
              "      .colab-df-generate {\n",
              "        background-color: #E8F0FE;\n",
              "        border: none;\n",
              "        border-radius: 50%;\n",
              "        cursor: pointer;\n",
              "        display: none;\n",
              "        fill: #1967D2;\n",
              "        height: 32px;\n",
              "        padding: 0 0 0 0;\n",
              "        width: 32px;\n",
              "      }\n",
              "\n",
              "      .colab-df-generate:hover {\n",
              "        background-color: #E2EBFA;\n",
              "        box-shadow: 0px 1px 2px rgba(60, 64, 67, 0.3), 0px 1px 3px 1px rgba(60, 64, 67, 0.15);\n",
              "        fill: #174EA6;\n",
              "      }\n",
              "\n",
              "      [theme=dark] .colab-df-generate {\n",
              "        background-color: #3B4455;\n",
              "        fill: #D2E3FC;\n",
              "      }\n",
              "\n",
              "      [theme=dark] .colab-df-generate:hover {\n",
              "        background-color: #434B5C;\n",
              "        box-shadow: 0px 1px 3px 1px rgba(0, 0, 0, 0.15);\n",
              "        filter: drop-shadow(0px 1px 2px rgba(0, 0, 0, 0.3));\n",
              "        fill: #FFFFFF;\n",
              "      }\n",
              "    </style>\n",
              "    <button class=\"colab-df-generate\" onclick=\"generateWithVariable('occupancy_rates_by_program_model')\"\n",
              "            title=\"Generate code using this dataframe.\"\n",
              "            style=\"display:none;\">\n",
              "\n",
              "  <svg xmlns=\"http://www.w3.org/2000/svg\" height=\"24px\"viewBox=\"0 0 24 24\"\n",
              "       width=\"24px\">\n",
              "    <path d=\"M7,19H8.4L18.45,9,17,7.55,7,17.6ZM5,21V16.75L18.45,3.32a2,2,0,0,1,2.83,0l1.4,1.43a1.91,1.91,0,0,1,.58,1.4,1.91,1.91,0,0,1-.58,1.4L9.25,21ZM18.45,9,17,7.55Zm-12,3A5.31,5.31,0,0,0,4.9,8.1,5.31,5.31,0,0,0,1,6.5,5.31,5.31,0,0,0,4.9,4.9,5.31,5.31,0,0,0,6.5,1,5.31,5.31,0,0,0,8.1,4.9,5.31,5.31,0,0,0,12,6.5,5.46,5.46,0,0,0,6.5,12Z\"/>\n",
              "  </svg>\n",
              "    </button>\n",
              "    <script>\n",
              "      (() => {\n",
              "      const buttonEl =\n",
              "        document.querySelector('#id_46470017-be02-404d-ba19-0db7b23c7481 button.colab-df-generate');\n",
              "      buttonEl.style.display =\n",
              "        google.colab.kernel.accessAllowed ? 'block' : 'none';\n",
              "\n",
              "      buttonEl.onclick = () => {\n",
              "        google.colab.notebook.generateWithVariable('occupancy_rates_by_program_model');\n",
              "      }\n",
              "      })();\n",
              "    </script>\n",
              "  </div>\n",
              "\n",
              "    </div>\n",
              "  </div>\n"
            ]
          },
          "metadata": {},
          "execution_count": 15
        }
      ]
    },
    {
      "cell_type": "code",
      "source": [
        "# Plotting the stacked bar chart\n",
        "fig, ax = plt.subplots()\n",
        "\n",
        "# Define the x-axis for the bar positions\n",
        "ind = range(len(occupancy_rates_by_program_model))\n",
        "\n",
        "# Bar width\n",
        "width = 0.4\n",
        "\n",
        "# Plot the Room Occupancy Rate\n",
        "ax.bar(ind, occupancy_rates_by_program_model['ROOM_OCCUPANCY_RATE'], width, label='Room Occupancy Rate', color='skyblue')\n",
        "\n",
        "# Plot the Bed Occupancy Rate on top of the Room Occupancy Rate\n",
        "ax.bar(ind, occupancy_rates_by_program_model['BED_OCCUPANCY_RATE'], width,\n",
        "       bottom=occupancy_rates_by_program_model['ROOM_OCCUPANCY_RATE'], label='Bed Occupancy Rate', color='lightgreen')\n",
        "\n",
        "# Set the labels and title\n",
        "ax.set_ylabel('Occupancy Rates')\n",
        "ax.set_title('Occupancy Rates by Program Model')\n",
        "ax.set_xticks(ind)\n",
        "ax.set_xticklabels(occupancy_rates_by_program_model['PROGRAM_MODEL'])\n",
        "ax.legend()\n",
        "\n",
        "# Moving the legend to outside the plot area\n",
        "ax.legend(loc='upper left', bbox_to_anchor=(1, 1))\n",
        "\n",
        "# Show the plot\n",
        "plt.show()\n"
      ],
      "metadata": {
        "colab": {
          "base_uri": "https://localhost:8080/",
          "height": 457
        },
        "id": "k-uB492rL5o8",
        "outputId": "924d88a6-6960-48b6-c8d6-1ae2e3003520"
      },
      "execution_count": 16,
      "outputs": [
        {
          "output_type": "display_data",
          "data": {
            "text/plain": [
              "<Figure size 640x480 with 1 Axes>"
            ],
            "image/png": "[encoded data removed]"
          },
          "metadata": {}
        }
      ]
    },
    {
      "cell_type": "code",
      "source": [
        "from scipy.stats import ttest_ind\n",
        "\n",
        "# Filter the SERVICE_USER_COUNT data for each PROGRAM_MODEL category in df1\n",
        "emergency_service_user_count = df1[df1['PROGRAM_MODEL'] == 'Emergency']['SERVICE_USER_COUNT']\n",
        "transitional_service_user_count = df1[df1['PROGRAM_MODEL'] == 'Transitional']['SERVICE_USER_COUNT']\n",
        "\n",
        "# Perform an independent samples t-test between the service user counts of Emergency and Transitional program models\n",
        "t_stat_service_count, p_value_service_count = ttest_ind(\n",
        "    emergency_service_user_count.dropna(),\n",
        "    transitional_service_user_count.dropna(),\n",
        "    equal_var=False\n",
        ")\n",
        "\n",
        "# Output the results\n",
        "print(f\"T-statistic: {t_stat_service_count}, P-value: {p_value_service_count:.5f}\")\n",
        "\n"
      ],
      "metadata": {
        "colab": {
          "base_uri": "https://localhost:8080/"
        },
        "id": "Zq6AGSOuImoX",
        "outputId": "63ebe11a-6c33-40ed-e4c1-d13539877ac0"
      },
      "execution_count": 18,
      "outputs": [
        {
          "output_type": "stream",
          "name": "stdout",
          "text": [
            "T-statistic: 38.85174699254652, P-value: 0.00000\n"
          ]
        }
      ]
    },
    {
      "cell_type": "code",
      "source": [
        "\n",
        "# Filter the ROOM_OCCUPANCY_RATE data for each PROGRAM_MODEL category\n",
        "emergency_room_occupancy_rate = df1[df1['PROGRAM_MODEL'] == 'Emergency']['ROOM_OCCUPANCY_RATE']\n",
        "transitional_room_occupancy_rate = df1[df1['PROGRAM_MODEL'] == 'Transitional']['ROOM_OCCUPANCY_RATE']\n",
        "\n",
        "# Perform an independent samples t-test between the room occupancy rates of Emergency and Transitional program models\n",
        "t_stat_room_occupancy, p_value_room_occupancy = ttest_ind(\n",
        "    emergency_room_occupancy_rate.dropna(),\n",
        "    transitional_room_occupancy_rate.dropna(),\n",
        "    equal_var=False\n",
        ")\n",
        "\n",
        "# Output the results\n",
        "print(f\"T-statistic: {t_stat_room_occupancy}, P-value: {p_value_room_occupancy:.5f}\")\n"
      ],
      "metadata": {
        "colab": {
          "base_uri": "https://localhost:8080/"
        },
        "id": "soxyux9rImsF",
        "outputId": "c5b66c3e-c0c1-42a4-a27d-a94f74cabd67"
      },
      "execution_count": 21,
      "outputs": [
        {
          "output_type": "stream",
          "name": "stdout",
          "text": [
            "T-statistic: 31.71080126309493, P-value: 0.00000\n"
          ]
        }
      ]
    },
    {
      "cell_type": "code",
      "source": [
        "#Visualize the overall change in service user counts for both Emergency and Transitional shelters across different months\n",
        "df1['MONTH'] = df1['OCCUPANCY_DATE'].dt.to_period('M')\n",
        "\n",
        "# Grouping by 'MONTH' and 'PROGRAM_MODEL' and calculating the mean\n",
        "monthly_occupancy = df1.groupby(['MONTH', 'PROGRAM_MODEL'])['SERVICE_USER_COUNT'].mean().reset_index()\n",
        "\n",
        "# Pivot the data for plotting\n",
        "monthly_occupancy_pivot = monthly_occupancy.pivot(index='MONTH', columns='PROGRAM_MODEL', values='SERVICE_USER_COUNT')\n",
        "\n",
        "# Plotting\n",
        "plt.figure(figsize=(12, 6))\n",
        "monthly_occupancy_pivot.plot(kind='line', marker='o')\n",
        "plt.title('Monthly Change in Service User Counts for Shelter Programs')\n",
        "plt.xlabel('Month')\n",
        "plt.ylabel('Average Service User Count')\n",
        "plt.legend(title='Program Model')\n",
        "plt.tight_layout()\n",
        "plt.show()\n"
      ],
      "metadata": {
        "colab": {
          "base_uri": "https://localhost:8080/",
          "height": 602
        },
        "id": "kXsoSoJ9IkUZ",
        "outputId": "f50f761a-ce5c-40db-8e04-1224319ff4bd"
      },
      "execution_count": 25,
      "outputs": [
        {
          "output_type": "stream",
          "name": "stderr",
          "text": [
            "<ipython-input-25-de52a03be7ac>:2: SettingWithCopyWarning: \n",
            "A value is trying to be set on a copy of a slice from a DataFrame.\n",
            "Try using .loc[row_indexer,col_indexer] = value instead\n",
            "\n",
            "See the caveats in the documentation: https://pandas.pydata.org/pandas-docs/stable/user_guide/indexing.html#returning-a-view-versus-a-copy\n",
            "  df1['MONTH'] = df1['OCCUPANCY_DATE'].dt.to_period('M')\n"
          ]
        },
        {
          "output_type": "display_data",
          "data": {
            "text/plain": [
              "<Figure size 1200x600 with 0 Axes>"
            ]
          },
          "metadata": {}
        },
        {
          "output_type": "display_data",
          "data": {
            "text/plain": [
              "<Figure size 640x480 with 1 Axes>"
            ],
            "image/png": "[encoded data removed]"
          },
          "metadata": {}
        }
      ]
    }
  ]
}