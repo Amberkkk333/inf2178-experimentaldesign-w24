{
  "nbformat": 4,
  "nbformat_minor": 0,
  "metadata": {
    "colab": {
      "provenance": [],
      "collapsed_sections": [
        "gEhIkG4LeSBR",
        "qdu2_4wz1kbd"
      ]
    },
    "kernelspec": {
      "name": "python3",
      "display_name": "Python 3"
    },
    "language_info": {
      "name": "python"
    }
  },
  "cells": [
    {
      "cell_type": "markdown",
      "source": [
        "# Load packages and data\n",
        "\n",
        "Pre-process the data to have a general sense of the data"
      ],
      "metadata": {
        "id": "gEhIkG4LeSBR"
      }
    },
    {
      "cell_type": "code",
      "source": [
        "import pandas as pd\n",
        "import seaborn as sns\n",
        "import matplotlib.pyplot as plt\n",
        "import numpy as np\n",
        "from scipy import stats"
      ],
      "metadata": {
        "id": "XM4BN9RQeO9m"
      },
      "execution_count": null,
      "outputs": []
    },
    {
      "cell_type": "code",
      "execution_count": null,
      "metadata": {
        "colab": {
          "base_uri": "https://localhost:8080/",
          "height": 556
        },
        "id": "65IUxSrVFA8U",
        "outputId": "8e83589a-b5e0-4db2-da17-e06e80f3dbb3"
      },
      "outputs": [
        {
          "output_type": "execute_result",
          "data": {
            "text/plain": [
              "  OCCUPANCY_DATE         ORGANIZATION_NAME  PROGRAM_ID  \\\n",
              "0     2021-01-01  COSTI Immigrant Services       15371   \n",
              "1     2021-01-01  COSTI Immigrant Services       16211   \n",
              "2     2021-01-01  COSTI Immigrant Services       16192   \n",
              "3     2021-01-01  COSTI Immigrant Services       16191   \n",
              "4     2021-01-01  COSTI Immigrant Services       16193   \n",
              "\n",
              "                                        PROGRAM_NAME       SECTOR  \\\n",
              "0       COSTI North York West Hotel - Family Program     Families   \n",
              "1      COSTI North York West Hotel - Seniors Program  Mixed Adult   \n",
              "2          COSTI North York West Hotel Program - Men          Men   \n",
              "3  COSTI North York West Hotel Program - Mixed Adult  Mixed Adult   \n",
              "4        COSTI North York West Hotel Program - Women        Women   \n",
              "\n",
              "  PROGRAM_MODEL OVERNIGHT_SERVICE_TYPE       PROGRAM_AREA  SERVICE_USER_COUNT  \\\n",
              "0     Emergency    Motel/Hotel Shelter  COVID-19 Response                  74   \n",
              "1     Emergency    Motel/Hotel Shelter  COVID-19 Response                   3   \n",
              "2     Emergency    Motel/Hotel Shelter  COVID-19 Response                  24   \n",
              "3     Emergency    Motel/Hotel Shelter  COVID-19 Response                  25   \n",
              "4     Emergency    Motel/Hotel Shelter  COVID-19 Response                  13   \n",
              "\n",
              "         CAPACITY_TYPE  CAPACITY_ACTUAL_BED  OCCUPIED_BEDS  \\\n",
              "0  Room Based Capacity                  NaN            NaN   \n",
              "1  Room Based Capacity                  NaN            NaN   \n",
              "2  Room Based Capacity                  NaN            NaN   \n",
              "3  Room Based Capacity                  NaN            NaN   \n",
              "4  Room Based Capacity                  NaN            NaN   \n",
              "\n",
              "   CAPACITY_ACTUAL_ROOM  OCCUPIED_ROOMS  \n",
              "0                  29.0            26.0  \n",
              "1                   3.0             3.0  \n",
              "2                  28.0            23.0  \n",
              "3                  17.0            17.0  \n",
              "4                  14.0            13.0  "
            ],
            "text/html": [
              "\n",
              "  <div id=\"df-1bbb6854-0631-4dd1-86e5-6622a443e354\" class=\"colab-df-container\">\n",
              "    <div>\n",
              "<style scoped>\n",
              "    .dataframe tbody tr th:only-of-type {\n",
              "        vertical-align: middle;\n",
              "    }\n",
              "\n",
              "    .dataframe tbody tr th {\n",
              "        vertical-align: top;\n",
              "    }\n",
              "\n",
              "    .dataframe thead th {\n",
              "        text-align: right;\n",
              "    }\n",
              "</style>\n",
              "<table border=\"1\" class=\"dataframe\">\n",
              "  <thead>\n",
              "    <tr style=\"text-align: right;\">\n",
              "      <th></th>\n",
              "      <th>OCCUPANCY_DATE</th>\n",
              "      <th>ORGANIZATION_NAME</th>\n",
              "      <th>PROGRAM_ID</th>\n",
              "      <th>PROGRAM_NAME</th>\n",
              "      <th>SECTOR</th>\n",
              "      <th>PROGRAM_MODEL</th>\n",
              "      <th>OVERNIGHT_SERVICE_TYPE</th>\n",
              "      <th>PROGRAM_AREA</th>\n",
              "      <th>SERVICE_USER_COUNT</th>\n",
              "      <th>CAPACITY_TYPE</th>\n",
              "      <th>CAPACITY_ACTUAL_BED</th>\n",
              "      <th>OCCUPIED_BEDS</th>\n",
              "      <th>CAPACITY_ACTUAL_ROOM</th>\n",
              "      <th>OCCUPIED_ROOMS</th>\n",
              "    </tr>\n",
              "  </thead>\n",
              "  <tbody>\n",
              "    <tr>\n",
              "      <th>0</th>\n",
              "      <td>2021-01-01</td>\n",
              "      <td>COSTI Immigrant Services</td>\n",
              "      <td>15371</td>\n",
              "      <td>COSTI North York West Hotel - Family Program</td>\n",
              "      <td>Families</td>\n",
              "      <td>Emergency</td>\n",
              "      <td>Motel/Hotel Shelter</td>\n",
              "      <td>COVID-19 Response</td>\n",
              "      <td>74</td>\n",
              "      <td>Room Based Capacity</td>\n",
              "      <td>NaN</td>\n",
              "      <td>NaN</td>\n",
              "      <td>29.0</td>\n",
              "      <td>26.0</td>\n",
              "    </tr>\n",
              "    <tr>\n",
              "      <th>1</th>\n",
              "      <td>2021-01-01</td>\n",
              "      <td>COSTI Immigrant Services</td>\n",
              "      <td>16211</td>\n",
              "      <td>COSTI North York West Hotel - Seniors Program</td>\n",
              "      <td>Mixed Adult</td>\n",
              "      <td>Emergency</td>\n",
              "      <td>Motel/Hotel Shelter</td>\n",
              "      <td>COVID-19 Response</td>\n",
              "      <td>3</td>\n",
              "      <td>Room Based Capacity</td>\n",
              "      <td>NaN</td>\n",
              "      <td>NaN</td>\n",
              "      <td>3.0</td>\n",
              "      <td>3.0</td>\n",
              "    </tr>\n",
              "    <tr>\n",
              "      <th>2</th>\n",
              "      <td>2021-01-01</td>\n",
              "      <td>COSTI Immigrant Services</td>\n",
              "      <td>16192</td>\n",
              "      <td>COSTI North York West Hotel Program - Men</td>\n",
              "      <td>Men</td>\n",
              "      <td>Emergency</td>\n",
              "      <td>Motel/Hotel Shelter</td>\n",
              "      <td>COVID-19 Response</td>\n",
              "      <td>24</td>\n",
              "      <td>Room Based Capacity</td>\n",
              "      <td>NaN</td>\n",
              "      <td>NaN</td>\n",
              "      <td>28.0</td>\n",
              "      <td>23.0</td>\n",
              "    </tr>\n",
              "    <tr>\n",
              "      <th>3</th>\n",
              "      <td>2021-01-01</td>\n",
              "      <td>COSTI Immigrant Services</td>\n",
              "      <td>16191</td>\n",
              "      <td>COSTI North York West Hotel Program - Mixed Adult</td>\n",
              "      <td>Mixed Adult</td>\n",
              "      <td>Emergency</td>\n",
              "      <td>Motel/Hotel Shelter</td>\n",
              "      <td>COVID-19 Response</td>\n",
              "      <td>25</td>\n",
              "      <td>Room Based Capacity</td>\n",
              "      <td>NaN</td>\n",
              "      <td>NaN</td>\n",
              "      <td>17.0</td>\n",
              "      <td>17.0</td>\n",
              "    </tr>\n",
              "    <tr>\n",
              "      <th>4</th>\n",
              "      <td>2021-01-01</td>\n",
              "      <td>COSTI Immigrant Services</td>\n",
              "      <td>16193</td>\n",
              "      <td>COSTI North York West Hotel Program - Women</td>\n",
              "      <td>Women</td>\n",
              "      <td>Emergency</td>\n",
              "      <td>Motel/Hotel Shelter</td>\n",
              "      <td>COVID-19 Response</td>\n",
              "      <td>13</td>\n",
              "      <td>Room Based Capacity</td>\n",
              "      <td>NaN</td>\n",
              "      <td>NaN</td>\n",
              "      <td>14.0</td>\n",
              "      <td>13.0</td>\n",
              "    </tr>\n",
              "  </tbody>\n",
              "</table>\n",
              "</div>\n",
              "    <div class=\"colab-df-buttons\">\n",
              "\n",
              "  <div class=\"colab-df-container\">\n",
              "    <button class=\"colab-df-convert\" onclick=\"convertToInteractive('df-1bbb6854-0631-4dd1-86e5-6622a443e354')\"\n",
              "            title=\"Convert this dataframe to an interactive table.\"\n",
              "            style=\"display:none;\">\n",
              "\n",
              "  <svg xmlns=\"http://www.w3.org/2000/svg\" height=\"24px\" viewBox=\"0 -960 960 960\">\n",
              "    <path d=\"M120-120v-720h720v720H120Zm60-500h600v-160H180v160Zm220 220h160v-160H400v160Zm0 220h160v-160H400v160ZM180-400h160v-160H180v160Zm440 0h160v-160H620v160ZM180-180h160v-160H180v160Zm440 0h160v-160H620v160Z\"/>\n",
              "  </svg>\n",
              "    </button>\n",
              "\n",
              "  <style>\n",
              "    .colab-df-container {\n",
              "      display:flex;\n",
              "      gap: 12px;\n",
              "    }\n",
              "\n",
              "    .colab-df-convert {\n",
              "      background-color: #E8F0FE;\n",
              "      border: none;\n",
              "      border-radius: 50%;\n",
              "      cursor: pointer;\n",
              "      display: none;\n",
              "      fill: #1967D2;\n",
              "      height: 32px;\n",
              "      padding: 0 0 0 0;\n",
              "      width: 32px;\n",
              "    }\n",
              "\n",
              "    .colab-df-convert:hover {\n",
              "      background-color: #E2EBFA;\n",
              "      box-shadow: 0px 1px 2px rgba(60, 64, 67, 0.3), 0px 1px 3px 1px rgba(60, 64, 67, 0.15);\n",
              "      fill: #174EA6;\n",
              "    }\n",
              "\n",
              "    .colab-df-buttons div {\n",
              "      margin-bottom: 4px;\n",
              "    }\n",
              "\n",
              "    [theme=dark] .colab-df-convert {\n",
              "      background-color: #3B4455;\n",
              "      fill: #D2E3FC;\n",
              "    }\n",
              "\n",
              "    [theme=dark] .colab-df-convert:hover {\n",
              "      background-color: #434B5C;\n",
              "      box-shadow: 0px 1px 3px 1px rgba(0, 0, 0, 0.15);\n",
              "      filter: drop-shadow(0px 1px 2px rgba(0, 0, 0, 0.3));\n",
              "      fill: #FFFFFF;\n",
              "    }\n",
              "  </style>\n",
              "\n",
              "    <script>\n",
              "      const buttonEl =\n",
              "        document.querySelector('#df-1bbb6854-0631-4dd1-86e5-6622a443e354 button.colab-df-convert');\n",
              "      buttonEl.style.display =\n",
              "        google.colab.kernel.accessAllowed ? 'block' : 'none';\n",
              "\n",
              "      async function convertToInteractive(key) {\n",
              "        const element = document.querySelector('#df-1bbb6854-0631-4dd1-86e5-6622a443e354');\n",
              "        const dataTable =\n",
              "          await google.colab.kernel.invokeFunction('convertToInteractive',\n",
              "                                                    [key], {});\n",
              "        if (!dataTable) return;\n",
              "\n",
              "        const docLinkHtml = 'Like what you see? Visit the ' +\n",
              "          '<a target=\"_blank\" href=https://colab.research.google.com/notebooks/data_table.ipynb>data table notebook</a>'\n",
              "          + ' to learn more about interactive tables.';\n",
              "        element.innerHTML = '';\n",
              "        dataTable['output_type'] = 'display_data';\n",
              "        await google.colab.output.renderOutput(dataTable, element);\n",
              "        const docLink = document.createElement('div');\n",
              "        docLink.innerHTML = docLinkHtml;\n",
              "        element.appendChild(docLink);\n",
              "      }\n",
              "    </script>\n",
              "  </div>\n",
              "\n",
              "\n",
              "<div id=\"df-1da08ca7-fe94-4e97-a047-9e957c4529c7\">\n",
              "  <button class=\"colab-df-quickchart\" onclick=\"quickchart('df-1da08ca7-fe94-4e97-a047-9e957c4529c7')\"\n",
              "            title=\"Suggest charts\"\n",
              "            style=\"display:none;\">\n",
              "\n",
              "<svg xmlns=\"http://www.w3.org/2000/svg\" height=\"24px\"viewBox=\"0 0 24 24\"\n",
              "     width=\"24px\">\n",
              "    <g>\n",
              "        <path d=\"M19 3H5c-1.1 0-2 .9-2 2v14c0 1.1.9 2 2 2h14c1.1 0 2-.9 2-2V5c0-1.1-.9-2-2-2zM9 17H7v-7h2v7zm4 0h-2V7h2v10zm4 0h-2v-4h2v4z\"/>\n",
              "    </g>\n",
              "</svg>\n",
              "  </button>\n",
              "\n",
              "<style>\n",
              "  .colab-df-quickchart {\n",
              "      --bg-color: #E8F0FE;\n",
              "      --fill-color: #1967D2;\n",
              "      --hover-bg-color: #E2EBFA;\n",
              "      --hover-fill-color: #174EA6;\n",
              "      --disabled-fill-color: #AAA;\n",
              "      --disabled-bg-color: #DDD;\n",
              "  }\n",
              "\n",
              "  [theme=dark] .colab-df-quickchart {\n",
              "      --bg-color: #3B4455;\n",
              "      --fill-color: #D2E3FC;\n",
              "      --hover-bg-color: #434B5C;\n",
              "      --hover-fill-color: #FFFFFF;\n",
              "      --disabled-bg-color: #3B4455;\n",
              "      --disabled-fill-color: #666;\n",
              "  }\n",
              "\n",
              "  .colab-df-quickchart {\n",
              "    background-color: var(--bg-color);\n",
              "    border: none;\n",
              "    border-radius: 50%;\n",
              "    cursor: pointer;\n",
              "    display: none;\n",
              "    fill: var(--fill-color);\n",
              "    height: 32px;\n",
              "    padding: 0;\n",
              "    width: 32px;\n",
              "  }\n",
              "\n",
              "  .colab-df-quickchart:hover {\n",
              "    background-color: var(--hover-bg-color);\n",
              "    box-shadow: 0 1px 2px rgba(60, 64, 67, 0.3), 0 1px 3px 1px rgba(60, 64, 67, 0.15);\n",
              "    fill: var(--button-hover-fill-color);\n",
              "  }\n",
              "\n",
              "  .colab-df-quickchart-complete:disabled,\n",
              "  .colab-df-quickchart-complete:disabled:hover {\n",
              "    background-color: var(--disabled-bg-color);\n",
              "    fill: var(--disabled-fill-color);\n",
              "    box-shadow: none;\n",
              "  }\n",
              "\n",
              "  .colab-df-spinner {\n",
              "    border: 2px solid var(--fill-color);\n",
              "    border-color: transparent;\n",
              "    border-bottom-color: var(--fill-color);\n",
              "    animation:\n",
              "      spin 1s steps(1) infinite;\n",
              "  }\n",
              "\n",
              "  @keyframes spin {\n",
              "    0% {\n",
              "      border-color: transparent;\n",
              "      border-bottom-color: var(--fill-color);\n",
              "      border-left-color: var(--fill-color);\n",
              "    }\n",
              "    20% {\n",
              "      border-color: transparent;\n",
              "      border-left-color: var(--fill-color);\n",
              "      border-top-color: var(--fill-color);\n",
              "    }\n",
              "    30% {\n",
              "      border-color: transparent;\n",
              "      border-left-color: var(--fill-color);\n",
              "      border-top-color: var(--fill-color);\n",
              "      border-right-color: var(--fill-color);\n",
              "    }\n",
              "    40% {\n",
              "      border-color: transparent;\n",
              "      border-right-color: var(--fill-color);\n",
              "      border-top-color: var(--fill-color);\n",
              "    }\n",
              "    60% {\n",
              "      border-color: transparent;\n",
              "      border-right-color: var(--fill-color);\n",
              "    }\n",
              "    80% {\n",
              "      border-color: transparent;\n",
              "      border-right-color: var(--fill-color);\n",
              "      border-bottom-color: var(--fill-color);\n",
              "    }\n",
              "    90% {\n",
              "      border-color: transparent;\n",
              "      border-bottom-color: var(--fill-color);\n",
              "    }\n",
              "  }\n",
              "</style>\n",
              "\n",
              "  <script>\n",
              "    async function quickchart(key) {\n",
              "      const quickchartButtonEl =\n",
              "        document.querySelector('#' + key + ' button');\n",
              "      quickchartButtonEl.disabled = true;  // To prevent multiple clicks.\n",
              "      quickchartButtonEl.classList.add('colab-df-spinner');\n",
              "      try {\n",
              "        const charts = await google.colab.kernel.invokeFunction(\n",
              "            'suggestCharts', [key], {});\n",
              "      } catch (error) {\n",
              "        console.error('Error during call to suggestCharts:', error);\n",
              "      }\n",
              "      quickchartButtonEl.classList.remove('colab-df-spinner');\n",
              "      quickchartButtonEl.classList.add('colab-df-quickchart-complete');\n",
              "    }\n",
              "    (() => {\n",
              "      let quickchartButtonEl =\n",
              "        document.querySelector('#df-1da08ca7-fe94-4e97-a047-9e957c4529c7 button');\n",
              "      quickchartButtonEl.style.display =\n",
              "        google.colab.kernel.accessAllowed ? 'block' : 'none';\n",
              "    })();\n",
              "  </script>\n",
              "</div>\n",
              "\n",
              "    </div>\n",
              "  </div>\n"
            ]
          },
          "metadata": {},
          "execution_count": 30
        }
      ],
      "source": [
        "# load the data\n",
        "data = pd.read_excel('INF2178_A1_data.xlsx')\n",
        "data.head()"
      ]
    },
    {
      "cell_type": "code",
      "source": [
        "# to have a general sense of the entire dataframe\n",
        "data.info()"
      ],
      "metadata": {
        "colab": {
          "base_uri": "https://localhost:8080/"
        },
        "id": "6xq5tUdca35C",
        "outputId": "556354c0-7934-471f-afd4-0dbcd1f08fdf"
      },
      "execution_count": null,
      "outputs": [
        {
          "output_type": "stream",
          "name": "stdout",
          "text": [
            "<class 'pandas.core.frame.DataFrame'>\n",
            "RangeIndex: 50944 entries, 0 to 50943\n",
            "Data columns (total 14 columns):\n",
            " #   Column                  Non-Null Count  Dtype         \n",
            "---  ------                  --------------  -----         \n",
            " 0   OCCUPANCY_DATE          50944 non-null  datetime64[ns]\n",
            " 1   ORGANIZATION_NAME       50944 non-null  object        \n",
            " 2   PROGRAM_ID              50944 non-null  int64         \n",
            " 3   PROGRAM_NAME            50909 non-null  object        \n",
            " 4   SECTOR                  50944 non-null  object        \n",
            " 5   PROGRAM_MODEL           50942 non-null  object        \n",
            " 6   OVERNIGHT_SERVICE_TYPE  50942 non-null  object        \n",
            " 7   PROGRAM_AREA            50942 non-null  object        \n",
            " 8   SERVICE_USER_COUNT      50944 non-null  int64         \n",
            " 9   CAPACITY_TYPE           50944 non-null  object        \n",
            " 10  CAPACITY_ACTUAL_BED     32399 non-null  float64       \n",
            " 11  OCCUPIED_BEDS           32399 non-null  float64       \n",
            " 12  CAPACITY_ACTUAL_ROOM    18545 non-null  float64       \n",
            " 13  OCCUPIED_ROOMS          18545 non-null  float64       \n",
            "dtypes: datetime64[ns](1), float64(4), int64(2), object(7)\n",
            "memory usage: 5.4+ MB\n"
          ]
        }
      ]
    },
    {
      "cell_type": "code",
      "source": [
        "# select all categorical variable and investigate how many different\n",
        "# categories each of them has\n",
        "category = ['ORGANIZATION_NAME', 'SECTOR', 'PROGRAM_MODEL',\n",
        "            'OVERNIGHT_SERVICE_TYPE', 'PROGRAM_AREA', 'CAPACITY_TYPE']\n",
        "\n",
        "# print them out\n",
        "for cat in category:\n",
        "    unique_cat = data[cat].dropna().unique()\n",
        "    print(cat + ' has ' + str(len(unique_cat)) + ' categories:')\n",
        "    for factor in unique_cat[:-1]:\n",
        "        print(factor, end = \", \")\n",
        "    print(unique_cat[-1])\n",
        "    print('\\n')"
      ],
      "metadata": {
        "colab": {
          "base_uri": "https://localhost:8080/"
        },
        "id": "xC-F_ylvbCEt",
        "outputId": "6dbfbb2c-ba80-4131-ee33-0f2c3daafd98"
      },
      "execution_count": null,
      "outputs": [
        {
          "output_type": "stream",
          "name": "stdout",
          "text": [
            "ORGANIZATION_NAME has 35 categories:\n",
            "COSTI Immigrant Services, Christie Ossington Neighbourhood Centre, Christie Refugee Welcome Centre, Inc., City of Toronto, Cornerstone Place, Covenant House Toronto, Dixon Hall, Eva's Initiatives, Fife House Foundation, Fred Victor Centre, Friends of Ruby, Good Shepherd Ministries, Homes First Society, Horizon for Youth, Kennedy House Youth Services, Margaret's Housing and Community Support Services, Na-Me-Res (Native Men's Residence), Native Child & Family Services Toronto, Society of St.Vincent De Paul, St. Felix Social Ministries Outreach, St. Simon's Shelter Inc., Street Haven At The Crossroads, The MUC Shelter Corporation, The Salvation Army of Canada, The Scott Mission Inc., Toronto Community Hostel, Turning Point Youth Services, Warden Woods Community Centre, Women's Hostels Inc., WoodGreen Red Door Family Shelter, YMCA of Greater Toronto, YWCA Toronto, Youth Without Shelter, YouthLink, Sistering: A Women's Place\n",
            "\n",
            "\n",
            "SECTOR has 5 categories:\n",
            "Families, Mixed Adult, Men, Women, Youth\n",
            "\n",
            "\n",
            "PROGRAM_MODEL has 2 categories:\n",
            "Emergency, Transitional\n",
            "\n",
            "\n",
            "OVERNIGHT_SERVICE_TYPE has 7 categories:\n",
            "Motel/Hotel Shelter, Shelter, Interim Housing, Isolation/Recovery Site, 24-Hour Respite Site, Warming Centre, 24-Hour Women's Drop-in\n",
            "\n",
            "\n",
            "PROGRAM_AREA has 4 categories:\n",
            "COVID-19 Response, Base Shelter and Overnight Services System, Temporary Refugee Response, Winter Programs\n",
            "\n",
            "\n",
            "CAPACITY_TYPE has 2 categories:\n",
            "Room Based Capacity, Bed Based Capacity\n",
            "\n",
            "\n"
          ]
        }
      ]
    },
    {
      "cell_type": "markdown",
      "source": [
        "# T-test pre-processing"
      ],
      "metadata": {
        "id": "ZYktT8-TdeTn"
      }
    },
    {
      "cell_type": "code",
      "source": [
        "# select the variable of interest\n",
        "df = data[['CAPACITY_TYPE', 'SECTOR', 'PROGRAM_MODEL', 'SERVICE_USER_COUNT', 'CAPACITY_ACTUAL_BED', 'OCCUPIED_BEDS', 'CAPACITY_ACTUAL_ROOM', 'OCCUPIED_ROOMS']]"
      ],
      "metadata": {
        "id": "V07BYqZc1gsn"
      },
      "execution_count": null,
      "outputs": []
    },
    {
      "cell_type": "code",
      "source": [
        "# calculate the occupied rate for bed and room separately\n",
        "df['OCCUPIED_BEDS_RATE'] = df['OCCUPIED_BEDS'] / df['CAPACITY_ACTUAL_BED']\n",
        "df['OCCUPIED_ROOM_RATE'] = df['OCCUPIED_ROOMS'] / df['CAPACITY_ACTUAL_ROOM']\n",
        "\n",
        "# combine the rate into 1 column\n",
        "df['OCCUPIED_RATE'] = df['OCCUPIED_BEDS_RATE'].combine_first(df['OCCUPIED_ROOM_RATE'])\n",
        "df.head()"
      ],
      "metadata": {
        "colab": {
          "base_uri": "https://localhost:8080/",
          "height": 643
        },
        "id": "egc1YDORnHcL",
        "outputId": "0d9d2758-daf6-4ce9-e342-e665de49b325"
      },
      "execution_count": null,
      "outputs": [
        {
          "output_type": "stream",
          "name": "stderr",
          "text": [
            "<ipython-input-95-c2795a1cd5ba>:2: SettingWithCopyWarning: \n",
            "A value is trying to be set on a copy of a slice from a DataFrame.\n",
            "Try using .loc[row_indexer,col_indexer] = value instead\n",
            "\n",
            "See the caveats in the documentation: https://pandas.pydata.org/pandas-docs/stable/user_guide/indexing.html#returning-a-view-versus-a-copy\n",
            "  df['OCCUPIED_BEDS_RATE'] = df['OCCUPIED_BEDS'] / df['CAPACITY_ACTUAL_BED']\n",
            "<ipython-input-95-c2795a1cd5ba>:3: SettingWithCopyWarning: \n",
            "A value is trying to be set on a copy of a slice from a DataFrame.\n",
            "Try using .loc[row_indexer,col_indexer] = value instead\n",
            "\n",
            "See the caveats in the documentation: https://pandas.pydata.org/pandas-docs/stable/user_guide/indexing.html#returning-a-view-versus-a-copy\n",
            "  df['OCCUPIED_ROOM_RATE'] = df['OCCUPIED_ROOMS'] / df['CAPACITY_ACTUAL_ROOM']\n",
            "<ipython-input-95-c2795a1cd5ba>:5: SettingWithCopyWarning: \n",
            "A value is trying to be set on a copy of a slice from a DataFrame.\n",
            "Try using .loc[row_indexer,col_indexer] = value instead\n",
            "\n",
            "See the caveats in the documentation: https://pandas.pydata.org/pandas-docs/stable/user_guide/indexing.html#returning-a-view-versus-a-copy\n",
            "  df['OCCUPIED_RATE'] = df['OCCUPIED_BEDS_RATE'].combine_first(df['OCCUPIED_ROOM_RATE'])\n"
          ]
        },
        {
          "output_type": "execute_result",
          "data": {
            "text/plain": [
              "         CAPACITY_TYPE       SECTOR PROGRAM_MODEL  SERVICE_USER_COUNT  \\\n",
              "0  Room Based Capacity     Families     Emergency                  74   \n",
              "1  Room Based Capacity  Mixed Adult     Emergency                   3   \n",
              "2  Room Based Capacity          Men     Emergency                  24   \n",
              "3  Room Based Capacity  Mixed Adult     Emergency                  25   \n",
              "4  Room Based Capacity        Women     Emergency                  13   \n",
              "\n",
              "   CAPACITY_ACTUAL_BED  OCCUPIED_BEDS  CAPACITY_ACTUAL_ROOM  OCCUPIED_ROOMS  \\\n",
              "0                  NaN            NaN                  29.0            26.0   \n",
              "1                  NaN            NaN                   3.0             3.0   \n",
              "2                  NaN            NaN                  28.0            23.0   \n",
              "3                  NaN            NaN                  17.0            17.0   \n",
              "4                  NaN            NaN                  14.0            13.0   \n",
              "\n",
              "   OCCUPIED_BEDS_RATE  OCCUPIED_ROOM_RATE  OCCUPIED_RATE  \n",
              "0                 NaN            0.896552       0.896552  \n",
              "1                 NaN            1.000000       1.000000  \n",
              "2                 NaN            0.821429       0.821429  \n",
              "3                 NaN            1.000000       1.000000  \n",
              "4                 NaN            0.928571       0.928571  "
            ],
            "text/html": [
              "\n",
              "  <div id=\"df-a5e616b5-4480-49fa-9d7d-79addf6275fa\" class=\"colab-df-container\">\n",
              "    <div>\n",
              "<style scoped>\n",
              "    .dataframe tbody tr th:only-of-type {\n",
              "        vertical-align: middle;\n",
              "    }\n",
              "\n",
              "    .dataframe tbody tr th {\n",
              "        vertical-align: top;\n",
              "    }\n",
              "\n",
              "    .dataframe thead th {\n",
              "        text-align: right;\n",
              "    }\n",
              "</style>\n",
              "<table border=\"1\" class=\"dataframe\">\n",
              "  <thead>\n",
              "    <tr style=\"text-align: right;\">\n",
              "      <th></th>\n",
              "      <th>CAPACITY_TYPE</th>\n",
              "      <th>SECTOR</th>\n",
              "      <th>PROGRAM_MODEL</th>\n",
              "      <th>SERVICE_USER_COUNT</th>\n",
              "      <th>CAPACITY_ACTUAL_BED</th>\n",
              "      <th>OCCUPIED_BEDS</th>\n",
              "      <th>CAPACITY_ACTUAL_ROOM</th>\n",
              "      <th>OCCUPIED_ROOMS</th>\n",
              "      <th>OCCUPIED_BEDS_RATE</th>\n",
              "      <th>OCCUPIED_ROOM_RATE</th>\n",
              "      <th>OCCUPIED_RATE</th>\n",
              "    </tr>\n",
              "  </thead>\n",
              "  <tbody>\n",
              "    <tr>\n",
              "      <th>0</th>\n",
              "      <td>Room Based Capacity</td>\n",
              "      <td>Families</td>\n",
              "      <td>Emergency</td>\n",
              "      <td>74</td>\n",
              "      <td>NaN</td>\n",
              "      <td>NaN</td>\n",
              "      <td>29.0</td>\n",
              "      <td>26.0</td>\n",
              "      <td>NaN</td>\n",
              "      <td>0.896552</td>\n",
              "      <td>0.896552</td>\n",
              "    </tr>\n",
              "    <tr>\n",
              "      <th>1</th>\n",
              "      <td>Room Based Capacity</td>\n",
              "      <td>Mixed Adult</td>\n",
              "      <td>Emergency</td>\n",
              "      <td>3</td>\n",
              "      <td>NaN</td>\n",
              "      <td>NaN</td>\n",
              "      <td>3.0</td>\n",
              "      <td>3.0</td>\n",
              "      <td>NaN</td>\n",
              "      <td>1.000000</td>\n",
              "      <td>1.000000</td>\n",
              "    </tr>\n",
              "    <tr>\n",
              "      <th>2</th>\n",
              "      <td>Room Based Capacity</td>\n",
              "      <td>Men</td>\n",
              "      <td>Emergency</td>\n",
              "      <td>24</td>\n",
              "      <td>NaN</td>\n",
              "      <td>NaN</td>\n",
              "      <td>28.0</td>\n",
              "      <td>23.0</td>\n",
              "      <td>NaN</td>\n",
              "      <td>0.821429</td>\n",
              "      <td>0.821429</td>\n",
              "    </tr>\n",
              "    <tr>\n",
              "      <th>3</th>\n",
              "      <td>Room Based Capacity</td>\n",
              "      <td>Mixed Adult</td>\n",
              "      <td>Emergency</td>\n",
              "      <td>25</td>\n",
              "      <td>NaN</td>\n",
              "      <td>NaN</td>\n",
              "      <td>17.0</td>\n",
              "      <td>17.0</td>\n",
              "      <td>NaN</td>\n",
              "      <td>1.000000</td>\n",
              "      <td>1.000000</td>\n",
              "    </tr>\n",
              "    <tr>\n",
              "      <th>4</th>\n",
              "      <td>Room Based Capacity</td>\n",
              "      <td>Women</td>\n",
              "      <td>Emergency</td>\n",
              "      <td>13</td>\n",
              "      <td>NaN</td>\n",
              "      <td>NaN</td>\n",
              "      <td>14.0</td>\n",
              "      <td>13.0</td>\n",
              "      <td>NaN</td>\n",
              "      <td>0.928571</td>\n",
              "      <td>0.928571</td>\n",
              "    </tr>\n",
              "  </tbody>\n",
              "</table>\n",
              "</div>\n",
              "    <div class=\"colab-df-buttons\">\n",
              "\n",
              "  <div class=\"colab-df-container\">\n",
              "    <button class=\"colab-df-convert\" onclick=\"convertToInteractive('df-a5e616b5-4480-49fa-9d7d-79addf6275fa')\"\n",
              "            title=\"Convert this dataframe to an interactive table.\"\n",
              "            style=\"display:none;\">\n",
              "\n",
              "  <svg xmlns=\"http://www.w3.org/2000/svg\" height=\"24px\" viewBox=\"0 -960 960 960\">\n",
              "    <path d=\"M120-120v-720h720v720H120Zm60-500h600v-160H180v160Zm220 220h160v-160H400v160Zm0 220h160v-160H400v160ZM180-400h160v-160H180v160Zm440 0h160v-160H620v160ZM180-180h160v-160H180v160Zm440 0h160v-160H620v160Z\"/>\n",
              "  </svg>\n",
              "    </button>\n",
              "\n",
              "  <style>\n",
              "    .colab-df-container {\n",
              "      display:flex;\n",
              "      gap: 12px;\n",
              "    }\n",
              "\n",
              "    .colab-df-convert {\n",
              "      background-color: #E8F0FE;\n",
              "      border: none;\n",
              "      border-radius: 50%;\n",
              "      cursor: pointer;\n",
              "      display: none;\n",
              "      fill: #1967D2;\n",
              "      height: 32px;\n",
              "      padding: 0 0 0 0;\n",
              "      width: 32px;\n",
              "    }\n",
              "\n",
              "    .colab-df-convert:hover {\n",
              "      background-color: #E2EBFA;\n",
              "      box-shadow: 0px 1px 2px rgba(60, 64, 67, 0.3), 0px 1px 3px 1px rgba(60, 64, 67, 0.15);\n",
              "      fill: #174EA6;\n",
              "    }\n",
              "\n",
              "    .colab-df-buttons div {\n",
              "      margin-bottom: 4px;\n",
              "    }\n",
              "\n",
              "    [theme=dark] .colab-df-convert {\n",
              "      background-color: #3B4455;\n",
              "      fill: #D2E3FC;\n",
              "    }\n",
              "\n",
              "    [theme=dark] .colab-df-convert:hover {\n",
              "      background-color: #434B5C;\n",
              "      box-shadow: 0px 1px 3px 1px rgba(0, 0, 0, 0.15);\n",
              "      filter: drop-shadow(0px 1px 2px rgba(0, 0, 0, 0.3));\n",
              "      fill: #FFFFFF;\n",
              "    }\n",
              "  </style>\n",
              "\n",
              "    <script>\n",
              "      const buttonEl =\n",
              "        document.querySelector('#df-a5e616b5-4480-49fa-9d7d-79addf6275fa button.colab-df-convert');\n",
              "      buttonEl.style.display =\n",
              "        google.colab.kernel.accessAllowed ? 'block' : 'none';\n",
              "\n",
              "      async function convertToInteractive(key) {\n",
              "        const element = document.querySelector('#df-a5e616b5-4480-49fa-9d7d-79addf6275fa');\n",
              "        const dataTable =\n",
              "          await google.colab.kernel.invokeFunction('convertToInteractive',\n",
              "                                                    [key], {});\n",
              "        if (!dataTable) return;\n",
              "\n",
              "        const docLinkHtml = 'Like what you see? Visit the ' +\n",
              "          '<a target=\"_blank\" href=https://colab.research.google.com/notebooks/data_table.ipynb>data table notebook</a>'\n",
              "          + ' to learn more about interactive tables.';\n",
              "        element.innerHTML = '';\n",
              "        dataTable['output_type'] = 'display_data';\n",
              "        await google.colab.output.renderOutput(dataTable, element);\n",
              "        const docLink = document.createElement('div');\n",
              "        docLink.innerHTML = docLinkHtml;\n",
              "        element.appendChild(docLink);\n",
              "      }\n",
              "    </script>\n",
              "  </div>\n",
              "\n",
              "\n",
              "<div id=\"df-533fe59b-ad48-45a2-9adb-3cd35e743f3d\">\n",
              "  <button class=\"colab-df-quickchart\" onclick=\"quickchart('df-533fe59b-ad48-45a2-9adb-3cd35e743f3d')\"\n",
              "            title=\"Suggest charts\"\n",
              "            style=\"display:none;\">\n",
              "\n",
              "<svg xmlns=\"http://www.w3.org/2000/svg\" height=\"24px\"viewBox=\"0 0 24 24\"\n",
              "     width=\"24px\">\n",
              "    <g>\n",
              "        <path d=\"M19 3H5c-1.1 0-2 .9-2 2v14c0 1.1.9 2 2 2h14c1.1 0 2-.9 2-2V5c0-1.1-.9-2-2-2zM9 17H7v-7h2v7zm4 0h-2V7h2v10zm4 0h-2v-4h2v4z\"/>\n",
              "    </g>\n",
              "</svg>\n",
              "  </button>\n",
              "\n",
              "<style>\n",
              "  .colab-df-quickchart {\n",
              "      --bg-color: #E8F0FE;\n",
              "      --fill-color: #1967D2;\n",
              "      --hover-bg-color: #E2EBFA;\n",
              "      --hover-fill-color: #174EA6;\n",
              "      --disabled-fill-color: #AAA;\n",
              "      --disabled-bg-color: #DDD;\n",
              "  }\n",
              "\n",
              "  [theme=dark] .colab-df-quickchart {\n",
              "      --bg-color: #3B4455;\n",
              "      --fill-color: #D2E3FC;\n",
              "      --hover-bg-color: #434B5C;\n",
              "      --hover-fill-color: #FFFFFF;\n",
              "      --disabled-bg-color: #3B4455;\n",
              "      --disabled-fill-color: #666;\n",
              "  }\n",
              "\n",
              "  .colab-df-quickchart {\n",
              "    background-color: var(--bg-color);\n",
              "    border: none;\n",
              "    border-radius: 50%;\n",
              "    cursor: pointer;\n",
              "    display: none;\n",
              "    fill: var(--fill-color);\n",
              "    height: 32px;\n",
              "    padding: 0;\n",
              "    width: 32px;\n",
              "  }\n",
              "\n",
              "  .colab-df-quickchart:hover {\n",
              "    background-color: var(--hover-bg-color);\n",
              "    box-shadow: 0 1px 2px rgba(60, 64, 67, 0.3), 0 1px 3px 1px rgba(60, 64, 67, 0.15);\n",
              "    fill: var(--button-hover-fill-color);\n",
              "  }\n",
              "\n",
              "  .colab-df-quickchart-complete:disabled,\n",
              "  .colab-df-quickchart-complete:disabled:hover {\n",
              "    background-color: var(--disabled-bg-color);\n",
              "    fill: var(--disabled-fill-color);\n",
              "    box-shadow: none;\n",
              "  }\n",
              "\n",
              "  .colab-df-spinner {\n",
              "    border: 2px solid var(--fill-color);\n",
              "    border-color: transparent;\n",
              "    border-bottom-color: var(--fill-color);\n",
              "    animation:\n",
              "      spin 1s steps(1) infinite;\n",
              "  }\n",
              "\n",
              "  @keyframes spin {\n",
              "    0% {\n",
              "      border-color: transparent;\n",
              "      border-bottom-color: var(--fill-color);\n",
              "      border-left-color: var(--fill-color);\n",
              "    }\n",
              "    20% {\n",
              "      border-color: transparent;\n",
              "      border-left-color: var(--fill-color);\n",
              "      border-top-color: var(--fill-color);\n",
              "    }\n",
              "    30% {\n",
              "      border-color: transparent;\n",
              "      border-left-color: var(--fill-color);\n",
              "      border-top-color: var(--fill-color);\n",
              "      border-right-color: var(--fill-color);\n",
              "    }\n",
              "    40% {\n",
              "      border-color: transparent;\n",
              "      border-right-color: var(--fill-color);\n",
              "      border-top-color: var(--fill-color);\n",
              "    }\n",
              "    60% {\n",
              "      border-color: transparent;\n",
              "      border-right-color: var(--fill-color);\n",
              "    }\n",
              "    80% {\n",
              "      border-color: transparent;\n",
              "      border-right-color: var(--fill-color);\n",
              "      border-bottom-color: var(--fill-color);\n",
              "    }\n",
              "    90% {\n",
              "      border-color: transparent;\n",
              "      border-bottom-color: var(--fill-color);\n",
              "    }\n",
              "  }\n",
              "</style>\n",
              "\n",
              "  <script>\n",
              "    async function quickchart(key) {\n",
              "      const quickchartButtonEl =\n",
              "        document.querySelector('#' + key + ' button');\n",
              "      quickchartButtonEl.disabled = true;  // To prevent multiple clicks.\n",
              "      quickchartButtonEl.classList.add('colab-df-spinner');\n",
              "      try {\n",
              "        const charts = await google.colab.kernel.invokeFunction(\n",
              "            'suggestCharts', [key], {});\n",
              "      } catch (error) {\n",
              "        console.error('Error during call to suggestCharts:', error);\n",
              "      }\n",
              "      quickchartButtonEl.classList.remove('colab-df-spinner');\n",
              "      quickchartButtonEl.classList.add('colab-df-quickchart-complete');\n",
              "    }\n",
              "    (() => {\n",
              "      let quickchartButtonEl =\n",
              "        document.querySelector('#df-533fe59b-ad48-45a2-9adb-3cd35e743f3d button');\n",
              "      quickchartButtonEl.style.display =\n",
              "        google.colab.kernel.accessAllowed ? 'block' : 'none';\n",
              "    })();\n",
              "  </script>\n",
              "</div>\n",
              "\n",
              "    </div>\n",
              "  </div>\n"
            ]
          },
          "metadata": {},
          "execution_count": 95
        }
      ]
    },
    {
      "cell_type": "markdown",
      "source": [
        "## CAPACITY_TYPE and OCCUPIED_RATE"
      ],
      "metadata": {
        "id": "IaCpf0aIwZjf"
      }
    },
    {
      "cell_type": "code",
      "source": [
        "# define a function to avoid repetitive work\n",
        "# get_summary_statistics calculates the mean, median, min/max, q1, q3, iqr\n",
        "def get_summary_statistics(name):\n",
        "\n",
        "    dataset = df[name].dropna()\n",
        "    mean = np.round(np.mean(dataset), 2)\n",
        "    median = np.round(np.median(dataset), 2)\n",
        "    min_value = np.round(dataset.min(), 2)\n",
        "    max_value = np.round(dataset.max(), 2)\n",
        "    quartile_1 = np.round(dataset.quantile(0.25), 2)\n",
        "    quartile_3 = np.round(dataset.quantile(0.75), 2)\n",
        "    # Interquartile range\n",
        "    iqr = np.round(quartile_3 - quartile_1, 2)\n",
        "\n",
        "    print(name + ' summary statistics:')\n",
        "    print('Min: %s' % min_value)\n",
        "    print('Mean: %s' % mean)\n",
        "    print('Max: %s' % max_value)\n",
        "    print('25th percentile: %s' % quartile_1)\n",
        "    print('Median: %s' % median)\n",
        "    print('75th percentile: %s' % quartile_3)\n",
        "    print('Interquartile range (IQR): %s' % iqr)\n",
        "    print('\\n')"
      ],
      "metadata": {
        "id": "Eui9jKsFl6og"
      },
      "execution_count": null,
      "outputs": []
    },
    {
      "cell_type": "code",
      "source": [
        "# get summary statistics for occuipied rate of bed and room\n",
        "get_summary_statistics('OCCUPIED_BEDS_RATE')\n",
        "get_summary_statistics('OCCUPIED_ROOM_RATE')"
      ],
      "metadata": {
        "colab": {
          "base_uri": "https://localhost:8080/"
        },
        "id": "BEbByQF5u1VA",
        "outputId": "06265bc0-d826-49f0-8314-f9996ba51f48"
      },
      "execution_count": null,
      "outputs": [
        {
          "output_type": "stream",
          "name": "stdout",
          "text": [
            "OCCUPIED_BEDS_RATE summary statistics:\n",
            "Min: 0.02\n",
            "Mean: 0.93\n",
            "Max: 1.0\n",
            "25th percentile: 0.9\n",
            "Median: 1.0\n",
            "75th percentile: 1.0\n",
            "Interquartile range (IQR): 0.1\n",
            "\n",
            "\n",
            "OCCUPIED_ROOM_RATE summary statistics:\n",
            "Min: 0.01\n",
            "Mean: 0.93\n",
            "Max: 1.01\n",
            "25th percentile: 0.96\n",
            "Median: 1.0\n",
            "75th percentile: 1.0\n",
            "Interquartile range (IQR): 0.04\n",
            "\n",
            "\n"
          ]
        }
      ]
    },
    {
      "cell_type": "code",
      "source": [
        "# select the occupied rate for each capacity category\n",
        "group_room = df[df['CAPACITY_TYPE'] == 'Room Based Capacity']['OCCUPIED_RATE']\n",
        "group_bed = df[df['CAPACITY_TYPE'] == 'Bed Based Capacity']['OCCUPIED_RATE']\n",
        "\n",
        "# Perform the two-sample t-test\n",
        "t_stat, p_val = stats.ttest_ind(group_room, group_bed, nan_policy='omit')\n",
        "\n",
        "# The result\n",
        "print('2-sample t-test result:')\n",
        "print('t-statistic:', t_stat)\n",
        "print('p-value:', p_val)"
      ],
      "metadata": {
        "colab": {
          "base_uri": "https://localhost:8080/"
        },
        "id": "uns_XLqWmKnZ",
        "outputId": "56be7783-7b2e-494c-9d35-9df065c1c3c0"
      },
      "execution_count": null,
      "outputs": [
        {
          "output_type": "stream",
          "name": "stdout",
          "text": [
            "2-sample t-test result:\n",
            "t-statistic: 4.854104599422829\n",
            "p-value: 1.2128933183471424e-06\n"
          ]
        }
      ]
    },
    {
      "cell_type": "markdown",
      "source": [
        "### Visualization"
      ],
      "metadata": {
        "id": "jv8RDH-iol96"
      }
    },
    {
      "cell_type": "code",
      "source": [
        "# make the 2 plots on 1 frame\n",
        "fig, axes = plt.subplots(1, 2, figsize=(10, 5))\n",
        "\n",
        "# plot the first histogram plot\n",
        "sns.histplot(df['OCCUPIED_BEDS_RATE'], kde=True, bins=25, color='blue', ax=axes[0])\n",
        "# define the title, x label and y label for the first plot\n",
        "axes[0].set_title('Histogram of Occupancy Beds Rate')\n",
        "axes[0].set_xlabel('Occupancy Bed Rate')\n",
        "axes[0].set_ylabel('Frequency')\n",
        "\n",
        "# plot the second histogram plot\n",
        "sns.histplot(df['OCCUPIED_ROOM_RATE'], kde=True, bins=25, color='red', ax=axes[1])\n",
        "# define the title, x label and y label for the second plot\n",
        "axes[1].set_title('Histogram of Occupancy Room Rate')\n",
        "axes[1].set_xlabel('Occupancy Room Rate')\n",
        "axes[1].set_ylabel('Frequency')\n",
        "\n",
        "plt.tight_layout()\n",
        "plt.show()"
      ],
      "metadata": {
        "colab": {
          "base_uri": "https://localhost:8080/",
          "height": 443
        },
        "id": "lFAY1G_dolcv",
        "outputId": "9b4ae823-5c8e-4c1e-fb98-d15d44b7132d"
      },
      "execution_count": null,
      "outputs": [
        {
          "output_type": "display_data",
          "data": {
            "text/plain": [
              "<Figure size 1000x500 with 2 Axes>"
            ],
            "image/png": "[encoded data removed]"
          },
          "metadata": {}
        }
      ]
    },
    {
      "cell_type": "code",
      "source": [
        "# make the 2 plots on 1 frame\n",
        "fig, axes = plt.subplots(1, 2, figsize=(10, 5))\n",
        "\n",
        "# plot the first boxplot\n",
        "sns.boxplot(df['OCCUPIED_BEDS_RATE'], color='blue', ax=axes[0])\n",
        "# define the title, x label and y label for the first plot\n",
        "axes[0].set_title('Boxplot of Occupancy Beds Rate')\n",
        "axes[0].set_xlabel('Occupancy Bed Rate')\n",
        "axes[0].set_ylabel('Frequency')\n",
        "\n",
        "# plot the second boxplot\n",
        "sns.boxplot(df['OCCUPIED_ROOM_RATE'], color='red', ax=axes[1])\n",
        "# define the title, x label and y label for the second plot\n",
        "axes[1].set_title('Boxplot of Occupancy Room Rate')\n",
        "axes[1].set_xlabel('Occupancy Room Rate')\n",
        "axes[1].set_ylabel('Frequency')\n",
        "\n",
        "plt.tight_layout()\n",
        "plt.show()"
      ],
      "metadata": {
        "colab": {
          "base_uri": "https://localhost:8080/",
          "height": 527
        },
        "id": "nkOFGSl2qy3o",
        "outputId": "32607db8-06eb-4886-e28e-d1b2eea1f5a8"
      },
      "execution_count": null,
      "outputs": [
        {
          "output_type": "display_data",
          "data": {
            "text/plain": [
              "<Figure size 1000x500 with 2 Axes>"
            ],
            "image/png": "[encoded data removed]"
          },
          "metadata": {}
        }
      ]
    },
    {
      "cell_type": "markdown",
      "source": [
        "### Weltch T-test"
      ],
      "metadata": {
        "id": "qdu2_4wz1kbd"
      }
    },
    {
      "cell_type": "markdown",
      "source": [
        "It seems the variance are not equal, we should use Weltch t-test instead"
      ],
      "metadata": {
        "id": "CgVaqXtR1Tfy"
      }
    },
    {
      "cell_type": "code",
      "source": [
        "# Welch's t-test\n",
        "t_stat, p_val = stats.ttest_ind(group_room, group_bed, equal_var=False, nan_policy='omit')\n",
        "\n",
        "# The result\n",
        "print('Welch\\'s t-test result:')\n",
        "print('t-statistic:', t_stat)\n",
        "print('p-value:', p_val)"
      ],
      "metadata": {
        "colab": {
          "base_uri": "https://localhost:8080/"
        },
        "id": "5kkC6bJfvWBH",
        "outputId": "44d74180-0068-4f77-afd3-3fc9273c6018"
      },
      "execution_count": null,
      "outputs": [
        {
          "output_type": "stream",
          "name": "stdout",
          "text": [
            "Welch's t-test result:\n",
            "t-statistic: 4.498751771925636\n",
            "p-value: 6.860477551487939e-06\n"
          ]
        }
      ]
    },
    {
      "cell_type": "markdown",
      "source": [
        "## SECTOR: Men vs Women and SERVICE_USER_COUNT\n",
        "\n"
      ],
      "metadata": {
        "id": "U9QqS9ZYwglO"
      }
    },
    {
      "cell_type": "code",
      "source": [
        "# get the service user count for men and women separately\n",
        "group_men = df[df['SECTOR'] == 'Men']['SERVICE_USER_COUNT']\n",
        "group_women = df[df['SECTOR'] == 'Women']['SERVICE_USER_COUNT']"
      ],
      "metadata": {
        "id": "GhsQiigC8f6z"
      },
      "execution_count": null,
      "outputs": []
    },
    {
      "cell_type": "code",
      "source": [
        "# define a function to avoid repetitive work\n",
        "# get_summary_statistics calculates the mean, median, min/max, q1, q3, iqr\n",
        "\n",
        "def get_summary_statistics(dataset):\n",
        "\n",
        "    mean = np.round(np.mean(dataset), 2)\n",
        "    median = np.round(np.median(dataset), 2)\n",
        "    min_value = np.round(dataset.min(), 2)\n",
        "    max_value = np.round(dataset.max(), 2)\n",
        "    quartile_1 = np.round(dataset.quantile(0.25), 2)\n",
        "    quartile_3 = np.round(dataset.quantile(0.75), 2)\n",
        "    # Interquartile range\n",
        "    iqr = np.round(quartile_3 - quartile_1, 2)\n",
        "\n",
        "    print('Min: %s' % min_value)\n",
        "    print('Mean: %s' % mean)\n",
        "    print('Max: %s' % max_value)\n",
        "    print('25th percentile: %s' % quartile_1)\n",
        "    print('Median: %s' % median)\n",
        "    print('75th percentile: %s' % quartile_3)\n",
        "    print('Interquartile range (IQR): %s' % iqr)\n",
        "    print('\\n')"
      ],
      "metadata": {
        "id": "E11TsjFE8Vla"
      },
      "execution_count": null,
      "outputs": []
    },
    {
      "cell_type": "code",
      "source": [
        "# get summary statistics for service user count of men and women\n",
        "print('Service User Count for Men Sector')\n",
        "get_summary_statistics(group_men)\n",
        "print('Service User Count for Women Sector')\n",
        "get_summary_statistics(group_women)"
      ],
      "metadata": {
        "colab": {
          "base_uri": "https://localhost:8080/"
        },
        "id": "ZaokM1sN8N1j",
        "outputId": "d9313994-0779-4092-e363-1fcbdafa7e7e"
      },
      "execution_count": null,
      "outputs": [
        {
          "output_type": "stream",
          "name": "stdout",
          "text": [
            "Service User Count for Men Sector\n",
            "Min: 1\n",
            "Mean: 39.87\n",
            "Max: 234\n",
            "25th percentile: 19.0\n",
            "Median: 32.0\n",
            "75th percentile: 48.0\n",
            "Interquartile range (IQR): 29.0\n",
            "\n",
            "\n",
            "Service User Count for Woen Sector\n",
            "Min: 1\n",
            "Mean: 28.66\n",
            "Max: 100\n",
            "25th percentile: 15.0\n",
            "Median: 25.0\n",
            "75th percentile: 37.0\n",
            "Interquartile range (IQR): 22.0\n",
            "\n",
            "\n"
          ]
        }
      ]
    },
    {
      "cell_type": "code",
      "source": [
        "# Perform the two-sample t-test\n",
        "t_stat, p_val = stats.ttest_ind(group_men, group_women, nan_policy='omit')\n",
        "\n",
        "# The result\n",
        "print('2-sample t-test result:')\n",
        "print('t-statistic:', t_stat)\n",
        "print('p-value:', p_val)"
      ],
      "metadata": {
        "colab": {
          "base_uri": "https://localhost:8080/"
        },
        "id": "S9dD7J2DwsRd",
        "outputId": "9aafd2e2-e4a4-49ab-b382-d37e4a5f6db9"
      },
      "execution_count": null,
      "outputs": [
        {
          "output_type": "stream",
          "name": "stdout",
          "text": [
            "2-sample t-test result:\n",
            "t-statistic: 28.24955042305982\n",
            "p-value: 2.022346382679794e-172\n"
          ]
        }
      ]
    },
    {
      "cell_type": "markdown",
      "source": [
        "### Visualization"
      ],
      "metadata": {
        "id": "LHkSAnxC9SrY"
      }
    },
    {
      "cell_type": "code",
      "source": [
        "# make the 2 plots on 1 frame\n",
        "fig, axes = plt.subplots(1, 2, figsize=(10, 5))\n",
        "\n",
        "# plot the first histogram plot\n",
        "sns.histplot(group_men, kde=True, bins=20, color='blue', ax=axes[0])\n",
        "# define the title, x label and y label for the first plot\n",
        "axes[0].set_title('Histogram of Service Count of Men Sector')\n",
        "axes[0].set_xlabel('Service Count')\n",
        "axes[0].set_ylabel('Frequency')\n",
        "\n",
        "# plot the second histogram plot\n",
        "sns.histplot(group_women, kde=True, bins=20, color='red', ax=axes[1])\n",
        "# define the title, x label and y label for the second plot\n",
        "axes[1].set_title('Histogram of Service Count of Women Sector')\n",
        "axes[1].set_xlabel('Service Count')\n",
        "axes[1].set_ylabel('Frequency')\n",
        "\n",
        "plt.tight_layout()\n",
        "plt.show()"
      ],
      "metadata": {
        "colab": {
          "base_uri": "https://localhost:8080/",
          "height": 442
        },
        "id": "aSjPLEwq9R-4",
        "outputId": "686d7a09-0630-4797-8519-06de2e189e5c"
      },
      "execution_count": null,
      "outputs": [
        {
          "output_type": "display_data",
          "data": {
            "text/plain": [
              "<Figure size 1000x500 with 2 Axes>"
            ],
            "image/png": "[encoded data removed]"
          },
          "metadata": {}
        }
      ]
    },
    {
      "cell_type": "code",
      "source": [
        "# make the 2 plots on 1 frame\n",
        "fig, axes = plt.subplots(1, 2, figsize=(10, 5))\n",
        "\n",
        "# plot the first boxplot\n",
        "sns.boxplot(group_men, color='blue', ax=axes[0])\n",
        "# define the title, x label and y label for the first plot\n",
        "axes[0].set_title('Boxplot of Service Count of Men Sector')\n",
        "axes[0].set_xlabel('Service Count')\n",
        "axes[0].set_ylabel('Frequency')\n",
        "\n",
        "# plot the second boxplot\n",
        "sns.boxplot(group_women, color='red', ax=axes[1])\n",
        "# define the title, x label and y label for the second plot\n",
        "axes[1].set_title('Boxplot of Service Count of Women Sector')\n",
        "axes[1].set_xlabel('Service Count')\n",
        "axes[1].set_ylabel('Frequency')\n",
        "\n",
        "plt.tight_layout()\n",
        "plt.show()"
      ],
      "metadata": {
        "colab": {
          "base_uri": "https://localhost:8080/",
          "height": 527
        },
        "id": "q1KFV21j95rv",
        "outputId": "a7a3bb85-cf1e-4f0d-9930-c267ccae5beb"
      },
      "execution_count": null,
      "outputs": [
        {
          "output_type": "display_data",
          "data": {
            "text/plain": [
              "<Figure size 1000x500 with 2 Axes>"
            ],
            "image/png": "[encoded data removed]"
          },
          "metadata": {}
        }
      ]
    },
    {
      "cell_type": "markdown",
      "source": [
        "### Welch's T-test\n",
        "\n",
        "It seems the variance are not equal, we should use Weltch t-test instead"
      ],
      "metadata": {
        "id": "_Rr7t4QOIbAf"
      }
    },
    {
      "cell_type": "code",
      "source": [
        "# Welch's t-test\n",
        "t_stat, p_val = stats.ttest_ind(group_men, group_women, equal_var=False, nan_policy='omit')\n",
        "\n",
        "# The result\n",
        "print('Welch\\'s t-test result:')\n",
        "print('t-statistic:', t_stat)\n",
        "print('p-value:', p_val)"
      ],
      "metadata": {
        "colab": {
          "base_uri": "https://localhost:8080/"
        },
        "id": "-5zM-ot1xOOO",
        "outputId": "af5093b9-a487-4683-f5b6-5600ac2da8f5"
      },
      "execution_count": null,
      "outputs": [
        {
          "output_type": "stream",
          "name": "stdout",
          "text": [
            "Welch's t-test result:\n",
            "t-statistic: 30.50421164151915\n",
            "p-value: 1.0532742925183108e-199\n"
          ]
        }
      ]
    }
  ]
}