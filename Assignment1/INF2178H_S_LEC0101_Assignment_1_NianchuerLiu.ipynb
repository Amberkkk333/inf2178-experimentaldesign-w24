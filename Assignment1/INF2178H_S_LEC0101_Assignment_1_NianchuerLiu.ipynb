{
 "cells": [
  {
   "cell_type": "markdown",
   "id": "b4243d11",
   "metadata": {},
   "source": [
    "## Examine the dataset"
   ]
  },
  {
   "cell_type": "code",
   "execution_count": 1,
   "id": "41c5379a",
   "metadata": {},
   "outputs": [
    {
     "data": {
      "text/html": [
       "<div>\n",
       "<style scoped>\n",
       "    .dataframe tbody tr th:only-of-type {\n",
       "        vertical-align: middle;\n",
       "    }\n",
       "\n",
       "    .dataframe tbody tr th {\n",
       "        vertical-align: top;\n",
       "    }\n",
       "\n",
       "    .dataframe thead th {\n",
       "        text-align: right;\n",
       "    }\n",
       "</style>\n",
       "<table border=\"1\" class=\"dataframe\">\n",
       "  <thead>\n",
       "    <tr style=\"text-align: right;\">\n",
       "      <th></th>\n",
       "      <th>OCCUPANCY_DATE</th>\n",
       "      <th>ORGANIZATION_NAME</th>\n",
       "      <th>PROGRAM_ID</th>\n",
       "      <th>PROGRAM_NAME</th>\n",
       "      <th>SECTOR</th>\n",
       "      <th>PROGRAM_MODEL</th>\n",
       "      <th>OVERNIGHT_SERVICE_TYPE</th>\n",
       "      <th>PROGRAM_AREA</th>\n",
       "      <th>SERVICE_USER_COUNT</th>\n",
       "      <th>CAPACITY_TYPE</th>\n",
       "      <th>CAPACITY_ACTUAL_BED</th>\n",
       "      <th>OCCUPIED_BEDS</th>\n",
       "      <th>CAPACITY_ACTUAL_ROOM</th>\n",
       "      <th>OCCUPIED_ROOMS</th>\n",
       "    </tr>\n",
       "  </thead>\n",
       "  <tbody>\n",
       "    <tr>\n",
       "      <th>0</th>\n",
       "      <td>2021-01-01</td>\n",
       "      <td>COSTI Immigrant Services</td>\n",
       "      <td>15371</td>\n",
       "      <td>COSTI North York West Hotel - Family Program</td>\n",
       "      <td>Families</td>\n",
       "      <td>Emergency</td>\n",
       "      <td>Motel/Hotel Shelter</td>\n",
       "      <td>COVID-19 Response</td>\n",
       "      <td>74</td>\n",
       "      <td>Room Based Capacity</td>\n",
       "      <td>NaN</td>\n",
       "      <td>NaN</td>\n",
       "      <td>29.0</td>\n",
       "      <td>26.0</td>\n",
       "    </tr>\n",
       "    <tr>\n",
       "      <th>1</th>\n",
       "      <td>2021-01-01</td>\n",
       "      <td>COSTI Immigrant Services</td>\n",
       "      <td>16211</td>\n",
       "      <td>COSTI North York West Hotel - Seniors Program</td>\n",
       "      <td>Mixed Adult</td>\n",
       "      <td>Emergency</td>\n",
       "      <td>Motel/Hotel Shelter</td>\n",
       "      <td>COVID-19 Response</td>\n",
       "      <td>3</td>\n",
       "      <td>Room Based Capacity</td>\n",
       "      <td>NaN</td>\n",
       "      <td>NaN</td>\n",
       "      <td>3.0</td>\n",
       "      <td>3.0</td>\n",
       "    </tr>\n",
       "    <tr>\n",
       "      <th>2</th>\n",
       "      <td>2021-01-01</td>\n",
       "      <td>COSTI Immigrant Services</td>\n",
       "      <td>16192</td>\n",
       "      <td>COSTI North York West Hotel Program - Men</td>\n",
       "      <td>Men</td>\n",
       "      <td>Emergency</td>\n",
       "      <td>Motel/Hotel Shelter</td>\n",
       "      <td>COVID-19 Response</td>\n",
       "      <td>24</td>\n",
       "      <td>Room Based Capacity</td>\n",
       "      <td>NaN</td>\n",
       "      <td>NaN</td>\n",
       "      <td>28.0</td>\n",
       "      <td>23.0</td>\n",
       "    </tr>\n",
       "    <tr>\n",
       "      <th>3</th>\n",
       "      <td>2021-01-01</td>\n",
       "      <td>COSTI Immigrant Services</td>\n",
       "      <td>16191</td>\n",
       "      <td>COSTI North York West Hotel Program - Mixed Adult</td>\n",
       "      <td>Mixed Adult</td>\n",
       "      <td>Emergency</td>\n",
       "      <td>Motel/Hotel Shelter</td>\n",
       "      <td>COVID-19 Response</td>\n",
       "      <td>25</td>\n",
       "      <td>Room Based Capacity</td>\n",
       "      <td>NaN</td>\n",
       "      <td>NaN</td>\n",
       "      <td>17.0</td>\n",
       "      <td>17.0</td>\n",
       "    </tr>\n",
       "    <tr>\n",
       "      <th>4</th>\n",
       "      <td>2021-01-01</td>\n",
       "      <td>COSTI Immigrant Services</td>\n",
       "      <td>16193</td>\n",
       "      <td>COSTI North York West Hotel Program - Women</td>\n",
       "      <td>Women</td>\n",
       "      <td>Emergency</td>\n",
       "      <td>Motel/Hotel Shelter</td>\n",
       "      <td>COVID-19 Response</td>\n",
       "      <td>13</td>\n",
       "      <td>Room Based Capacity</td>\n",
       "      <td>NaN</td>\n",
       "      <td>NaN</td>\n",
       "      <td>14.0</td>\n",
       "      <td>13.0</td>\n",
       "    </tr>\n",
       "  </tbody>\n",
       "</table>\n",
       "</div>"
      ],
      "text/plain": [
       "  OCCUPANCY_DATE         ORGANIZATION_NAME  PROGRAM_ID  \\\n",
       "0     2021-01-01  COSTI Immigrant Services       15371   \n",
       "1     2021-01-01  COSTI Immigrant Services       16211   \n",
       "2     2021-01-01  COSTI Immigrant Services       16192   \n",
       "3     2021-01-01  COSTI Immigrant Services       16191   \n",
       "4     2021-01-01  COSTI Immigrant Services       16193   \n",
       "\n",
       "                                        PROGRAM_NAME       SECTOR  \\\n",
       "0       COSTI North York West Hotel - Family Program     Families   \n",
       "1      COSTI North York West Hotel - Seniors Program  Mixed Adult   \n",
       "2          COSTI North York West Hotel Program - Men          Men   \n",
       "3  COSTI North York West Hotel Program - Mixed Adult  Mixed Adult   \n",
       "4        COSTI North York West Hotel Program - Women        Women   \n",
       "\n",
       "  PROGRAM_MODEL OVERNIGHT_SERVICE_TYPE       PROGRAM_AREA  SERVICE_USER_COUNT  \\\n",
       "0     Emergency    Motel/Hotel Shelter  COVID-19 Response                  74   \n",
       "1     Emergency    Motel/Hotel Shelter  COVID-19 Response                   3   \n",
       "2     Emergency    Motel/Hotel Shelter  COVID-19 Response                  24   \n",
       "3     Emergency    Motel/Hotel Shelter  COVID-19 Response                  25   \n",
       "4     Emergency    Motel/Hotel Shelter  COVID-19 Response                  13   \n",
       "\n",
       "         CAPACITY_TYPE  CAPACITY_ACTUAL_BED  OCCUPIED_BEDS  \\\n",
       "0  Room Based Capacity                  NaN            NaN   \n",
       "1  Room Based Capacity                  NaN            NaN   \n",
       "2  Room Based Capacity                  NaN            NaN   \n",
       "3  Room Based Capacity                  NaN            NaN   \n",
       "4  Room Based Capacity                  NaN            NaN   \n",
       "\n",
       "   CAPACITY_ACTUAL_ROOM  OCCUPIED_ROOMS  \n",
       "0                  29.0            26.0  \n",
       "1                   3.0             3.0  \n",
       "2                  28.0            23.0  \n",
       "3                  17.0            17.0  \n",
       "4                  14.0            13.0  "
      ]
     },
     "execution_count": 1,
     "metadata": {},
     "output_type": "execute_result"
    }
   ],
   "source": [
    "import pandas as pd\n",
    "\n",
    "# Load the dataset from the Excel file\n",
    "file_path = 'INF2178_A1_data(1).xlsx'\n",
    "data = pd.read_excel(file_path)\n",
    "\n",
    "# Display the first few rows of the dataframe to understand its structure\n",
    "data.head()"
   ]
  },
  {
   "cell_type": "code",
   "execution_count": 2,
   "id": "7dd5e967",
   "metadata": {},
   "outputs": [
    {
     "name": "stdout",
     "output_type": "stream",
     "text": [
      "<class 'pandas.core.frame.DataFrame'>\n",
      "RangeIndex: 50944 entries, 0 to 50943\n",
      "Data columns (total 14 columns):\n",
      " #   Column                  Non-Null Count  Dtype         \n",
      "---  ------                  --------------  -----         \n",
      " 0   OCCUPANCY_DATE          50944 non-null  datetime64[ns]\n",
      " 1   ORGANIZATION_NAME       50944 non-null  object        \n",
      " 2   PROGRAM_ID              50944 non-null  int64         \n",
      " 3   PROGRAM_NAME            50909 non-null  object        \n",
      " 4   SECTOR                  50944 non-null  object        \n",
      " 5   PROGRAM_MODEL           50942 non-null  object        \n",
      " 6   OVERNIGHT_SERVICE_TYPE  50942 non-null  object        \n",
      " 7   PROGRAM_AREA            50942 non-null  object        \n",
      " 8   SERVICE_USER_COUNT      50944 non-null  int64         \n",
      " 9   CAPACITY_TYPE           50944 non-null  object        \n",
      " 10  CAPACITY_ACTUAL_BED     32399 non-null  float64       \n",
      " 11  OCCUPIED_BEDS           32399 non-null  float64       \n",
      " 12  CAPACITY_ACTUAL_ROOM    18545 non-null  float64       \n",
      " 13  OCCUPIED_ROOMS          18545 non-null  float64       \n",
      "dtypes: datetime64[ns](1), float64(4), int64(2), object(7)\n",
      "memory usage: 5.4+ MB\n"
     ]
    }
   ],
   "source": [
    "data.info()"
   ]
  },
  {
   "cell_type": "markdown",
   "id": "7b4d274a",
   "metadata": {},
   "source": [
    "## Compute the shelter program occupancy rates"
   ]
  },
  {
   "cell_type": "code",
   "execution_count": 9,
   "id": "3345bc5d",
   "metadata": {},
   "outputs": [
    {
     "data": {
      "text/html": [
       "<div>\n",
       "<style scoped>\n",
       "    .dataframe tbody tr th:only-of-type {\n",
       "        vertical-align: middle;\n",
       "    }\n",
       "\n",
       "    .dataframe tbody tr th {\n",
       "        vertical-align: top;\n",
       "    }\n",
       "\n",
       "    .dataframe thead th {\n",
       "        text-align: right;\n",
       "    }\n",
       "</style>\n",
       "<table border=\"1\" class=\"dataframe\">\n",
       "  <thead>\n",
       "    <tr style=\"text-align: right;\">\n",
       "      <th></th>\n",
       "      <th>BED_OCCUPANCY_RATE</th>\n",
       "      <th>ROOM_OCCUPANCY_RATE</th>\n",
       "    </tr>\n",
       "  </thead>\n",
       "  <tbody>\n",
       "    <tr>\n",
       "      <th>count</th>\n",
       "      <td>32399.000000</td>\n",
       "      <td>18545.000000</td>\n",
       "    </tr>\n",
       "    <tr>\n",
       "      <th>mean</th>\n",
       "      <td>0.927885</td>\n",
       "      <td>0.934087</td>\n",
       "    </tr>\n",
       "    <tr>\n",
       "      <th>std</th>\n",
       "      <td>0.122562</td>\n",
       "      <td>0.163241</td>\n",
       "    </tr>\n",
       "    <tr>\n",
       "      <th>min</th>\n",
       "      <td>0.022727</td>\n",
       "      <td>0.012048</td>\n",
       "    </tr>\n",
       "    <tr>\n",
       "      <th>25%</th>\n",
       "      <td>0.900000</td>\n",
       "      <td>0.958333</td>\n",
       "    </tr>\n",
       "    <tr>\n",
       "      <th>50%</th>\n",
       "      <td>1.000000</td>\n",
       "      <td>1.000000</td>\n",
       "    </tr>\n",
       "    <tr>\n",
       "      <th>75%</th>\n",
       "      <td>1.000000</td>\n",
       "      <td>1.000000</td>\n",
       "    </tr>\n",
       "    <tr>\n",
       "      <th>max</th>\n",
       "      <td>1.000000</td>\n",
       "      <td>1.014085</td>\n",
       "    </tr>\n",
       "  </tbody>\n",
       "</table>\n",
       "</div>"
      ],
      "text/plain": [
       "       BED_OCCUPANCY_RATE  ROOM_OCCUPANCY_RATE\n",
       "count        32399.000000         18545.000000\n",
       "mean             0.927885             0.934087\n",
       "std              0.122562             0.163241\n",
       "min              0.022727             0.012048\n",
       "25%              0.900000             0.958333\n",
       "50%              1.000000             1.000000\n",
       "75%              1.000000             1.000000\n",
       "max              1.000000             1.014085"
      ]
     },
     "execution_count": 9,
     "metadata": {},
     "output_type": "execute_result"
    }
   ],
   "source": [
    "# Calculate occupancy rates where data is available\n",
    "# For beds\n",
    "data['BED_OCCUPANCY_RATE'] = data['OCCUPIED_BEDS'] / data['CAPACITY_ACTUAL_BED']\n",
    "\n",
    "# For rooms\n",
    "data['ROOM_OCCUPANCY_RATE'] = data['OCCUPIED_ROOMS'] / data['CAPACITY_ACTUAL_ROOM']\n",
    "\n",
    "# Drop the rows where both occupancy rates are NaN as they can't be used in t-tests\n",
    "data_clean = data.dropna(subset=['BED_OCCUPANCY_RATE', 'ROOM_OCCUPANCY_RATE'], how='all')\n",
    "\n",
    "# Now let's look at the cleaned data and the new occupancy rate columns\n",
    "data_clean[['BED_OCCUPANCY_RATE', 'ROOM_OCCUPANCY_RATE']].describe()\n"
   ]
  },
  {
   "cell_type": "markdown",
   "id": "7d689a4f",
   "metadata": {},
   "source": [
    "## T-test"
   ]
  },
  {
   "cell_type": "markdown",
   "id": "032ad0be",
   "metadata": {},
   "source": [
    "### **T-Test for `PROGRAM_MODEL` with `BED_OCCUPANCY_RATE`**:"
   ]
  },
  {
   "cell_type": "code",
   "execution_count": 17,
   "id": "4dec0c21",
   "metadata": {},
   "outputs": [
    {
     "name": "stdout",
     "output_type": "stream",
     "text": [
      "T-Statistic: -29.99987778443592, P-Value: 1.004985053552184e-194\n"
     ]
    }
   ],
   "source": [
    "from scipy import stats\n",
    "df = data_clean.copy()\n",
    "categories = df['OVERNIGHT_SERVICE_TYPE'].unique()\n",
    "\n",
    "# Assuming there are only two categories for simplicity\n",
    "group1 = df[df['OVERNIGHT_SERVICE_TYPE'] == categories[0]]['BED_OCCUPANCY_RATE']\n",
    "group2 = df[df['OVERNIGHT_SERVICE_TYPE'] == categories[1]]['BED_OCCUPANCY_RATE']\n",
    "\n",
    "# Perform T-Test\n",
    "t_statistic, p_value = stats.ttest_ind(group1, group2, nan_policy='omit')\n",
    "\n",
    "print(f\"T-Statistic: {t_statistic}, P-Value: {p_value}\")"
   ]
  },
  {
   "cell_type": "markdown",
   "id": "8165304f",
   "metadata": {},
   "source": [
    "### **T-Test for `PROGRAM_MODEL ` with `ROOM_OCCUPANCY_RATE`**:"
   ]
  },
  {
   "cell_type": "code",
   "execution_count": 18,
   "id": "599320eb",
   "metadata": {},
   "outputs": [
    {
     "name": "stdout",
     "output_type": "stream",
     "text": [
      "T-Statistic for PROGRAM_MODEL: 38.780694714817365, P-Value: 0.0\n"
     ]
    }
   ],
   "source": [
    "# T-Test for PROGRAM_MODEL\n",
    "program_models = df['PROGRAM_MODEL'].unique()\n",
    "\n",
    "# Assuming there are at least two different program models\n",
    "group1_model = df[df['PROGRAM_MODEL'] == program_models[0]]['BED_OCCUPANCY_RATE']\n",
    "group2_model = df[df['PROGRAM_MODEL'] == program_models[1]]['BED_OCCUPANCY_RATE']\n",
    "\n",
    "t_statistic_model, p_value_model = stats.ttest_ind(group1_model, group2_model, nan_policy='omit')\n",
    "\n",
    "print(f\"T-Statistic for PROGRAM_MODEL: {t_statistic_model}, P-Value: {p_value_model}\")\n"
   ]
  },
  {
   "cell_type": "markdown",
   "id": "c532e6e9",
   "metadata": {},
   "source": [
    "### **T-Test for `SECTOR ` with `BED_OCCUPANCY_RATE`**:"
   ]
  },
  {
   "cell_type": "code",
   "execution_count": 19,
   "id": "09dda441",
   "metadata": {},
   "outputs": [
    {
     "name": "stdout",
     "output_type": "stream",
     "text": [
      "T-Statistic for SECTOR: 8.660754065466053, P-Value: 5.290740247388472e-18\n"
     ]
    }
   ],
   "source": [
    "# T-Test for SECTOR\n",
    "sectors = df['SECTOR'].unique()\n",
    "\n",
    "# Assuming there are at least two different sectors\n",
    "group1_sector = df[df['SECTOR'] == sectors[0]]['ROOM_OCCUPANCY_RATE']\n",
    "group2_sector = df[df['SECTOR'] == sectors[1]]['ROOM_OCCUPANCY_RATE']\n",
    "\n",
    "t_statistic_sector, p_value_sector = stats.ttest_ind(group1_sector, group2_sector, nan_policy='omit')\n",
    "\n",
    "print(f\"T-Statistic for SECTOR: {t_statistic_sector}, P-Value: {p_value_sector}\")\n"
   ]
  },
  {
   "cell_type": "code",
   "execution_count": null,
   "id": "c07961cd",
   "metadata": {},
   "outputs": [],
   "source": []
  },
  {
   "cell_type": "markdown",
   "id": "4c710d12",
   "metadata": {},
   "source": [
    "## EDA"
   ]
  },
  {
   "cell_type": "code",
   "execution_count": 22,
   "id": "7c542049",
   "metadata": {},
   "outputs": [
    {
     "data": {
      "text/html": [
       "<div>\n",
       "<style scoped>\n",
       "    .dataframe tbody tr th:only-of-type {\n",
       "        vertical-align: middle;\n",
       "    }\n",
       "\n",
       "    .dataframe tbody tr th {\n",
       "        vertical-align: top;\n",
       "    }\n",
       "\n",
       "    .dataframe thead th {\n",
       "        text-align: right;\n",
       "    }\n",
       "</style>\n",
       "<table border=\"1\" class=\"dataframe\">\n",
       "  <thead>\n",
       "    <tr style=\"text-align: right;\">\n",
       "      <th></th>\n",
       "      <th>OCCUPANCY_DATE</th>\n",
       "      <th>PROGRAM_ID</th>\n",
       "      <th>SERVICE_USER_COUNT</th>\n",
       "      <th>CAPACITY_ACTUAL_BED</th>\n",
       "      <th>OCCUPIED_BEDS</th>\n",
       "      <th>CAPACITY_ACTUAL_ROOM</th>\n",
       "      <th>OCCUPIED_ROOMS</th>\n",
       "      <th>OCCUPANCY_RATE_BEDS</th>\n",
       "      <th>OCCUPANCY_RATE_ROOMS</th>\n",
       "      <th>BED_OCCUPANCY_RATE</th>\n",
       "      <th>ROOM_OCCUPANCY_RATE</th>\n",
       "    </tr>\n",
       "  </thead>\n",
       "  <tbody>\n",
       "    <tr>\n",
       "      <th>count</th>\n",
       "      <td>50944</td>\n",
       "      <td>50944.000000</td>\n",
       "      <td>50944.000000</td>\n",
       "      <td>32399.000000</td>\n",
       "      <td>32399.000000</td>\n",
       "      <td>18545.000000</td>\n",
       "      <td>18545.000000</td>\n",
       "      <td>32399.000000</td>\n",
       "      <td>18545.000000</td>\n",
       "      <td>32399.000000</td>\n",
       "      <td>18545.000000</td>\n",
       "    </tr>\n",
       "    <tr>\n",
       "      <th>mean</th>\n",
       "      <td>2021-06-29 13:31:57.022612992</td>\n",
       "      <td>13986.125844</td>\n",
       "      <td>45.727171</td>\n",
       "      <td>31.627149</td>\n",
       "      <td>29.780271</td>\n",
       "      <td>55.549259</td>\n",
       "      <td>52.798598</td>\n",
       "      <td>0.927885</td>\n",
       "      <td>0.934087</td>\n",
       "      <td>0.927885</td>\n",
       "      <td>0.934087</td>\n",
       "    </tr>\n",
       "    <tr>\n",
       "      <th>min</th>\n",
       "      <td>2021-01-01 00:00:00</td>\n",
       "      <td>11791.000000</td>\n",
       "      <td>1.000000</td>\n",
       "      <td>1.000000</td>\n",
       "      <td>1.000000</td>\n",
       "      <td>1.000000</td>\n",
       "      <td>1.000000</td>\n",
       "      <td>0.022727</td>\n",
       "      <td>0.012048</td>\n",
       "      <td>0.022727</td>\n",
       "      <td>0.012048</td>\n",
       "    </tr>\n",
       "    <tr>\n",
       "      <th>25%</th>\n",
       "      <td>2021-03-30 00:00:00</td>\n",
       "      <td>12233.000000</td>\n",
       "      <td>15.000000</td>\n",
       "      <td>15.000000</td>\n",
       "      <td>14.000000</td>\n",
       "      <td>19.000000</td>\n",
       "      <td>16.000000</td>\n",
       "      <td>0.900000</td>\n",
       "      <td>0.958333</td>\n",
       "      <td>0.900000</td>\n",
       "      <td>0.958333</td>\n",
       "    </tr>\n",
       "    <tr>\n",
       "      <th>50%</th>\n",
       "      <td>2021-06-28 00:00:00</td>\n",
       "      <td>14251.000000</td>\n",
       "      <td>28.000000</td>\n",
       "      <td>25.000000</td>\n",
       "      <td>23.000000</td>\n",
       "      <td>35.000000</td>\n",
       "      <td>34.000000</td>\n",
       "      <td>1.000000</td>\n",
       "      <td>1.000000</td>\n",
       "      <td>1.000000</td>\n",
       "      <td>1.000000</td>\n",
       "    </tr>\n",
       "    <tr>\n",
       "      <th>75%</th>\n",
       "      <td>2021-09-29 00:00:00</td>\n",
       "      <td>15651.000000</td>\n",
       "      <td>51.000000</td>\n",
       "      <td>43.000000</td>\n",
       "      <td>41.000000</td>\n",
       "      <td>68.000000</td>\n",
       "      <td>66.000000</td>\n",
       "      <td>1.000000</td>\n",
       "      <td>1.000000</td>\n",
       "      <td>1.000000</td>\n",
       "      <td>1.000000</td>\n",
       "    </tr>\n",
       "    <tr>\n",
       "      <th>max</th>\n",
       "      <td>2021-12-31 00:00:00</td>\n",
       "      <td>16631.000000</td>\n",
       "      <td>339.000000</td>\n",
       "      <td>234.000000</td>\n",
       "      <td>234.000000</td>\n",
       "      <td>268.000000</td>\n",
       "      <td>268.000000</td>\n",
       "      <td>1.000000</td>\n",
       "      <td>1.014085</td>\n",
       "      <td>1.000000</td>\n",
       "      <td>1.014085</td>\n",
       "    </tr>\n",
       "    <tr>\n",
       "      <th>std</th>\n",
       "      <td>NaN</td>\n",
       "      <td>1705.288632</td>\n",
       "      <td>53.326049</td>\n",
       "      <td>27.127682</td>\n",
       "      <td>26.379416</td>\n",
       "      <td>59.448805</td>\n",
       "      <td>58.792954</td>\n",
       "      <td>0.122562</td>\n",
       "      <td>0.163241</td>\n",
       "      <td>0.122562</td>\n",
       "      <td>0.163241</td>\n",
       "    </tr>\n",
       "  </tbody>\n",
       "</table>\n",
       "</div>"
      ],
      "text/plain": [
       "                      OCCUPANCY_DATE    PROGRAM_ID  SERVICE_USER_COUNT  \\\n",
       "count                          50944  50944.000000        50944.000000   \n",
       "mean   2021-06-29 13:31:57.022612992  13986.125844           45.727171   \n",
       "min              2021-01-01 00:00:00  11791.000000            1.000000   \n",
       "25%              2021-03-30 00:00:00  12233.000000           15.000000   \n",
       "50%              2021-06-28 00:00:00  14251.000000           28.000000   \n",
       "75%              2021-09-29 00:00:00  15651.000000           51.000000   \n",
       "max              2021-12-31 00:00:00  16631.000000          339.000000   \n",
       "std                              NaN   1705.288632           53.326049   \n",
       "\n",
       "       CAPACITY_ACTUAL_BED  OCCUPIED_BEDS  CAPACITY_ACTUAL_ROOM  \\\n",
       "count         32399.000000   32399.000000          18545.000000   \n",
       "mean             31.627149      29.780271             55.549259   \n",
       "min               1.000000       1.000000              1.000000   \n",
       "25%              15.000000      14.000000             19.000000   \n",
       "50%              25.000000      23.000000             35.000000   \n",
       "75%              43.000000      41.000000             68.000000   \n",
       "max             234.000000     234.000000            268.000000   \n",
       "std              27.127682      26.379416             59.448805   \n",
       "\n",
       "       OCCUPIED_ROOMS  OCCUPANCY_RATE_BEDS  OCCUPANCY_RATE_ROOMS  \\\n",
       "count    18545.000000         32399.000000          18545.000000   \n",
       "mean        52.798598             0.927885              0.934087   \n",
       "min          1.000000             0.022727              0.012048   \n",
       "25%         16.000000             0.900000              0.958333   \n",
       "50%         34.000000             1.000000              1.000000   \n",
       "75%         66.000000             1.000000              1.000000   \n",
       "max        268.000000             1.000000              1.014085   \n",
       "std         58.792954             0.122562              0.163241   \n",
       "\n",
       "       BED_OCCUPANCY_RATE  ROOM_OCCUPANCY_RATE  \n",
       "count        32399.000000         18545.000000  \n",
       "mean             0.927885             0.934087  \n",
       "min              0.022727             0.012048  \n",
       "25%              0.900000             0.958333  \n",
       "50%              1.000000             1.000000  \n",
       "75%              1.000000             1.000000  \n",
       "max              1.000000             1.014085  \n",
       "std              0.122562             0.163241  "
      ]
     },
     "execution_count": 22,
     "metadata": {},
     "output_type": "execute_result"
    }
   ],
   "source": [
    "# Summary statistics for numerical columns\n",
    "summary_statistics = df.describe()\n",
    "summary_statistics"
   ]
  },
  {
   "cell_type": "code",
   "execution_count": 23,
   "id": "a0492baa",
   "metadata": {},
   "outputs": [
    {
     "data": {
      "image/png": "[encoded data removed]",
      "text/plain": [
       "<Figure size 1000x600 with 1 Axes>"
      ]
     },
     "metadata": {},
     "output_type": "display_data"
    }
   ],
   "source": [
    "# Distribution of SERVICE_USER_COUNT\n",
    "plt.figure(figsize=(10, 6))\n",
    "sns.histplot(df['SERVICE_USER_COUNT'], bins=30, kde=True)\n",
    "plt.title('Distribution of Service User Count')\n",
    "plt.xlabel('Service User Count')\n",
    "plt.ylabel('Frequency')\n",
    "plt.grid(True)\n",
    "plt.show()"
   ]
  },
  {
   "cell_type": "code",
   "execution_count": 24,
   "id": "a4ba5bd5",
   "metadata": {},
   "outputs": [
    {
     "data": {
      "image/png": "[encoded data removed]",
      "text/plain": [
       "<Figure size 1000x600 with 1 Axes>"
      ]
     },
     "metadata": {},
     "output_type": "display_data"
    }
   ],
   "source": [
    "# Average Occupancy Rate by PROGRAM_MODEL\n",
    "df['BED_OCCUPANCY_RATE'] = df['OCCUPIED_BEDS'] / df['CAPACITY_ACTUAL_BED']\n",
    "avg_occupancy_by_program = df.groupby('PROGRAM_MODEL')['BED_OCCUPANCY_RATE'].mean().reset_index()\n",
    "\n",
    "plt.figure(figsize=(10, 6))\n",
    "sns.barplot(x='PROGRAM_MODEL', y='BED_OCCUPANCY_RATE', data=avg_occupancy_by_program)\n",
    "plt.title('Average Bed Occupancy Rate by Program Model')\n",
    "plt.xlabel('Program Model')\n",
    "plt.ylabel('Average Bed Occupancy Rate')\n",
    "plt.xticks(rotation=45)\n",
    "plt.grid(True)\n",
    "plt.show()"
   ]
  },
  {
   "cell_type": "code",
   "execution_count": null,
   "id": "f5c28c16",
   "metadata": {},
   "outputs": [],
   "source": []
  },
  {
   "cell_type": "code",
   "execution_count": 25,
   "id": "205bc9ab",
   "metadata": {},
   "outputs": [
    {
     "data": {
      "image/png": "[encoded data removed]",
      "text/plain": [
       "<Figure size 1000x600 with 1 Axes>"
      ]
     },
     "metadata": {},
     "output_type": "display_data"
    }
   ],
   "source": [
    "# the number of programs by ORGANIZATION_NAME to understand the distribution of programs across organizations.\n",
    "programs_per_organization = df['ORGANIZATION_NAME'].value_counts().reset_index()\n",
    "programs_per_organization.columns = ['ORGANIZATION_NAME', 'PROGRAM_COUNT']\n",
    "\n",
    "plt.figure(figsize=(10, 6))\n",
    "sns.barplot(x='PROGRAM_COUNT', y='ORGANIZATION_NAME', data=programs_per_organization.head(10), palette='viridis')\n",
    "plt.title('Top 10 Organizations by Program Count')\n",
    "plt.xlabel('Program Count')\n",
    "plt.ylabel('Organization Name')\n",
    "plt.grid(True)\n",
    "plt.show()"
   ]
  },
  {
   "cell_type": "code",
   "execution_count": 27,
   "id": "816bd995",
   "metadata": {},
   "outputs": [
    {
     "data": {
      "text/html": [
       "<div>\n",
       "<style scoped>\n",
       "    .dataframe tbody tr th:only-of-type {\n",
       "        vertical-align: middle;\n",
       "    }\n",
       "\n",
       "    .dataframe tbody tr th {\n",
       "        vertical-align: top;\n",
       "    }\n",
       "\n",
       "    .dataframe thead th {\n",
       "        text-align: right;\n",
       "    }\n",
       "</style>\n",
       "<table border=\"1\" class=\"dataframe\">\n",
       "  <thead>\n",
       "    <tr style=\"text-align: right;\">\n",
       "      <th></th>\n",
       "      <th>PROGRAM_MODEL</th>\n",
       "      <th>BED_OCCUPANCY_RATE</th>\n",
       "    </tr>\n",
       "  </thead>\n",
       "  <tbody>\n",
       "    <tr>\n",
       "      <th>0</th>\n",
       "      <td>Emergency</td>\n",
       "      <td>0.943501</td>\n",
       "    </tr>\n",
       "    <tr>\n",
       "      <th>1</th>\n",
       "      <td>Transitional</td>\n",
       "      <td>0.885194</td>\n",
       "    </tr>\n",
       "  </tbody>\n",
       "</table>\n",
       "</div>"
      ],
      "text/plain": [
       "  PROGRAM_MODEL  BED_OCCUPANCY_RATE\n",
       "0     Emergency            0.943501\n",
       "1  Transitional            0.885194"
      ]
     },
     "execution_count": 27,
     "metadata": {},
     "output_type": "execute_result"
    }
   ],
   "source": [
    "avg_occupancy_by_program.head()"
   ]
  },
  {
   "cell_type": "code",
   "execution_count": 28,
   "id": "26c56fc1",
   "metadata": {},
   "outputs": [
    {
     "data": {
      "text/html": [
       "<div>\n",
       "<style scoped>\n",
       "    .dataframe tbody tr th:only-of-type {\n",
       "        vertical-align: middle;\n",
       "    }\n",
       "\n",
       "    .dataframe tbody tr th {\n",
       "        vertical-align: top;\n",
       "    }\n",
       "\n",
       "    .dataframe thead th {\n",
       "        text-align: right;\n",
       "    }\n",
       "</style>\n",
       "<table border=\"1\" class=\"dataframe\">\n",
       "  <thead>\n",
       "    <tr style=\"text-align: right;\">\n",
       "      <th></th>\n",
       "      <th>ORGANIZATION_NAME</th>\n",
       "      <th>PROGRAM_COUNT</th>\n",
       "    </tr>\n",
       "  </thead>\n",
       "  <tbody>\n",
       "    <tr>\n",
       "      <th>0</th>\n",
       "      <td>City of Toronto</td>\n",
       "      <td>11960</td>\n",
       "    </tr>\n",
       "    <tr>\n",
       "      <th>1</th>\n",
       "      <td>Homes First Society</td>\n",
       "      <td>5266</td>\n",
       "    </tr>\n",
       "    <tr>\n",
       "      <th>2</th>\n",
       "      <td>The Salvation Army of Canada</td>\n",
       "      <td>3461</td>\n",
       "    </tr>\n",
       "    <tr>\n",
       "      <th>3</th>\n",
       "      <td>COSTI Immigrant Services</td>\n",
       "      <td>2967</td>\n",
       "    </tr>\n",
       "    <tr>\n",
       "      <th>4</th>\n",
       "      <td>Fred Victor Centre</td>\n",
       "      <td>2673</td>\n",
       "    </tr>\n",
       "  </tbody>\n",
       "</table>\n",
       "</div>"
      ],
      "text/plain": [
       "              ORGANIZATION_NAME  PROGRAM_COUNT\n",
       "0               City of Toronto          11960\n",
       "1           Homes First Society           5266\n",
       "2  The Salvation Army of Canada           3461\n",
       "3      COSTI Immigrant Services           2967\n",
       "4            Fred Victor Centre           2673"
      ]
     },
     "execution_count": 28,
     "metadata": {},
     "output_type": "execute_result"
    }
   ],
   "source": [
    "programs_per_organization.head()"
   ]
  },
  {
   "cell_type": "code",
   "execution_count": null,
   "id": "4ad644bf",
   "metadata": {},
   "outputs": [],
   "source": []
  }
 ],
 "metadata": {
  "kernelspec": {
   "display_name": "Python 3 (ipykernel)",
   "language": "python",
   "name": "python3"
  },
  "language_info": {
   "codemirror_mode": {
    "name": "ipython",
    "version": 3
   },
   "file_extension": ".py",
   "mimetype": "text/x-python",
   "name": "python",
   "nbconvert_exporter": "python",
   "pygments_lexer": "ipython3",
   "version": "3.11.5"
  }
 },
 "nbformat": 4,
 "nbformat_minor": 5
}
