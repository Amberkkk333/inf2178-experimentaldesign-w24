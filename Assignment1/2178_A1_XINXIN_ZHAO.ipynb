{
  "metadata": {
    "kernelspec": {
      "name": "python",
      "display_name": "Python (Pyodide)",
      "language": "python"
    },
    "language_info": {
      "codemirror_mode": {
        "name": "python",
        "version": 3
      },
      "file_extension": ".py",
      "mimetype": "text/x-python",
      "name": "python",
      "nbconvert_exporter": "python",
      "pygments_lexer": "ipython3",
      "version": "3.8"
    }
  },
  "nbformat_minor": 4,
  "nbformat": 4,
  "cells": [
    {
      "cell_type": "code",
      "source": "import pandas as pd\nimport numpy as np\nimport matplotlib.pyplot as plt\nfrom scipy.stats import ttest_ind\nimport piplite\nawait piplite.install('seaborn')\nimport seaborn as sns\n\n# Load the data\ndf = pd.read_csv('toronto.csv')\n\n# Data Cleaning\n# Drop irrelevant columns\ncolumns_to_drop = ['PROGRAM_NAME', 'PROGRAM_AREA', 'OVERNIGHT_SERVICE_TYPE', 'PROGRAM_ID']\ndf_cleaned = df.drop(columns=columns_to_drop)\n\n\n# Exploratory Data Analysis\n# Visualizations\n\n# Grouping data by month and calculating average occupancy rate\n\n# Calculate occupancy rate for beds\ndf_cleaned['Occupancy_Rate_Bed'] = (df_cleaned['OCCUPIED_BEDS'] / df_cleaned['CAPACITY_ACTUAL_BED']) * 100\n\n# Calculate occupancy rate for rooms\ndf_cleaned['Occupancy_Rate_Room'] = (df_cleaned['OCCUPIED_ROOMS'] / df_cleaned['CAPACITY_ACTUAL_ROOM']) * 100\n\n# Calculate an overall occupancy rate by taking the average of occupancy rates for beds and rooms, replace null with 0\ndf_cleaned['Occupancy_Rate_Overall'] = (df_cleaned['Occupancy_Rate_Bed'].fillna(0) + df_cleaned['Occupancy_Rate_Room'].fillna(0)) / 2\n\n# Convert 'date' column to datetime format\ndf_cleaned['OCCUPANCY_DATE'] = pd.to_datetime(df_cleaned['OCCUPANCY_DATE'])\n\n# Grouping data by month and calculating average occupancy rate\nmonthly_occupancy = df_cleaned.groupby(df_cleaned['OCCUPANCY_DATE'].dt.to_period('M'))['Occupancy_Rate_Overall'].mean()\n\n# Plotting the occupancy rate over time\nplt.figure(figsize=(10, 6))\nplt.plot(monthly_occupancy.index.to_timestamp(), monthly_occupancy.values, marker='8', linestyle='-')\nplt.title('Average Shelter Occupancy Rate Over Time')\nplt.xlabel('Date')\nplt.ylabel('Occupancy Rate (%)')\nplt.xticks(rotation=45)\nplt.grid(True)\nplt.tight_layout()\nplt.show()\n\n# Plotting average occupancy rate by program type\nplt.figure(figsize=(10, 6))\nsns.barplot(x='PROGRAM_MODEL', y='Occupancy_Rate_Overall', data=df_cleaned)\nplt.title('Average Occupancy Rate by Program Type')\nplt.xlabel('Program Type')\nplt.ylabel('Occupancy Rate (%)')\nplt.xticks(rotation=45)\nplt.tight_layout()\nplt.show()\n\n# Plotting occupancy rate distribution by shelter organization\nplt.figure(figsize=(30, 6))\nsns.boxplot(x='ORGANIZATION_NAME', y='Occupancy_Rate_Overall', data=df_cleaned)\nplt.title('Occupancy Rate Distribution by Shelter Organization')\nplt.xlabel('Shelter Organization')\nplt.ylabel('Occupancy Rate (%)')\nplt.xticks(rotation=45)\nplt.tight_layout()\nplt.show()\n\n# Conduct t-test to compare occupancy rates between different seasons or months\n# Compare occupancy rates between winter and summer months\n\nwinter_occupancy = df_cleaned[df_cleaned['OCCUPANCY_DATE'].dt.month.isin([12, 1, 2])]['Occupancy_Rate_Overall']\nsummer_occupancy = df_cleaned[df_cleaned['OCCUPANCY_DATE'].dt.month.isin([6, 7, 8])]['Occupancy_Rate_Overall']\n\nt_stat, p_value = ttest_ind(winter_occupancy, summer_occupancy)\nprint(\"T-Test Results for Seasonal Trends:\")\nprint(f\"T-Statistic: {t_stat}\")\nprint(f\"P-Value: {p_value}\")\n\n# Compare occupancy rates between different program models\n\nprogram_type_1_occupancy = df_cleaned[df_cleaned['PROGRAM_MODEL'] == 'Emergency']['Occupancy_Rate_Overall']\nprogram_type_2_occupancy = df_cleaned[df_cleaned['PROGRAM_MODEL'] == 'Transitional']['Occupancy_Rate_Overall']\n\nt_stat, p_value = ttest_ind(program_type_1_occupancy, program_type_2_occupancy)\nprint(\"T-Test Results for Programmatic Disparities:\")\nprint(f\"T-Statistic: {t_stat}\")\nprint(f\"P-Value: {p_value}\")\n\n# Compare occupancy rates between different shelter organizations\n\norg_1_occupancy = df_cleaned[df_cleaned['ORGANIZATION_NAME'] == 'City of Toronto']['Occupancy_Rate_Overall']\norg_2_occupancy = df_cleaned[df_cleaned['ORGANIZATION_NAME'] == 'The Salvation Army of Canada']['Occupancy_Rate_Overall']\n\nt_stat, p_value = ttest_ind(org_1_occupancy, org_2_occupancy)\nprint(\"T-Test Results for Organizational Performance:\")\nprint(f\"T-Statistic: {t_stat}\")\nprint(f\"P-Value: {p_value}\")",
      "metadata": {
        "trusted": true
      },
      "outputs": [
        {
          "name": "stdout",
          "text": "T-Test Results for Seasonal Trends:\nT-Statistic: 13.732150632203595\nP-Value: 9.256519912353863e-43\nT-Test Results for Programmatic Disparities:\nT-Statistic: 39.0749698065413\nP-Value: 0.0\nT-Test Results for Organizational Performance:\nT-Statistic: -27.399364757745072\nP-Value: 1.9965633835452346e-161\n",
          "output_type": "stream"
        }
      ],
      "execution_count": 63
    },
    {
      "cell_type": "code",
      "source": "",
      "metadata": {
        "trusted": true
      },
      "outputs": [],
      "execution_count": null
    }
  ]
}