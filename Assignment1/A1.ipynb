{
  "nbformat": 4,
  "nbformat_minor": 0,
  "metadata": {
    "colab": {
      "provenance": []
    },
    "kernelspec": {
      "name": "python3",
      "display_name": "Python 3"
    },
    "language_info": {
      "name": "python"
    }
  },
  "cells": [
    {
      "cell_type": "markdown",
      "source": [
        "# Shelter Usage Data Analysis"
      ],
      "metadata": {
        "id": "_fcihb187BmA"
      }
    },
    {
      "cell_type": "markdown",
      "source": [
        "This assignment aims to conduct an exploratory data analysis and quantitative analysis of the shelter usage trends by examining the daily occupancy and capacity of Toronto shelters for the year 2021. Investigating the occupancy rates and serving user counts for different types of capacity, and give a potential strategy in future established shelters so that more homeless could be accepted when they need overnight and shelter services."
      ],
      "metadata": {
        "id": "eyUVg1c8cZZl"
      }
    },
    {
      "cell_type": "code",
      "execution_count": 3,
      "metadata": {
        "colab": {
          "base_uri": "https://localhost:8080/",
          "height": 91
        },
        "id": "HKzFmrU8u820",
        "outputId": "f62c5c6a-5cd6-4bea-bd1e-d883ee117596"
      },
      "outputs": [
        {
          "output_type": "display_data",
          "data": {
            "text/plain": [
              "<IPython.core.display.HTML object>"
            ],
            "text/html": [
              "\n",
              "     <input type=\"file\" id=\"files-cb5ff195-a948-45f0-b1b0-10d9dbf37bb0\" name=\"files[]\" multiple disabled\n",
              "        style=\"border:none\" />\n",
              "     <output id=\"result-cb5ff195-a948-45f0-b1b0-10d9dbf37bb0\">\n",
              "      Upload widget is only available when the cell has been executed in the\n",
              "      current browser session. Please rerun this cell to enable.\n",
              "      </output>\n",
              "      <script>// Copyright 2017 Google LLC\n",
              "//\n",
              "// Licensed under the Apache License, Version 2.0 (the \"License\");\n",
              "// you may not use this file except in compliance with the License.\n",
              "// You may obtain a copy of the License at\n",
              "//\n",
              "//      http://www.apache.org/licenses/LICENSE-2.0\n",
              "//\n",
              "// Unless required by applicable law or agreed to in writing, software\n",
              "// distributed under the License is distributed on an \"AS IS\" BASIS,\n",
              "// WITHOUT WARRANTIES OR CONDITIONS OF ANY KIND, either express or implied.\n",
              "// See the License for the specific language governing permissions and\n",
              "// limitations under the License.\n",
              "\n",
              "/**\n",
              " * @fileoverview Helpers for google.colab Python module.\n",
              " */\n",
              "(function(scope) {\n",
              "function span(text, styleAttributes = {}) {\n",
              "  const element = document.createElement('span');\n",
              "  element.textContent = text;\n",
              "  for (const key of Object.keys(styleAttributes)) {\n",
              "    element.style[key] = styleAttributes[key];\n",
              "  }\n",
              "  return element;\n",
              "}\n",
              "\n",
              "// Max number of bytes which will be uploaded at a time.\n",
              "const MAX_PAYLOAD_SIZE = 100 * 1024;\n",
              "\n",
              "function _uploadFiles(inputId, outputId) {\n",
              "  const steps = uploadFilesStep(inputId, outputId);\n",
              "  const outputElement = document.getElementById(outputId);\n",
              "  // Cache steps on the outputElement to make it available for the next call\n",
              "  // to uploadFilesContinue from Python.\n",
              "  outputElement.steps = steps;\n",
              "\n",
              "  return _uploadFilesContinue(outputId);\n",
              "}\n",
              "\n",
              "// This is roughly an async generator (not supported in the browser yet),\n",
              "// where there are multiple asynchronous steps and the Python side is going\n",
              "// to poll for completion of each step.\n",
              "// This uses a Promise to block the python side on completion of each step,\n",
              "// then passes the result of the previous step as the input to the next step.\n",
              "function _uploadFilesContinue(outputId) {\n",
              "  const outputElement = document.getElementById(outputId);\n",
              "  const steps = outputElement.steps;\n",
              "\n",
              "  const next = steps.next(outputElement.lastPromiseValue);\n",
              "  return Promise.resolve(next.value.promise).then((value) => {\n",
              "    // Cache the last promise value to make it available to the next\n",
              "    // step of the generator.\n",
              "    outputElement.lastPromiseValue = value;\n",
              "    return next.value.response;\n",
              "  });\n",
              "}\n",
              "\n",
              "/**\n",
              " * Generator function which is called between each async step of the upload\n",
              " * process.\n",
              " * @param {string} inputId Element ID of the input file picker element.\n",
              " * @param {string} outputId Element ID of the output display.\n",
              " * @return {!Iterable<!Object>} Iterable of next steps.\n",
              " */\n",
              "function* uploadFilesStep(inputId, outputId) {\n",
              "  const inputElement = document.getElementById(inputId);\n",
              "  inputElement.disabled = false;\n",
              "\n",
              "  const outputElement = document.getElementById(outputId);\n",
              "  outputElement.innerHTML = '';\n",
              "\n",
              "  const pickedPromise = new Promise((resolve) => {\n",
              "    inputElement.addEventListener('change', (e) => {\n",
              "      resolve(e.target.files);\n",
              "    });\n",
              "  });\n",
              "\n",
              "  const cancel = document.createElement('button');\n",
              "  inputElement.parentElement.appendChild(cancel);\n",
              "  cancel.textContent = 'Cancel upload';\n",
              "  const cancelPromise = new Promise((resolve) => {\n",
              "    cancel.onclick = () => {\n",
              "      resolve(null);\n",
              "    };\n",
              "  });\n",
              "\n",
              "  // Wait for the user to pick the files.\n",
              "  const files = yield {\n",
              "    promise: Promise.race([pickedPromise, cancelPromise]),\n",
              "    response: {\n",
              "      action: 'starting',\n",
              "    }\n",
              "  };\n",
              "\n",
              "  cancel.remove();\n",
              "\n",
              "  // Disable the input element since further picks are not allowed.\n",
              "  inputElement.disabled = true;\n",
              "\n",
              "  if (!files) {\n",
              "    return {\n",
              "      response: {\n",
              "        action: 'complete',\n",
              "      }\n",
              "    };\n",
              "  }\n",
              "\n",
              "  for (const file of files) {\n",
              "    const li = document.createElement('li');\n",
              "    li.append(span(file.name, {fontWeight: 'bold'}));\n",
              "    li.append(span(\n",
              "        `(${file.type || 'n/a'}) - ${file.size} bytes, ` +\n",
              "        `last modified: ${\n",
              "            file.lastModifiedDate ? file.lastModifiedDate.toLocaleDateString() :\n",
              "                                    'n/a'} - `));\n",
              "    const percent = span('0% done');\n",
              "    li.appendChild(percent);\n",
              "\n",
              "    outputElement.appendChild(li);\n",
              "\n",
              "    const fileDataPromise = new Promise((resolve) => {\n",
              "      const reader = new FileReader();\n",
              "      reader.onload = (e) => {\n",
              "        resolve(e.target.result);\n",
              "      };\n",
              "      reader.readAsArrayBuffer(file);\n",
              "    });\n",
              "    // Wait for the data to be ready.\n",
              "    let fileData = yield {\n",
              "      promise: fileDataPromise,\n",
              "      response: {\n",
              "        action: 'continue',\n",
              "      }\n",
              "    };\n",
              "\n",
              "    // Use a chunked sending to avoid message size limits. See b/62115660.\n",
              "    let position = 0;\n",
              "    do {\n",
              "      const length = Math.min(fileData.byteLength - position, MAX_PAYLOAD_SIZE);\n",
              "      const chunk = new Uint8Array(fileData, position, length);\n",
              "      position += length;\n",
              "\n",
              "      const base64 = btoa(String.fromCharCode.apply(null, chunk));\n",
              "      yield {\n",
              "        response: {\n",
              "          action: 'append',\n",
              "          file: file.name,\n",
              "          data: base64,\n",
              "        },\n",
              "      };\n",
              "\n",
              "      let percentDone = fileData.byteLength === 0 ?\n",
              "          100 :\n",
              "          Math.round((position / fileData.byteLength) * 100);\n",
              "      percent.textContent = `${percentDone}% done`;\n",
              "\n",
              "    } while (position < fileData.byteLength);\n",
              "  }\n",
              "\n",
              "  // All done.\n",
              "  yield {\n",
              "    response: {\n",
              "      action: 'complete',\n",
              "    }\n",
              "  };\n",
              "}\n",
              "\n",
              "scope.google = scope.google || {};\n",
              "scope.google.colab = scope.google.colab || {};\n",
              "scope.google.colab._files = {\n",
              "  _uploadFiles,\n",
              "  _uploadFilesContinue,\n",
              "};\n",
              "})(self);\n",
              "</script> "
            ]
          },
          "metadata": {}
        },
        {
          "output_type": "stream",
          "name": "stdout",
          "text": [
            "Saving INF2178_A1_data.xlsx to INF2178_A1_data.xlsx\n"
          ]
        }
      ],
      "source": [
        "# Run this chunk to upload the input data file\n",
        "from google.colab import files\n",
        "files_upload = files.upload()"
      ]
    },
    {
      "cell_type": "code",
      "source": [
        "# import relevant packages\n",
        "import numpy as np\n",
        "import pandas as pd\n",
        "import matplotlib.pyplot as plt\n",
        "import seaborn as sns\n",
        "from scipy import stats"
      ],
      "metadata": {
        "id": "o7wFp-3F7r_Y"
      },
      "execution_count": 31,
      "outputs": []
    },
    {
      "cell_type": "code",
      "source": [
        "# read data into dataframe and take a glimpse of the data\n",
        "ShelterDf = pd.read_excel('INF2178_A1_data.xlsx')\n",
        "ShelterDf.head()"
      ],
      "metadata": {
        "colab": {
          "base_uri": "https://localhost:8080/",
          "height": 469
        },
        "id": "uuJ8GeIV8uXT",
        "outputId": "1bd0aad3-d865-410a-abd5-e4dc30f041cc"
      },
      "execution_count": 32,
      "outputs": [
        {
          "output_type": "execute_result",
          "data": {
            "text/plain": [
              "  OCCUPANCY_DATE         ORGANIZATION_NAME  PROGRAM_ID  \\\n",
              "0     2021-01-01  COSTI Immigrant Services       15371   \n",
              "1     2021-01-01  COSTI Immigrant Services       16211   \n",
              "2     2021-01-01  COSTI Immigrant Services       16192   \n",
              "3     2021-01-01  COSTI Immigrant Services       16191   \n",
              "4     2021-01-01  COSTI Immigrant Services       16193   \n",
              "\n",
              "                                        PROGRAM_NAME       SECTOR  \\\n",
              "0       COSTI North York West Hotel - Family Program     Families   \n",
              "1      COSTI North York West Hotel - Seniors Program  Mixed Adult   \n",
              "2          COSTI North York West Hotel Program - Men          Men   \n",
              "3  COSTI North York West Hotel Program - Mixed Adult  Mixed Adult   \n",
              "4        COSTI North York West Hotel Program - Women        Women   \n",
              "\n",
              "  PROGRAM_MODEL OVERNIGHT_SERVICE_TYPE       PROGRAM_AREA  SERVICE_USER_COUNT  \\\n",
              "0     Emergency    Motel/Hotel Shelter  COVID-19 Response                  74   \n",
              "1     Emergency    Motel/Hotel Shelter  COVID-19 Response                   3   \n",
              "2     Emergency    Motel/Hotel Shelter  COVID-19 Response                  24   \n",
              "3     Emergency    Motel/Hotel Shelter  COVID-19 Response                  25   \n",
              "4     Emergency    Motel/Hotel Shelter  COVID-19 Response                  13   \n",
              "\n",
              "         CAPACITY_TYPE  CAPACITY_ACTUAL_BED  OCCUPIED_BEDS  \\\n",
              "0  Room Based Capacity                  NaN            NaN   \n",
              "1  Room Based Capacity                  NaN            NaN   \n",
              "2  Room Based Capacity                  NaN            NaN   \n",
              "3  Room Based Capacity                  NaN            NaN   \n",
              "4  Room Based Capacity                  NaN            NaN   \n",
              "\n",
              "   CAPACITY_ACTUAL_ROOM  OCCUPIED_ROOMS  \n",
              "0                  29.0            26.0  \n",
              "1                   3.0             3.0  \n",
              "2                  28.0            23.0  \n",
              "3                  17.0            17.0  \n",
              "4                  14.0            13.0  "
            ],
            "text/html": [
              "\n",
              "  <div id=\"df-69bdb79d-940c-4356-9775-e4e0ad91d03e\" class=\"colab-df-container\">\n",
              "    <div>\n",
              "<style scoped>\n",
              "    .dataframe tbody tr th:only-of-type {\n",
              "        vertical-align: middle;\n",
              "    }\n",
              "\n",
              "    .dataframe tbody tr th {\n",
              "        vertical-align: top;\n",
              "    }\n",
              "\n",
              "    .dataframe thead th {\n",
              "        text-align: right;\n",
              "    }\n",
              "</style>\n",
              "<table border=\"1\" class=\"dataframe\">\n",
              "  <thead>\n",
              "    <tr style=\"text-align: right;\">\n",
              "      <th></th>\n",
              "      <th>OCCUPANCY_DATE</th>\n",
              "      <th>ORGANIZATION_NAME</th>\n",
              "      <th>PROGRAM_ID</th>\n",
              "      <th>PROGRAM_NAME</th>\n",
              "      <th>SECTOR</th>\n",
              "      <th>PROGRAM_MODEL</th>\n",
              "      <th>OVERNIGHT_SERVICE_TYPE</th>\n",
              "      <th>PROGRAM_AREA</th>\n",
              "      <th>SERVICE_USER_COUNT</th>\n",
              "      <th>CAPACITY_TYPE</th>\n",
              "      <th>CAPACITY_ACTUAL_BED</th>\n",
              "      <th>OCCUPIED_BEDS</th>\n",
              "      <th>CAPACITY_ACTUAL_ROOM</th>\n",
              "      <th>OCCUPIED_ROOMS</th>\n",
              "    </tr>\n",
              "  </thead>\n",
              "  <tbody>\n",
              "    <tr>\n",
              "      <th>0</th>\n",
              "      <td>2021-01-01</td>\n",
              "      <td>COSTI Immigrant Services</td>\n",
              "      <td>15371</td>\n",
              "      <td>COSTI North York West Hotel - Family Program</td>\n",
              "      <td>Families</td>\n",
              "      <td>Emergency</td>\n",
              "      <td>Motel/Hotel Shelter</td>\n",
              "      <td>COVID-19 Response</td>\n",
              "      <td>74</td>\n",
              "      <td>Room Based Capacity</td>\n",
              "      <td>NaN</td>\n",
              "      <td>NaN</td>\n",
              "      <td>29.0</td>\n",
              "      <td>26.0</td>\n",
              "    </tr>\n",
              "    <tr>\n",
              "      <th>1</th>\n",
              "      <td>2021-01-01</td>\n",
              "      <td>COSTI Immigrant Services</td>\n",
              "      <td>16211</td>\n",
              "      <td>COSTI North York West Hotel - Seniors Program</td>\n",
              "      <td>Mixed Adult</td>\n",
              "      <td>Emergency</td>\n",
              "      <td>Motel/Hotel Shelter</td>\n",
              "      <td>COVID-19 Response</td>\n",
              "      <td>3</td>\n",
              "      <td>Room Based Capacity</td>\n",
              "      <td>NaN</td>\n",
              "      <td>NaN</td>\n",
              "      <td>3.0</td>\n",
              "      <td>3.0</td>\n",
              "    </tr>\n",
              "    <tr>\n",
              "      <th>2</th>\n",
              "      <td>2021-01-01</td>\n",
              "      <td>COSTI Immigrant Services</td>\n",
              "      <td>16192</td>\n",
              "      <td>COSTI North York West Hotel Program - Men</td>\n",
              "      <td>Men</td>\n",
              "      <td>Emergency</td>\n",
              "      <td>Motel/Hotel Shelter</td>\n",
              "      <td>COVID-19 Response</td>\n",
              "      <td>24</td>\n",
              "      <td>Room Based Capacity</td>\n",
              "      <td>NaN</td>\n",
              "      <td>NaN</td>\n",
              "      <td>28.0</td>\n",
              "      <td>23.0</td>\n",
              "    </tr>\n",
              "    <tr>\n",
              "      <th>3</th>\n",
              "      <td>2021-01-01</td>\n",
              "      <td>COSTI Immigrant Services</td>\n",
              "      <td>16191</td>\n",
              "      <td>COSTI North York West Hotel Program - Mixed Adult</td>\n",
              "      <td>Mixed Adult</td>\n",
              "      <td>Emergency</td>\n",
              "      <td>Motel/Hotel Shelter</td>\n",
              "      <td>COVID-19 Response</td>\n",
              "      <td>25</td>\n",
              "      <td>Room Based Capacity</td>\n",
              "      <td>NaN</td>\n",
              "      <td>NaN</td>\n",
              "      <td>17.0</td>\n",
              "      <td>17.0</td>\n",
              "    </tr>\n",
              "    <tr>\n",
              "      <th>4</th>\n",
              "      <td>2021-01-01</td>\n",
              "      <td>COSTI Immigrant Services</td>\n",
              "      <td>16193</td>\n",
              "      <td>COSTI North York West Hotel Program - Women</td>\n",
              "      <td>Women</td>\n",
              "      <td>Emergency</td>\n",
              "      <td>Motel/Hotel Shelter</td>\n",
              "      <td>COVID-19 Response</td>\n",
              "      <td>13</td>\n",
              "      <td>Room Based Capacity</td>\n",
              "      <td>NaN</td>\n",
              "      <td>NaN</td>\n",
              "      <td>14.0</td>\n",
              "      <td>13.0</td>\n",
              "    </tr>\n",
              "  </tbody>\n",
              "</table>\n",
              "</div>\n",
              "    <div class=\"colab-df-buttons\">\n",
              "\n",
              "  <div class=\"colab-df-container\">\n",
              "    <button class=\"colab-df-convert\" onclick=\"convertToInteractive('df-69bdb79d-940c-4356-9775-e4e0ad91d03e')\"\n",
              "            title=\"Convert this dataframe to an interactive table.\"\n",
              "            style=\"display:none;\">\n",
              "\n",
              "  <svg xmlns=\"http://www.w3.org/2000/svg\" height=\"24px\" viewBox=\"0 -960 960 960\">\n",
              "    <path d=\"M120-120v-720h720v720H120Zm60-500h600v-160H180v160Zm220 220h160v-160H400v160Zm0 220h160v-160H400v160ZM180-400h160v-160H180v160Zm440 0h160v-160H620v160ZM180-180h160v-160H180v160Zm440 0h160v-160H620v160Z\"/>\n",
              "  </svg>\n",
              "    </button>\n",
              "\n",
              "  <style>\n",
              "    .colab-df-container {\n",
              "      display:flex;\n",
              "      gap: 12px;\n",
              "    }\n",
              "\n",
              "    .colab-df-convert {\n",
              "      background-color: #E8F0FE;\n",
              "      border: none;\n",
              "      border-radius: 50%;\n",
              "      cursor: pointer;\n",
              "      display: none;\n",
              "      fill: #1967D2;\n",
              "      height: 32px;\n",
              "      padding: 0 0 0 0;\n",
              "      width: 32px;\n",
              "    }\n",
              "\n",
              "    .colab-df-convert:hover {\n",
              "      background-color: #E2EBFA;\n",
              "      box-shadow: 0px 1px 2px rgba(60, 64, 67, 0.3), 0px 1px 3px 1px rgba(60, 64, 67, 0.15);\n",
              "      fill: #174EA6;\n",
              "    }\n",
              "\n",
              "    .colab-df-buttons div {\n",
              "      margin-bottom: 4px;\n",
              "    }\n",
              "\n",
              "    [theme=dark] .colab-df-convert {\n",
              "      background-color: #3B4455;\n",
              "      fill: #D2E3FC;\n",
              "    }\n",
              "\n",
              "    [theme=dark] .colab-df-convert:hover {\n",
              "      background-color: #434B5C;\n",
              "      box-shadow: 0px 1px 3px 1px rgba(0, 0, 0, 0.15);\n",
              "      filter: drop-shadow(0px 1px 2px rgba(0, 0, 0, 0.3));\n",
              "      fill: #FFFFFF;\n",
              "    }\n",
              "  </style>\n",
              "\n",
              "    <script>\n",
              "      const buttonEl =\n",
              "        document.querySelector('#df-69bdb79d-940c-4356-9775-e4e0ad91d03e button.colab-df-convert');\n",
              "      buttonEl.style.display =\n",
              "        google.colab.kernel.accessAllowed ? 'block' : 'none';\n",
              "\n",
              "      async function convertToInteractive(key) {\n",
              "        const element = document.querySelector('#df-69bdb79d-940c-4356-9775-e4e0ad91d03e');\n",
              "        const dataTable =\n",
              "          await google.colab.kernel.invokeFunction('convertToInteractive',\n",
              "                                                    [key], {});\n",
              "        if (!dataTable) return;\n",
              "\n",
              "        const docLinkHtml = 'Like what you see? Visit the ' +\n",
              "          '<a target=\"_blank\" href=https://colab.research.google.com/notebooks/data_table.ipynb>data table notebook</a>'\n",
              "          + ' to learn more about interactive tables.';\n",
              "        element.innerHTML = '';\n",
              "        dataTable['output_type'] = 'display_data';\n",
              "        await google.colab.output.renderOutput(dataTable, element);\n",
              "        const docLink = document.createElement('div');\n",
              "        docLink.innerHTML = docLinkHtml;\n",
              "        element.appendChild(docLink);\n",
              "      }\n",
              "    </script>\n",
              "  </div>\n",
              "\n",
              "\n",
              "<div id=\"df-3895ea14-acde-4272-8fea-3c807deec9d2\">\n",
              "  <button class=\"colab-df-quickchart\" onclick=\"quickchart('df-3895ea14-acde-4272-8fea-3c807deec9d2')\"\n",
              "            title=\"Suggest charts\"\n",
              "            style=\"display:none;\">\n",
              "\n",
              "<svg xmlns=\"http://www.w3.org/2000/svg\" height=\"24px\"viewBox=\"0 0 24 24\"\n",
              "     width=\"24px\">\n",
              "    <g>\n",
              "        <path d=\"M19 3H5c-1.1 0-2 .9-2 2v14c0 1.1.9 2 2 2h14c1.1 0 2-.9 2-2V5c0-1.1-.9-2-2-2zM9 17H7v-7h2v7zm4 0h-2V7h2v10zm4 0h-2v-4h2v4z\"/>\n",
              "    </g>\n",
              "</svg>\n",
              "  </button>\n",
              "\n",
              "<style>\n",
              "  .colab-df-quickchart {\n",
              "      --bg-color: #E8F0FE;\n",
              "      --fill-color: #1967D2;\n",
              "      --hover-bg-color: #E2EBFA;\n",
              "      --hover-fill-color: #174EA6;\n",
              "      --disabled-fill-color: #AAA;\n",
              "      --disabled-bg-color: #DDD;\n",
              "  }\n",
              "\n",
              "  [theme=dark] .colab-df-quickchart {\n",
              "      --bg-color: #3B4455;\n",
              "      --fill-color: #D2E3FC;\n",
              "      --hover-bg-color: #434B5C;\n",
              "      --hover-fill-color: #FFFFFF;\n",
              "      --disabled-bg-color: #3B4455;\n",
              "      --disabled-fill-color: #666;\n",
              "  }\n",
              "\n",
              "  .colab-df-quickchart {\n",
              "    background-color: var(--bg-color);\n",
              "    border: none;\n",
              "    border-radius: 50%;\n",
              "    cursor: pointer;\n",
              "    display: none;\n",
              "    fill: var(--fill-color);\n",
              "    height: 32px;\n",
              "    padding: 0;\n",
              "    width: 32px;\n",
              "  }\n",
              "\n",
              "  .colab-df-quickchart:hover {\n",
              "    background-color: var(--hover-bg-color);\n",
              "    box-shadow: 0 1px 2px rgba(60, 64, 67, 0.3), 0 1px 3px 1px rgba(60, 64, 67, 0.15);\n",
              "    fill: var(--button-hover-fill-color);\n",
              "  }\n",
              "\n",
              "  .colab-df-quickchart-complete:disabled,\n",
              "  .colab-df-quickchart-complete:disabled:hover {\n",
              "    background-color: var(--disabled-bg-color);\n",
              "    fill: var(--disabled-fill-color);\n",
              "    box-shadow: none;\n",
              "  }\n",
              "\n",
              "  .colab-df-spinner {\n",
              "    border: 2px solid var(--fill-color);\n",
              "    border-color: transparent;\n",
              "    border-bottom-color: var(--fill-color);\n",
              "    animation:\n",
              "      spin 1s steps(1) infinite;\n",
              "  }\n",
              "\n",
              "  @keyframes spin {\n",
              "    0% {\n",
              "      border-color: transparent;\n",
              "      border-bottom-color: var(--fill-color);\n",
              "      border-left-color: var(--fill-color);\n",
              "    }\n",
              "    20% {\n",
              "      border-color: transparent;\n",
              "      border-left-color: var(--fill-color);\n",
              "      border-top-color: var(--fill-color);\n",
              "    }\n",
              "    30% {\n",
              "      border-color: transparent;\n",
              "      border-left-color: var(--fill-color);\n",
              "      border-top-color: var(--fill-color);\n",
              "      border-right-color: var(--fill-color);\n",
              "    }\n",
              "    40% {\n",
              "      border-color: transparent;\n",
              "      border-right-color: var(--fill-color);\n",
              "      border-top-color: var(--fill-color);\n",
              "    }\n",
              "    60% {\n",
              "      border-color: transparent;\n",
              "      border-right-color: var(--fill-color);\n",
              "    }\n",
              "    80% {\n",
              "      border-color: transparent;\n",
              "      border-right-color: var(--fill-color);\n",
              "      border-bottom-color: var(--fill-color);\n",
              "    }\n",
              "    90% {\n",
              "      border-color: transparent;\n",
              "      border-bottom-color: var(--fill-color);\n",
              "    }\n",
              "  }\n",
              "</style>\n",
              "\n",
              "  <script>\n",
              "    async function quickchart(key) {\n",
              "      const quickchartButtonEl =\n",
              "        document.querySelector('#' + key + ' button');\n",
              "      quickchartButtonEl.disabled = true;  // To prevent multiple clicks.\n",
              "      quickchartButtonEl.classList.add('colab-df-spinner');\n",
              "      try {\n",
              "        const charts = await google.colab.kernel.invokeFunction(\n",
              "            'suggestCharts', [key], {});\n",
              "      } catch (error) {\n",
              "        console.error('Error during call to suggestCharts:', error);\n",
              "      }\n",
              "      quickchartButtonEl.classList.remove('colab-df-spinner');\n",
              "      quickchartButtonEl.classList.add('colab-df-quickchart-complete');\n",
              "    }\n",
              "    (() => {\n",
              "      let quickchartButtonEl =\n",
              "        document.querySelector('#df-3895ea14-acde-4272-8fea-3c807deec9d2 button');\n",
              "      quickchartButtonEl.style.display =\n",
              "        google.colab.kernel.accessAllowed ? 'block' : 'none';\n",
              "    })();\n",
              "  </script>\n",
              "</div>\n",
              "\n",
              "    </div>\n",
              "  </div>\n"
            ]
          },
          "metadata": {},
          "execution_count": 32
        }
      ]
    },
    {
      "cell_type": "markdown",
      "source": [
        "## Data Pre-Processing and Cleaning"
      ],
      "metadata": {
        "id": "vT9pJdQQXXZe"
      }
    },
    {
      "cell_type": "code",
      "source": [
        "# list of columns that will be used in later analysis\n",
        "cols_to_use = ['PROGRAM_ID', 'PROGRAM_MODEL', 'CAPACITY_TYPE',\n",
        "               'SERVICE_USER_COUNT', 'CAPACITY_ACTUAL_BED', 'OCCUPIED_BEDS',\n",
        "               'CAPACITY_ACTUAL_ROOM', 'OCCUPIED_ROOMS']\n",
        "# slicing needed columns and assigned to new data frame\n",
        "ShelterDF1 = ShelterDf[cols_to_use]"
      ],
      "metadata": {
        "id": "c1Cboph1-BKh"
      },
      "execution_count": 33,
      "outputs": []
    },
    {
      "cell_type": "code",
      "source": [
        "# Adding new variable OCCUPANCY_RATE:\n",
        "## For rows CAPACITY_TYPE is Room Based Capacity, OCCUPANCY_RATE is equal to\n",
        "## OCCUPIED_ROOMS / CAPACITY_ACTUAL_ROOM.\n",
        "## For rows CAPACITY_TYPE is Bed Based Capacity, OCCUPANCY_RATE is equal to\n",
        "## OCCUPIED_BEDS / CAPACITY_ACTUAL_BED\n",
        "ShelterDF1['OCCUPANCY_RATE'] = np.where(\n",
        "    ShelterDF1['CAPACITY_TYPE'] == 'Room Based Capacity',\n",
        "    ShelterDF1['OCCUPIED_ROOMS']/ShelterDF1['CAPACITY_ACTUAL_ROOM'], None)\n",
        "ShelterDF1['OCCUPANCY_RATE'] = np.where(\n",
        "    ShelterDF1['CAPACITY_TYPE'] == 'Bed Based Capacity',\n",
        "    ShelterDF1['OCCUPIED_BEDS']/ShelterDF1['CAPACITY_ACTUAL_BED'],\n",
        "    ShelterDF1['OCCUPANCY_RATE'])\n",
        "\n",
        "# Change OCCUPANCY_RATE type to float\n",
        "ShelterDF1['OCCUPANCY_RATE'] = ShelterDF1['OCCUPANCY_RATE'].astype(float)"
      ],
      "metadata": {
        "colab": {
          "base_uri": "https://localhost:8080/"
        },
        "id": "42svzOK3QMcC",
        "outputId": "2cf1e292-0465-4277-fc01-a0c4af7d1389"
      },
      "execution_count": 34,
      "outputs": [
        {
          "output_type": "stream",
          "name": "stderr",
          "text": [
            "<ipython-input-34-dd87d4699927>:6: SettingWithCopyWarning: \n",
            "A value is trying to be set on a copy of a slice from a DataFrame.\n",
            "Try using .loc[row_indexer,col_indexer] = value instead\n",
            "\n",
            "See the caveats in the documentation: https://pandas.pydata.org/pandas-docs/stable/user_guide/indexing.html#returning-a-view-versus-a-copy\n",
            "  ShelterDF1['OCCUPANCY_RATE'] = np.where(\n",
            "<ipython-input-34-dd87d4699927>:9: SettingWithCopyWarning: \n",
            "A value is trying to be set on a copy of a slice from a DataFrame.\n",
            "Try using .loc[row_indexer,col_indexer] = value instead\n",
            "\n",
            "See the caveats in the documentation: https://pandas.pydata.org/pandas-docs/stable/user_guide/indexing.html#returning-a-view-versus-a-copy\n",
            "  ShelterDF1['OCCUPANCY_RATE'] = np.where(\n",
            "<ipython-input-34-dd87d4699927>:15: SettingWithCopyWarning: \n",
            "A value is trying to be set on a copy of a slice from a DataFrame.\n",
            "Try using .loc[row_indexer,col_indexer] = value instead\n",
            "\n",
            "See the caveats in the documentation: https://pandas.pydata.org/pandas-docs/stable/user_guide/indexing.html#returning-a-view-versus-a-copy\n",
            "  ShelterDF1['OCCUPANCY_RATE'] = ShelterDF1['OCCUPANCY_RATE'].astype(float)\n"
          ]
        }
      ]
    },
    {
      "cell_type": "code",
      "source": [
        "# take a glimpse of the dataframe after adding new variable\n",
        "ShelterDF1.head()"
      ],
      "metadata": {
        "colab": {
          "base_uri": "https://localhost:8080/",
          "height": 313
        },
        "id": "c43p-3fYRv9P",
        "outputId": "87958775-e39b-4d9d-8038-45cbe18defba"
      },
      "execution_count": 35,
      "outputs": [
        {
          "output_type": "execute_result",
          "data": {
            "text/plain": [
              "   PROGRAM_ID PROGRAM_MODEL        CAPACITY_TYPE  SERVICE_USER_COUNT  \\\n",
              "0       15371     Emergency  Room Based Capacity                  74   \n",
              "1       16211     Emergency  Room Based Capacity                   3   \n",
              "2       16192     Emergency  Room Based Capacity                  24   \n",
              "3       16191     Emergency  Room Based Capacity                  25   \n",
              "4       16193     Emergency  Room Based Capacity                  13   \n",
              "\n",
              "   CAPACITY_ACTUAL_BED  OCCUPIED_BEDS  CAPACITY_ACTUAL_ROOM  OCCUPIED_ROOMS  \\\n",
              "0                  NaN            NaN                  29.0            26.0   \n",
              "1                  NaN            NaN                   3.0             3.0   \n",
              "2                  NaN            NaN                  28.0            23.0   \n",
              "3                  NaN            NaN                  17.0            17.0   \n",
              "4                  NaN            NaN                  14.0            13.0   \n",
              "\n",
              "   OCCUPANCY_RATE  \n",
              "0        0.896552  \n",
              "1        1.000000  \n",
              "2        0.821429  \n",
              "3        1.000000  \n",
              "4        0.928571  "
            ],
            "text/html": [
              "\n",
              "  <div id=\"df-c61f9db5-d4dd-47a3-84dc-5791fe7823f2\" class=\"colab-df-container\">\n",
              "    <div>\n",
              "<style scoped>\n",
              "    .dataframe tbody tr th:only-of-type {\n",
              "        vertical-align: middle;\n",
              "    }\n",
              "\n",
              "    .dataframe tbody tr th {\n",
              "        vertical-align: top;\n",
              "    }\n",
              "\n",
              "    .dataframe thead th {\n",
              "        text-align: right;\n",
              "    }\n",
              "</style>\n",
              "<table border=\"1\" class=\"dataframe\">\n",
              "  <thead>\n",
              "    <tr style=\"text-align: right;\">\n",
              "      <th></th>\n",
              "      <th>PROGRAM_ID</th>\n",
              "      <th>PROGRAM_MODEL</th>\n",
              "      <th>CAPACITY_TYPE</th>\n",
              "      <th>SERVICE_USER_COUNT</th>\n",
              "      <th>CAPACITY_ACTUAL_BED</th>\n",
              "      <th>OCCUPIED_BEDS</th>\n",
              "      <th>CAPACITY_ACTUAL_ROOM</th>\n",
              "      <th>OCCUPIED_ROOMS</th>\n",
              "      <th>OCCUPANCY_RATE</th>\n",
              "    </tr>\n",
              "  </thead>\n",
              "  <tbody>\n",
              "    <tr>\n",
              "      <th>0</th>\n",
              "      <td>15371</td>\n",
              "      <td>Emergency</td>\n",
              "      <td>Room Based Capacity</td>\n",
              "      <td>74</td>\n",
              "      <td>NaN</td>\n",
              "      <td>NaN</td>\n",
              "      <td>29.0</td>\n",
              "      <td>26.0</td>\n",
              "      <td>0.896552</td>\n",
              "    </tr>\n",
              "    <tr>\n",
              "      <th>1</th>\n",
              "      <td>16211</td>\n",
              "      <td>Emergency</td>\n",
              "      <td>Room Based Capacity</td>\n",
              "      <td>3</td>\n",
              "      <td>NaN</td>\n",
              "      <td>NaN</td>\n",
              "      <td>3.0</td>\n",
              "      <td>3.0</td>\n",
              "      <td>1.000000</td>\n",
              "    </tr>\n",
              "    <tr>\n",
              "      <th>2</th>\n",
              "      <td>16192</td>\n",
              "      <td>Emergency</td>\n",
              "      <td>Room Based Capacity</td>\n",
              "      <td>24</td>\n",
              "      <td>NaN</td>\n",
              "      <td>NaN</td>\n",
              "      <td>28.0</td>\n",
              "      <td>23.0</td>\n",
              "      <td>0.821429</td>\n",
              "    </tr>\n",
              "    <tr>\n",
              "      <th>3</th>\n",
              "      <td>16191</td>\n",
              "      <td>Emergency</td>\n",
              "      <td>Room Based Capacity</td>\n",
              "      <td>25</td>\n",
              "      <td>NaN</td>\n",
              "      <td>NaN</td>\n",
              "      <td>17.0</td>\n",
              "      <td>17.0</td>\n",
              "      <td>1.000000</td>\n",
              "    </tr>\n",
              "    <tr>\n",
              "      <th>4</th>\n",
              "      <td>16193</td>\n",
              "      <td>Emergency</td>\n",
              "      <td>Room Based Capacity</td>\n",
              "      <td>13</td>\n",
              "      <td>NaN</td>\n",
              "      <td>NaN</td>\n",
              "      <td>14.0</td>\n",
              "      <td>13.0</td>\n",
              "      <td>0.928571</td>\n",
              "    </tr>\n",
              "  </tbody>\n",
              "</table>\n",
              "</div>\n",
              "    <div class=\"colab-df-buttons\">\n",
              "\n",
              "  <div class=\"colab-df-container\">\n",
              "    <button class=\"colab-df-convert\" onclick=\"convertToInteractive('df-c61f9db5-d4dd-47a3-84dc-5791fe7823f2')\"\n",
              "            title=\"Convert this dataframe to an interactive table.\"\n",
              "            style=\"display:none;\">\n",
              "\n",
              "  <svg xmlns=\"http://www.w3.org/2000/svg\" height=\"24px\" viewBox=\"0 -960 960 960\">\n",
              "    <path d=\"M120-120v-720h720v720H120Zm60-500h600v-160H180v160Zm220 220h160v-160H400v160Zm0 220h160v-160H400v160ZM180-400h160v-160H180v160Zm440 0h160v-160H620v160ZM180-180h160v-160H180v160Zm440 0h160v-160H620v160Z\"/>\n",
              "  </svg>\n",
              "    </button>\n",
              "\n",
              "  <style>\n",
              "    .colab-df-container {\n",
              "      display:flex;\n",
              "      gap: 12px;\n",
              "    }\n",
              "\n",
              "    .colab-df-convert {\n",
              "      background-color: #E8F0FE;\n",
              "      border: none;\n",
              "      border-radius: 50%;\n",
              "      cursor: pointer;\n",
              "      display: none;\n",
              "      fill: #1967D2;\n",
              "      height: 32px;\n",
              "      padding: 0 0 0 0;\n",
              "      width: 32px;\n",
              "    }\n",
              "\n",
              "    .colab-df-convert:hover {\n",
              "      background-color: #E2EBFA;\n",
              "      box-shadow: 0px 1px 2px rgba(60, 64, 67, 0.3), 0px 1px 3px 1px rgba(60, 64, 67, 0.15);\n",
              "      fill: #174EA6;\n",
              "    }\n",
              "\n",
              "    .colab-df-buttons div {\n",
              "      margin-bottom: 4px;\n",
              "    }\n",
              "\n",
              "    [theme=dark] .colab-df-convert {\n",
              "      background-color: #3B4455;\n",
              "      fill: #D2E3FC;\n",
              "    }\n",
              "\n",
              "    [theme=dark] .colab-df-convert:hover {\n",
              "      background-color: #434B5C;\n",
              "      box-shadow: 0px 1px 3px 1px rgba(0, 0, 0, 0.15);\n",
              "      filter: drop-shadow(0px 1px 2px rgba(0, 0, 0, 0.3));\n",
              "      fill: #FFFFFF;\n",
              "    }\n",
              "  </style>\n",
              "\n",
              "    <script>\n",
              "      const buttonEl =\n",
              "        document.querySelector('#df-c61f9db5-d4dd-47a3-84dc-5791fe7823f2 button.colab-df-convert');\n",
              "      buttonEl.style.display =\n",
              "        google.colab.kernel.accessAllowed ? 'block' : 'none';\n",
              "\n",
              "      async function convertToInteractive(key) {\n",
              "        const element = document.querySelector('#df-c61f9db5-d4dd-47a3-84dc-5791fe7823f2');\n",
              "        const dataTable =\n",
              "          await google.colab.kernel.invokeFunction('convertToInteractive',\n",
              "                                                    [key], {});\n",
              "        if (!dataTable) return;\n",
              "\n",
              "        const docLinkHtml = 'Like what you see? Visit the ' +\n",
              "          '<a target=\"_blank\" href=https://colab.research.google.com/notebooks/data_table.ipynb>data table notebook</a>'\n",
              "          + ' to learn more about interactive tables.';\n",
              "        element.innerHTML = '';\n",
              "        dataTable['output_type'] = 'display_data';\n",
              "        await google.colab.output.renderOutput(dataTable, element);\n",
              "        const docLink = document.createElement('div');\n",
              "        docLink.innerHTML = docLinkHtml;\n",
              "        element.appendChild(docLink);\n",
              "      }\n",
              "    </script>\n",
              "  </div>\n",
              "\n",
              "\n",
              "<div id=\"df-13faccee-f8fd-4ba1-89a7-3c7aab852989\">\n",
              "  <button class=\"colab-df-quickchart\" onclick=\"quickchart('df-13faccee-f8fd-4ba1-89a7-3c7aab852989')\"\n",
              "            title=\"Suggest charts\"\n",
              "            style=\"display:none;\">\n",
              "\n",
              "<svg xmlns=\"http://www.w3.org/2000/svg\" height=\"24px\"viewBox=\"0 0 24 24\"\n",
              "     width=\"24px\">\n",
              "    <g>\n",
              "        <path d=\"M19 3H5c-1.1 0-2 .9-2 2v14c0 1.1.9 2 2 2h14c1.1 0 2-.9 2-2V5c0-1.1-.9-2-2-2zM9 17H7v-7h2v7zm4 0h-2V7h2v10zm4 0h-2v-4h2v4z\"/>\n",
              "    </g>\n",
              "</svg>\n",
              "  </button>\n",
              "\n",
              "<style>\n",
              "  .colab-df-quickchart {\n",
              "      --bg-color: #E8F0FE;\n",
              "      --fill-color: #1967D2;\n",
              "      --hover-bg-color: #E2EBFA;\n",
              "      --hover-fill-color: #174EA6;\n",
              "      --disabled-fill-color: #AAA;\n",
              "      --disabled-bg-color: #DDD;\n",
              "  }\n",
              "\n",
              "  [theme=dark] .colab-df-quickchart {\n",
              "      --bg-color: #3B4455;\n",
              "      --fill-color: #D2E3FC;\n",
              "      --hover-bg-color: #434B5C;\n",
              "      --hover-fill-color: #FFFFFF;\n",
              "      --disabled-bg-color: #3B4455;\n",
              "      --disabled-fill-color: #666;\n",
              "  }\n",
              "\n",
              "  .colab-df-quickchart {\n",
              "    background-color: var(--bg-color);\n",
              "    border: none;\n",
              "    border-radius: 50%;\n",
              "    cursor: pointer;\n",
              "    display: none;\n",
              "    fill: var(--fill-color);\n",
              "    height: 32px;\n",
              "    padding: 0;\n",
              "    width: 32px;\n",
              "  }\n",
              "\n",
              "  .colab-df-quickchart:hover {\n",
              "    background-color: var(--hover-bg-color);\n",
              "    box-shadow: 0 1px 2px rgba(60, 64, 67, 0.3), 0 1px 3px 1px rgba(60, 64, 67, 0.15);\n",
              "    fill: var(--button-hover-fill-color);\n",
              "  }\n",
              "\n",
              "  .colab-df-quickchart-complete:disabled,\n",
              "  .colab-df-quickchart-complete:disabled:hover {\n",
              "    background-color: var(--disabled-bg-color);\n",
              "    fill: var(--disabled-fill-color);\n",
              "    box-shadow: none;\n",
              "  }\n",
              "\n",
              "  .colab-df-spinner {\n",
              "    border: 2px solid var(--fill-color);\n",
              "    border-color: transparent;\n",
              "    border-bottom-color: var(--fill-color);\n",
              "    animation:\n",
              "      spin 1s steps(1) infinite;\n",
              "  }\n",
              "\n",
              "  @keyframes spin {\n",
              "    0% {\n",
              "      border-color: transparent;\n",
              "      border-bottom-color: var(--fill-color);\n",
              "      border-left-color: var(--fill-color);\n",
              "    }\n",
              "    20% {\n",
              "      border-color: transparent;\n",
              "      border-left-color: var(--fill-color);\n",
              "      border-top-color: var(--fill-color);\n",
              "    }\n",
              "    30% {\n",
              "      border-color: transparent;\n",
              "      border-left-color: var(--fill-color);\n",
              "      border-top-color: var(--fill-color);\n",
              "      border-right-color: var(--fill-color);\n",
              "    }\n",
              "    40% {\n",
              "      border-color: transparent;\n",
              "      border-right-color: var(--fill-color);\n",
              "      border-top-color: var(--fill-color);\n",
              "    }\n",
              "    60% {\n",
              "      border-color: transparent;\n",
              "      border-right-color: var(--fill-color);\n",
              "    }\n",
              "    80% {\n",
              "      border-color: transparent;\n",
              "      border-right-color: var(--fill-color);\n",
              "      border-bottom-color: var(--fill-color);\n",
              "    }\n",
              "    90% {\n",
              "      border-color: transparent;\n",
              "      border-bottom-color: var(--fill-color);\n",
              "    }\n",
              "  }\n",
              "</style>\n",
              "\n",
              "  <script>\n",
              "    async function quickchart(key) {\n",
              "      const quickchartButtonEl =\n",
              "        document.querySelector('#' + key + ' button');\n",
              "      quickchartButtonEl.disabled = true;  // To prevent multiple clicks.\n",
              "      quickchartButtonEl.classList.add('colab-df-spinner');\n",
              "      try {\n",
              "        const charts = await google.colab.kernel.invokeFunction(\n",
              "            'suggestCharts', [key], {});\n",
              "      } catch (error) {\n",
              "        console.error('Error during call to suggestCharts:', error);\n",
              "      }\n",
              "      quickchartButtonEl.classList.remove('colab-df-spinner');\n",
              "      quickchartButtonEl.classList.add('colab-df-quickchart-complete');\n",
              "    }\n",
              "    (() => {\n",
              "      let quickchartButtonEl =\n",
              "        document.querySelector('#df-13faccee-f8fd-4ba1-89a7-3c7aab852989 button');\n",
              "      quickchartButtonEl.style.display =\n",
              "        google.colab.kernel.accessAllowed ? 'block' : 'none';\n",
              "    })();\n",
              "  </script>\n",
              "</div>\n",
              "\n",
              "    </div>\n",
              "  </div>\n"
            ]
          },
          "metadata": {},
          "execution_count": 35
        }
      ]
    },
    {
      "cell_type": "code",
      "source": [
        "# Create two separate sub-dataframe for room based capacity type and\n",
        "## bed based capacity type for later use.\n",
        "RoomBasedDF = ShelterDF1[ShelterDF1['CAPACITY_TYPE'] == 'Room Based Capacity']\n",
        "BedBasedDF = ShelterDF1[ShelterDF1['CAPACITY_TYPE'] == 'Bed Based Capacity']"
      ],
      "metadata": {
        "id": "yQsk4WDUIhFO"
      },
      "execution_count": 36,
      "outputs": []
    },
    {
      "cell_type": "markdown",
      "source": [
        "## Exploratory Data Analysis (EDA)"
      ],
      "metadata": {
        "id": "Yfbyi5fOTdUS"
      }
    },
    {
      "cell_type": "code",
      "source": [
        "# Creating a combined box plot which has capacity type to be x, catagorized by\n",
        "## program model, and the shelter user counts as y.\n",
        "plt.figure(figsize=(12, 6)) # set size\n",
        "# state x, y, and hue\n",
        "sns.boxplot(x='CAPACITY_TYPE', y='SERVICE_USER_COUNT',\n",
        "            hue = 'PROGRAM_MODEL', data=ShelterDF1)\n",
        "# set title and lables\n",
        "plt.title('Distribution of Shelter User Counts by Capacity Type and Program Model')\n",
        "plt.ylabel('Shelter User Counts')\n",
        "plt.xlabel('Capacity Types')\n",
        "plt.xticks(rotation=45)\n",
        "plt.tight_layout()\n",
        "# show the legend\n",
        "plt.legend(title='Program Model')"
      ],
      "metadata": {
        "colab": {
          "base_uri": "https://localhost:8080/",
          "height": 445
        },
        "id": "luHvF9bYTnvE",
        "outputId": "c77a7881-84cc-4f2b-bca2-5c7115c9bb86"
      },
      "execution_count": 37,
      "outputs": [
        {
          "output_type": "execute_result",
          "data": {
            "text/plain": [
              "<matplotlib.legend.Legend at 0x790ffe9e54b0>"
            ]
          },
          "metadata": {},
          "execution_count": 37
        },
        {
          "output_type": "display_data",
          "data": {
            "text/plain": [
              "<Figure size 1200x600 with 1 Axes>"
            ],
            "image/png": "[encoded data removed]"
          },
          "metadata": {}
        }
      ]
    },
    {
      "cell_type": "markdown",
      "source": [
        "The above combined boxplot shows the distribution of shelter user counts by different capacity type and program model. By examining the resulting boxplots as a whole, it is obvious that the shelter user count of room based capacity is higher than bed based capacity.\n",
        "\n",
        "For room based capacity, the spread of the middle 50% of the data is about between 25 and 90 for the emergency model and is about between 60 and 190 for the transitional model. The latter has a bigger range and higher shelter user counts compared to prior. The median for transitional is about 120 and is about 40 for emergency, which is also a big difference.\n",
        "\n",
        "For bed based capacity, the spread of the middle 50% of the data is about between 2 and 50 for the emergency model and is about between 15 and 25 for the transitional model. The prior has a bigger range. The median for transitional is about 20 and is about 25 for emergency, which is almost the same.\n",
        "\n",
        "All the boxplot has a right skewness(positively skewed). For both the room based and bed based capacity, large numbers of outliers were found for the emergency program model. In the future analysis, the outliers could be more properly handled before conducting the EDA.\n"
      ],
      "metadata": {
        "id": "EO51UpJ8eto8"
      }
    },
    {
      "cell_type": "code",
      "source": [
        "# This chunk of code refers to the INF2178 lecture code\n",
        "# define a function to get the report of statistics\n",
        "def get_summary_statistics(dataset):\n",
        "\n",
        "    # compute statistics\n",
        "    mean = np.round(np.mean(dataset), 2)\n",
        "    median = np.round(np.median(dataset), 2)\n",
        "    sd = np.round(np.std(dataset), 2)\n",
        "    min_value = np.round(dataset.min(), 2)\n",
        "    max_value = np.round(dataset.max(), 2)\n",
        "    quartile_1 = np.round(dataset.quantile(0.25), 2)\n",
        "    quartile_3 = np.round(dataset.quantile(0.75), 2)\n",
        "\n",
        "    # Interquartile range\n",
        "    iqr = np.round(quartile_3 - quartile_1, 2)\n",
        "\n",
        "    # print all the results\n",
        "    print('Min: %s' % min_value)\n",
        "    print('Mean: %s' % mean)\n",
        "    print('Max: %s' % max_value)\n",
        "    print('25th percentile: %s' % quartile_1)\n",
        "    print('Median: %s' % median)\n",
        "    print('75th percentile: %s' % quartile_3)\n",
        "    print('Interquartile range (IQR): %s' % iqr)\n",
        "    print('Standard deviation: %s' % sd)"
      ],
      "metadata": {
        "id": "jNhfiuTiuzk3"
      },
      "execution_count": 38,
      "outputs": []
    },
    {
      "cell_type": "code",
      "source": [
        "# get Room Based Capacity Service User Count summary statistics\n",
        "print('\\nRoom Based Capacity Service User Count summary statistics')\n",
        "get_summary_statistics(RoomBasedDF['SERVICE_USER_COUNT'])"
      ],
      "metadata": {
        "colab": {
          "base_uri": "https://localhost:8080/"
        },
        "id": "6sdTrnbLvVw-",
        "outputId": "31dfd03c-1c5c-45ba-aaad-c53d6faf0a0f"
      },
      "execution_count": 39,
      "outputs": [
        {
          "output_type": "stream",
          "name": "stdout",
          "text": [
            "\n",
            "Room Based Capacity Service User Count summary statistics\n",
            "Min: 1\n",
            "Mean: 73.59\n",
            "Max: 339\n",
            "25th percentile: 22.0\n",
            "Median: 47.0\n",
            "75th percentile: 96.0\n",
            "Interquartile range (IQR): 74.0\n",
            "Standard deviation: 73.32\n"
          ]
        }
      ]
    },
    {
      "cell_type": "code",
      "source": [
        "# get Bed Based Capacity Service User Count summary statistics\n",
        "print('\\nBed Based Capacity Service User Count summary statistics')\n",
        "get_summary_statistics(BedBasedDF['SERVICE_USER_COUNT'])"
      ],
      "metadata": {
        "colab": {
          "base_uri": "https://localhost:8080/"
        },
        "id": "lNgAhrmN34B3",
        "outputId": "e5f5f86d-07d8-4863-c0f8-b6e78f82570c"
      },
      "execution_count": 40,
      "outputs": [
        {
          "output_type": "stream",
          "name": "stdout",
          "text": [
            "\n",
            "Bed Based Capacity Service User Count summary statistics\n",
            "Min: 1\n",
            "Mean: 29.78\n",
            "Max: 234\n",
            "25th percentile: 14.0\n",
            "Median: 23.0\n",
            "75th percentile: 41.0\n",
            "Interquartile range (IQR): 27.0\n",
            "Standard deviation: 26.38\n"
          ]
        }
      ]
    },
    {
      "cell_type": "markdown",
      "source": [
        "By examining above summary statistics of service user counts for both room based and bed based capacity, room based capacity is much higher for its mean, max, and median compared to bed based capacity. This shows that room based capacity tends to accept more homeless than bed based capacity in each service. Comparing two standard deviations, room based has more variability. For both summary, the mean is bigger than the median, which means that both data are positively skewed (right skewness). This means that mean is more influenced by extreme values, and median is more suitable to be a measure of central tendency."
      ],
      "metadata": {
        "id": "Bjh0bEoyneWQ"
      }
    },
    {
      "cell_type": "code",
      "source": [
        "# get Bed Based Capacity Occupancy Rate summary statistics\n",
        "print('\\nBed Based Capacity Occupancy Rate summary statistics')\n",
        "get_summary_statistics(BedBasedDF['OCCUPANCY_RATE'])"
      ],
      "metadata": {
        "colab": {
          "base_uri": "https://localhost:8080/"
        },
        "id": "wJwF6iP58EBg",
        "outputId": "ac3fa235-39c9-4d2e-f5bd-ef9f181ee683"
      },
      "execution_count": 41,
      "outputs": [
        {
          "output_type": "stream",
          "name": "stdout",
          "text": [
            "\n",
            "Bed Based Capacity Occupancy Rate summary statistics\n",
            "Min: 0.02\n",
            "Mean: 0.93\n",
            "Max: 1.0\n",
            "25th percentile: 0.9\n",
            "Median: 1.0\n",
            "75th percentile: 1.0\n",
            "Interquartile range (IQR): 0.1\n",
            "Standard deviation: 0.12\n"
          ]
        }
      ]
    },
    {
      "cell_type": "code",
      "source": [
        "# get Room Based Capacity Occupancy Rate summary statistics\n",
        "print('\\nRoom Based Capacity Occupancy Rate summary statistics')\n",
        "get_summary_statistics(RoomBasedDF['OCCUPANCY_RATE'])"
      ],
      "metadata": {
        "colab": {
          "base_uri": "https://localhost:8080/"
        },
        "id": "7256eWyf8I9j",
        "outputId": "5f668145-7f98-40fb-abc7-99abddf11ea3"
      },
      "execution_count": 42,
      "outputs": [
        {
          "output_type": "stream",
          "name": "stdout",
          "text": [
            "\n",
            "Room Based Capacity Occupancy Rate summary statistics\n",
            "Min: 0.01\n",
            "Mean: 0.93\n",
            "Max: 1.01\n",
            "25th percentile: 0.96\n",
            "Median: 1.0\n",
            "75th percentile: 1.0\n",
            "Interquartile range (IQR): 0.04\n",
            "Standard deviation: 0.16\n"
          ]
        }
      ]
    },
    {
      "cell_type": "markdown",
      "source": [
        "By examining above summary statistics of occupancy rate for both room based and bed based capacity, both capacity is very identical for its mean, max, and median. This sugests that both capacities have similar occupancy rate. Comparing two standard deviations, room based has slightly more variability. For both summary, the mean is slightly bigger than the median, which means that both data are slightly positively skewed (right skewness).\n"
      ],
      "metadata": {
        "id": "7Q7NRWI8pS45"
      }
    },
    {
      "cell_type": "code",
      "source": [
        "# create a combined bar plots for capacity type, categorized by program model.\n",
        "plt.figure(figsize=(14, 8))\n",
        "sns.countplot(x='CAPACITY_TYPE', hue='PROGRAM_MODEL', data=ShelterDF1)\n",
        "# Set plot labels and title\n",
        "plt.title('Capacity Type Counts by Program Model')\n",
        "plt.xlabel('Capacity Type')\n",
        "plt.ylabel('Counts')\n",
        "plt.xticks(rotation=45)\n",
        "# show the legend\n",
        "plt.legend(title='Program Model')"
      ],
      "metadata": {
        "colab": {
          "base_uri": "https://localhost:8080/",
          "height": 600
        },
        "id": "giBJnEE4VXY5",
        "outputId": "7ebdbe3d-3df1-40b2-e6cd-47d1038e576c"
      },
      "execution_count": 43,
      "outputs": [
        {
          "output_type": "execute_result",
          "data": {
            "text/plain": [
              "<matplotlib.legend.Legend at 0x790ffe4f78e0>"
            ]
          },
          "metadata": {},
          "execution_count": 43
        },
        {
          "output_type": "display_data",
          "data": {
            "text/plain": [
              "<Figure size 1400x800 with 1 Axes>"
            ],
            "image/png": "[encoded data removed]"
          },
          "metadata": {}
        }
      ]
    },
    {
      "cell_type": "markdown",
      "source": [
        "The above combined bar plots show the counts of capacity, categorized by its type and the program model. As a whole, it is obvious that the bed based capacity type is much more than room based capacity type in count. However, referring back to the previous box plot, room based capacity has more service users than the bed based capacity, and this shows that although room based capacity service is less than bed based, it could accept more homeless than bed based capacity. For both capacity types, emergency model has much higher counts than transitional programs. Indicating that both capacities tend to construct emergency program.\n"
      ],
      "metadata": {
        "id": "UqHQ3_tSqDR1"
      }
    },
    {
      "cell_type": "code",
      "source": [
        "# Create a histogram for room based capacity's service user count\n",
        "sns.displot(RoomBasedDF['SERVICE_USER_COUNT'], bins=100)\n",
        "plt.xlabel('Service User Counts')\n",
        "plt.title('Distribution of Service User Count for Room Based Capacity')"
      ],
      "metadata": {
        "colab": {
          "base_uri": "https://localhost:8080/",
          "height": 547
        },
        "id": "Eq09UWCtXU1v",
        "outputId": "502da69f-f5ef-4a94-d243-81dad9ccca1a"
      },
      "execution_count": 44,
      "outputs": [
        {
          "output_type": "execute_result",
          "data": {
            "text/plain": [
              "Text(0.5, 1.0, 'Distribution of Service User Count for Room Based Capacity')"
            ]
          },
          "metadata": {},
          "execution_count": 44
        },
        {
          "output_type": "display_data",
          "data": {
            "text/plain": [
              "<Figure size 500x500 with 1 Axes>"
            ],
            "image/png": "[encoded data removed]"
          },
          "metadata": {}
        }
      ]
    },
    {
      "cell_type": "markdown",
      "source": [
        "The above histogram shows the distribution of service user count for room based capacity. As shown above, it is positively skewed (right skewness), meaning median could be more appropriate in terms of measuring central tendency since mean could be influenced by outliers. Also, the above histogram could be seen as a unimodal which has the highest peak above 1000 count at service user count around 5. Nevertheless, there is another second high peak at closing to 1000 count at service user count around 48. The histogram has multiple small peaks after the first main one, hence it may also be seen as a multimodal histogram. Most of the data distributed before 100 service user count, which suggests that most of the room based capacity has its occupancy less than 100 count.\n"
      ],
      "metadata": {
        "id": "CulLPF1jr05x"
      }
    },
    {
      "cell_type": "code",
      "source": [
        "# Create a histogram for bed based capacity's service user count\n",
        "sns.displot(BedBasedDF['SERVICE_USER_COUNT'], bins=100)\n",
        "plt.xlabel('Service User Counts')\n",
        "plt.title('Distribution of Service User Count for Bed Based Capacity')"
      ],
      "metadata": {
        "colab": {
          "base_uri": "https://localhost:8080/",
          "height": 547
        },
        "id": "4t7IfZXEZ-gD",
        "outputId": "a5b8c7bc-cc3c-4e97-aeb0-5722992e24f4"
      },
      "execution_count": 45,
      "outputs": [
        {
          "output_type": "execute_result",
          "data": {
            "text/plain": [
              "Text(0.5, 1.0, 'Distribution of Service User Count for Bed Based Capacity')"
            ]
          },
          "metadata": {},
          "execution_count": 45
        },
        {
          "output_type": "display_data",
          "data": {
            "text/plain": [
              "<Figure size 500x500 with 1 Axes>"
            ],
            "image/png": "[encoded data removed]"
          },
          "metadata": {}
        }
      ]
    },
    {
      "cell_type": "markdown",
      "source": [
        "The above histogram shows the distribution of service user count for bed based capacity. As shown above, it is positively skewed (right skewness), meaning median could be more appropriate in terms of measuring central tendency since mean could be influenced by outliers. Also, the above histogram could be seen as a unimodal which has the highest peak almost reaching 3000 count at service user count around 25. Most of the data distributed before 50 service user count, which suggests that most of the bed based capacity has its occupancy less than 50 count. Compared to the previous histogram, bed based capacity is much bigger in its counts at its highest peak than room based.\n"
      ],
      "metadata": {
        "id": "ldJr1TBGuKH4"
      }
    },
    {
      "cell_type": "code",
      "source": [
        "# Create a histogram to show the distribution of the overall occupancy rate\n",
        "sns.displot(ShelterDF1['OCCUPANCY_RATE'], bins=50)\n",
        "plt.xlabel('Occupancy Rate')\n",
        "plt.title('Distribution of Shelter Occupancy Rate')"
      ],
      "metadata": {
        "colab": {
          "base_uri": "https://localhost:8080/",
          "height": 547
        },
        "id": "ZyRih7RYaGLt",
        "outputId": "45377d9b-9a39-4226-cb02-42712af2fc5e"
      },
      "execution_count": 46,
      "outputs": [
        {
          "output_type": "execute_result",
          "data": {
            "text/plain": [
              "Text(0.5, 1.0, 'Distribution of Shelter Occupancy Rate')"
            ]
          },
          "metadata": {},
          "execution_count": 46
        },
        {
          "output_type": "display_data",
          "data": {
            "text/plain": [
              "<Figure size 500x500 with 1 Axes>"
            ],
            "image/png": "[encoded data removed]"
          },
          "metadata": {}
        }
      ]
    },
    {
      "cell_type": "markdown",
      "source": [
        "The above histogram shows the distribution of shelter occupancy rate as a whole. It is very clear that the distribution is extremely left skewed (left skewness), showing most of the data points are distributed after 0.8. It is a unimodal histogram. This suggests that regarding the capacity type, most of the shelters are fully occupied."
      ],
      "metadata": {
        "id": "2xTppfnjvUnn"
      }
    },
    {
      "cell_type": "markdown",
      "source": [
        "#### EDA Summary\n",
        "\n",
        "As a whole, room based capacity is less in its count compared to bed based capacity. Nevertheless, each room based capacity tends to accept much more homeless when compared to bed based capacity. Regarding the capacity types, there are much more emergency programs than transitional programs, however, room based capacity has a bigger interquartile range and value in transitional programs than in emergency programs. Moreover, the occupancy rate for shelter usage is extremely high; most of the shelters are fully occupied, which means increased homeless could face a problem of not having a place for overnight stay. Shelter organizations may need to consider changing the strategies in the future, building more room based capacities, and increasing the amount of transitional programs.\n"
      ],
      "metadata": {
        "id": "vxDbLLO4xGKZ"
      }
    },
    {
      "cell_type": "markdown",
      "source": [
        "## Quantitative Analysis: T-Tests"
      ],
      "metadata": {
        "id": "mWzvFXVV4Dhj"
      }
    },
    {
      "cell_type": "code",
      "source": [
        "# Conducting a 2 sample t-test, one tailed (x > y), for occupancy rate\n",
        "\n",
        "# set room based capacity occupancy rate as x\n",
        "x = RoomBasedDF['OCCUPANCY_RATE']\n",
        "# set bed based capacity occupancy rate as y\n",
        "y = BedBasedDF['OCCUPANCY_RATE']\n",
        "\n",
        "## Using the internal function from SciPy Package\n",
        "t_stat, p_val = stats.ttest_ind(x, y, alternative='greater')\n",
        "print(\"t-statistic = \" + str(t_stat))\n",
        "print(\"p-value = \" + str(p_val))"
      ],
      "metadata": {
        "colab": {
          "base_uri": "https://localhost:8080/"
        },
        "id": "L0jBXbaf4pzX",
        "outputId": "583f3bef-39f3-49db-9c19-21a49c6f2b7b"
      },
      "execution_count": 47,
      "outputs": [
        {
          "output_type": "stream",
          "name": "stdout",
          "text": [
            "t-statistic = 4.854104599422829\n",
            "p-value = 6.064466591735712e-07\n"
          ]
        }
      ]
    },
    {
      "cell_type": "markdown",
      "source": [
        "Null hypothesis: there is no significant difference, or the mean of x (room based occupancy rate) is less than or equal to the mean of y (bed based occupancy rate).\n",
        "\n",
        "Alternative hypothesis: there is a significant difference and the mean of x (room based occupancy rate) is greater than the mean of y (bed based occupancy rate).\n",
        "\n",
        "p-value is much more less than 0.05 (assumed significance level), hence we have strong evidence to reject null hypothesis. This suggests that the mean of room based occupancy rate is significantly higher than bed based."
      ],
      "metadata": {
        "id": "gGPp03yrxC0n"
      }
    },
    {
      "cell_type": "code",
      "source": [
        "# Conducting a 2 sample t-test, one tailed (x > y), for service user count\n",
        "\n",
        "# set room based capacity service user count as x\n",
        "x1 = RoomBasedDF['SERVICE_USER_COUNT']\n",
        "# set bed based capacity service user count as y\n",
        "y1 = BedBasedDF['SERVICE_USER_COUNT']\n",
        "\n",
        "## Using the internal function from SciPy Package\n",
        "t_stat, p_val = stats.ttest_ind(x1, y1, alternative='greater')\n",
        "print(\"t-statistic = \" + str(t_stat))\n",
        "print(\"p-value = \" + str(p_val))"
      ],
      "metadata": {
        "colab": {
          "base_uri": "https://localhost:8080/"
        },
        "id": "8S4XwwuQ8mmn",
        "outputId": "5e56216a-768a-4618-d236-40b232c01e4c"
      },
      "execution_count": 53,
      "outputs": [
        {
          "output_type": "stream",
          "name": "stdout",
          "text": [
            "t-statistic = 97.1228806296218\n",
            "p-value = 0.0\n"
          ]
        }
      ]
    },
    {
      "cell_type": "markdown",
      "source": [
        "Null hypothesis: there is no significant difference, or the mean of x (room based service user count) is less than or equal to the mean of y (bed based service user count).\n",
        "\n",
        "Alternative hypothesis: there is a significant difference and the mean of x (room based service user count) is greater than the mean of y (bed based service user count).\n",
        "\n",
        "p-value is much more less than 0.05 (assumed significance level), hence we have strong evidence to reject null hypothesis. This suggests that the mean of room based service user count is significantly higher than bed based."
      ],
      "metadata": {
        "id": "C0IOW-aQ1Ej9"
      }
    },
    {
      "cell_type": "markdown",
      "source": [
        "### End of the analysis. Thanks for reading!"
      ],
      "metadata": {
        "id": "ERWxhy6U1RyC"
      }
    }
  ]
}