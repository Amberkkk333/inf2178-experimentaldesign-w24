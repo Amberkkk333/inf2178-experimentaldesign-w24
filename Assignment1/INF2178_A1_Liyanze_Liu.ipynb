{
 "cells": [
  {
   "cell_type": "markdown",
   "metadata": {},
   "source": [
    "## Student Name: Liyanze Liu\n",
    "## Student Number: 1009172324"
   ]
  },
  {
   "cell_type": "code",
   "execution_count": 1,
   "metadata": {},
   "outputs": [],
   "source": [
    "# Importing libraries\n",
    "import pandas as pd\n",
    "from scipy import stats\n",
    "import matplotlib.pyplot as plt\n"
   ]
  },
  {
   "cell_type": "code",
   "execution_count": 2,
   "metadata": {},
   "outputs": [
    {
     "data": {
      "text/html": [
       "<div>\n",
       "<style scoped>\n",
       "    .dataframe tbody tr th:only-of-type {\n",
       "        vertical-align: middle;\n",
       "    }\n",
       "\n",
       "    .dataframe tbody tr th {\n",
       "        vertical-align: top;\n",
       "    }\n",
       "\n",
       "    .dataframe thead th {\n",
       "        text-align: right;\n",
       "    }\n",
       "</style>\n",
       "<table border=\"1\" class=\"dataframe\">\n",
       "  <thead>\n",
       "    <tr style=\"text-align: right;\">\n",
       "      <th></th>\n",
       "      <th>OCCUPANCY_DATE</th>\n",
       "      <th>ORGANIZATION_NAME</th>\n",
       "      <th>PROGRAM_ID</th>\n",
       "      <th>PROGRAM_NAME</th>\n",
       "      <th>SECTOR</th>\n",
       "      <th>PROGRAM_MODEL</th>\n",
       "      <th>OVERNIGHT_SERVICE_TYPE</th>\n",
       "      <th>PROGRAM_AREA</th>\n",
       "      <th>SERVICE_USER_COUNT</th>\n",
       "      <th>CAPACITY_TYPE</th>\n",
       "      <th>CAPACITY_ACTUAL_BED</th>\n",
       "      <th>OCCUPIED_BEDS</th>\n",
       "      <th>CAPACITY_ACTUAL_ROOM</th>\n",
       "      <th>OCCUPIED_ROOMS</th>\n",
       "    </tr>\n",
       "  </thead>\n",
       "  <tbody>\n",
       "    <tr>\n",
       "      <th>0</th>\n",
       "      <td>2021-01-01</td>\n",
       "      <td>COSTI Immigrant Services</td>\n",
       "      <td>15371</td>\n",
       "      <td>COSTI North York West Hotel - Family Program</td>\n",
       "      <td>Families</td>\n",
       "      <td>Emergency</td>\n",
       "      <td>Motel/Hotel Shelter</td>\n",
       "      <td>COVID-19 Response</td>\n",
       "      <td>74</td>\n",
       "      <td>Room Based Capacity</td>\n",
       "      <td>NaN</td>\n",
       "      <td>NaN</td>\n",
       "      <td>29.0</td>\n",
       "      <td>26.0</td>\n",
       "    </tr>\n",
       "    <tr>\n",
       "      <th>1</th>\n",
       "      <td>2021-01-01</td>\n",
       "      <td>COSTI Immigrant Services</td>\n",
       "      <td>16211</td>\n",
       "      <td>COSTI North York West Hotel - Seniors Program</td>\n",
       "      <td>Mixed Adult</td>\n",
       "      <td>Emergency</td>\n",
       "      <td>Motel/Hotel Shelter</td>\n",
       "      <td>COVID-19 Response</td>\n",
       "      <td>3</td>\n",
       "      <td>Room Based Capacity</td>\n",
       "      <td>NaN</td>\n",
       "      <td>NaN</td>\n",
       "      <td>3.0</td>\n",
       "      <td>3.0</td>\n",
       "    </tr>\n",
       "    <tr>\n",
       "      <th>2</th>\n",
       "      <td>2021-01-01</td>\n",
       "      <td>COSTI Immigrant Services</td>\n",
       "      <td>16192</td>\n",
       "      <td>COSTI North York West Hotel Program - Men</td>\n",
       "      <td>Men</td>\n",
       "      <td>Emergency</td>\n",
       "      <td>Motel/Hotel Shelter</td>\n",
       "      <td>COVID-19 Response</td>\n",
       "      <td>24</td>\n",
       "      <td>Room Based Capacity</td>\n",
       "      <td>NaN</td>\n",
       "      <td>NaN</td>\n",
       "      <td>28.0</td>\n",
       "      <td>23.0</td>\n",
       "    </tr>\n",
       "    <tr>\n",
       "      <th>3</th>\n",
       "      <td>2021-01-01</td>\n",
       "      <td>COSTI Immigrant Services</td>\n",
       "      <td>16191</td>\n",
       "      <td>COSTI North York West Hotel Program - Mixed Adult</td>\n",
       "      <td>Mixed Adult</td>\n",
       "      <td>Emergency</td>\n",
       "      <td>Motel/Hotel Shelter</td>\n",
       "      <td>COVID-19 Response</td>\n",
       "      <td>25</td>\n",
       "      <td>Room Based Capacity</td>\n",
       "      <td>NaN</td>\n",
       "      <td>NaN</td>\n",
       "      <td>17.0</td>\n",
       "      <td>17.0</td>\n",
       "    </tr>\n",
       "    <tr>\n",
       "      <th>4</th>\n",
       "      <td>2021-01-01</td>\n",
       "      <td>COSTI Immigrant Services</td>\n",
       "      <td>16193</td>\n",
       "      <td>COSTI North York West Hotel Program - Women</td>\n",
       "      <td>Women</td>\n",
       "      <td>Emergency</td>\n",
       "      <td>Motel/Hotel Shelter</td>\n",
       "      <td>COVID-19 Response</td>\n",
       "      <td>13</td>\n",
       "      <td>Room Based Capacity</td>\n",
       "      <td>NaN</td>\n",
       "      <td>NaN</td>\n",
       "      <td>14.0</td>\n",
       "      <td>13.0</td>\n",
       "    </tr>\n",
       "  </tbody>\n",
       "</table>\n",
       "</div>"
      ],
      "text/plain": [
       "  OCCUPANCY_DATE         ORGANIZATION_NAME  PROGRAM_ID  \\\n",
       "0     2021-01-01  COSTI Immigrant Services       15371   \n",
       "1     2021-01-01  COSTI Immigrant Services       16211   \n",
       "2     2021-01-01  COSTI Immigrant Services       16192   \n",
       "3     2021-01-01  COSTI Immigrant Services       16191   \n",
       "4     2021-01-01  COSTI Immigrant Services       16193   \n",
       "\n",
       "                                        PROGRAM_NAME       SECTOR  \\\n",
       "0       COSTI North York West Hotel - Family Program     Families   \n",
       "1      COSTI North York West Hotel - Seniors Program  Mixed Adult   \n",
       "2          COSTI North York West Hotel Program - Men          Men   \n",
       "3  COSTI North York West Hotel Program - Mixed Adult  Mixed Adult   \n",
       "4        COSTI North York West Hotel Program - Women        Women   \n",
       "\n",
       "  PROGRAM_MODEL OVERNIGHT_SERVICE_TYPE       PROGRAM_AREA  SERVICE_USER_COUNT  \\\n",
       "0     Emergency    Motel/Hotel Shelter  COVID-19 Response                  74   \n",
       "1     Emergency    Motel/Hotel Shelter  COVID-19 Response                   3   \n",
       "2     Emergency    Motel/Hotel Shelter  COVID-19 Response                  24   \n",
       "3     Emergency    Motel/Hotel Shelter  COVID-19 Response                  25   \n",
       "4     Emergency    Motel/Hotel Shelter  COVID-19 Response                  13   \n",
       "\n",
       "         CAPACITY_TYPE  CAPACITY_ACTUAL_BED  OCCUPIED_BEDS  \\\n",
       "0  Room Based Capacity                  NaN            NaN   \n",
       "1  Room Based Capacity                  NaN            NaN   \n",
       "2  Room Based Capacity                  NaN            NaN   \n",
       "3  Room Based Capacity                  NaN            NaN   \n",
       "4  Room Based Capacity                  NaN            NaN   \n",
       "\n",
       "   CAPACITY_ACTUAL_ROOM  OCCUPIED_ROOMS  \n",
       "0                  29.0            26.0  \n",
       "1                   3.0             3.0  \n",
       "2                  28.0            23.0  \n",
       "3                  17.0            17.0  \n",
       "4                  14.0            13.0  "
      ]
     },
     "execution_count": 2,
     "metadata": {},
     "output_type": "execute_result"
    }
   ],
   "source": [
    "# Loading the data from an Excel\n",
    "a1_data = 'INF2178_A1_data.xlsx'\n",
    "a1_df = pd.read_excel(a1_data)\n",
    "\n",
    "# Displaying the first few rows to the a1_data\n",
    "a1_df.head()"
   ]
  },
  {
   "cell_type": "code",
   "execution_count": 3,
   "metadata": {},
   "outputs": [
    {
     "name": "stdout",
     "output_type": "stream",
     "text": [
      "             CAPACITY_TYPE PROGRAM_MODEL  SERVICE_USER_COUNT  \\\n",
      "0      Room Based Capacity     Emergency                  74   \n",
      "1      Room Based Capacity     Emergency                   3   \n",
      "2      Room Based Capacity     Emergency                  24   \n",
      "3      Room Based Capacity     Emergency                  25   \n",
      "4      Room Based Capacity     Emergency                  13   \n",
      "...                    ...           ...                 ...   \n",
      "50939   Bed Based Capacity     Emergency                   6   \n",
      "50940   Bed Based Capacity     Emergency                  23   \n",
      "50941   Bed Based Capacity  Transitional                  13   \n",
      "50942   Bed Based Capacity     Emergency                  10   \n",
      "50943   Bed Based Capacity  Transitional                  29   \n",
      "\n",
      "       CAPACITY_ACTUAL_BED  OCCUPIED_BEDS  CAPACITY_ACTUAL_ROOM  \\\n",
      "0                      NaN            NaN                  29.0   \n",
      "1                      NaN            NaN                   3.0   \n",
      "2                      NaN            NaN                  28.0   \n",
      "3                      NaN            NaN                  17.0   \n",
      "4                      NaN            NaN                  14.0   \n",
      "...                    ...            ...                   ...   \n",
      "50939                 20.0            6.0                   NaN   \n",
      "50940                 23.0           23.0                   NaN   \n",
      "50941                 14.0           13.0                   NaN   \n",
      "50942                 10.0           10.0                   NaN   \n",
      "50943                 29.0           29.0                   NaN   \n",
      "\n",
      "       OCCUPIED_ROOMS  \n",
      "0                26.0  \n",
      "1                 3.0  \n",
      "2                23.0  \n",
      "3                17.0  \n",
      "4                13.0  \n",
      "...               ...  \n",
      "50939             NaN  \n",
      "50940             NaN  \n",
      "50941             NaN  \n",
      "50942             NaN  \n",
      "50943             NaN  \n",
      "\n",
      "[50944 rows x 7 columns]\n"
     ]
    }
   ],
   "source": [
    "# Selecting specific columns\n",
    "selected_columns = a1_df[['CAPACITY_TYPE', 'PROGRAM_MODEL', \n",
    "                          'SERVICE_USER_COUNT', 'CAPACITY_ACTUAL_BED', \n",
    "                          'OCCUPIED_BEDS', 'CAPACITY_ACTUAL_ROOM', 'OCCUPIED_ROOMS']]\n",
    "\n",
    "# Printing the selected columns \n",
    "print(selected_columns)"
   ]
  },
  {
   "cell_type": "markdown",
   "metadata": {},
   "source": [
    "#### 1.Room Based Capacity"
   ]
  },
  {
   "cell_type": "code",
   "execution_count": 4,
   "metadata": {},
   "outputs": [
    {
     "name": "stdout",
     "output_type": "stream",
     "text": [
      "             CAPACITY_TYPE PROGRAM_MODEL  SERVICE_USER_COUNT  \\\n",
      "0      Room Based Capacity     Emergency                  74   \n",
      "1      Room Based Capacity     Emergency                   3   \n",
      "2      Room Based Capacity     Emergency                  24   \n",
      "3      Room Based Capacity     Emergency                  25   \n",
      "4      Room Based Capacity     Emergency                  13   \n",
      "...                    ...           ...                 ...   \n",
      "50920  Room Based Capacity     Emergency                 128   \n",
      "50923  Room Based Capacity     Emergency                  76   \n",
      "50927  Room Based Capacity     Emergency                  10   \n",
      "50932  Room Based Capacity     Emergency                  74   \n",
      "50934  Room Based Capacity     Emergency                  27   \n",
      "\n",
      "       CAPACITY_ACTUAL_ROOM  OCCUPIED_ROOMS  \n",
      "0                      29.0            26.0  \n",
      "1                       3.0             3.0  \n",
      "2                      28.0            23.0  \n",
      "3                      17.0            17.0  \n",
      "4                      14.0            13.0  \n",
      "...                     ...             ...  \n",
      "50920                 128.0           128.0  \n",
      "50923                  76.0            76.0  \n",
      "50927                   3.0             3.0  \n",
      "50932                  23.0            22.0  \n",
      "50934                  28.0            27.0  \n",
      "\n",
      "[18545 rows x 5 columns]\n"
     ]
    }
   ],
   "source": [
    "# Filtering data for room capacity and selecting columns\n",
    "room_columns = a1_df[['CAPACITY_TYPE', 'PROGRAM_MODEL', 'SERVICE_USER_COUNT', 'CAPACITY_ACTUAL_ROOM', \n",
    "              'OCCUPIED_ROOMS']][a1_df['CAPACITY_TYPE'] == 'Room Based Capacity']\n",
    "\n",
    "# Printing the room capacity data\n",
    "print(room_columns)"
   ]
  },
  {
   "cell_type": "code",
   "execution_count": 5,
   "metadata": {},
   "outputs": [
    {
     "data": {
      "text/plain": [
       "CAPACITY_TYPE           0\n",
       "PROGRAM_MODEL           0\n",
       "SERVICE_USER_COUNT      0\n",
       "CAPACITY_ACTUAL_ROOM    0\n",
       "OCCUPIED_ROOMS          0\n",
       "dtype: int64"
      ]
     },
     "execution_count": 5,
     "metadata": {},
     "output_type": "execute_result"
    }
   ],
   "source": [
    "# The number of missing values in room_columns\n",
    "room_columns.isnull().sum()"
   ]
  },
  {
   "cell_type": "code",
   "execution_count": 6,
   "metadata": {},
   "outputs": [
    {
     "name": "stdout",
     "output_type": "stream",
     "text": [
      "T-Statistic: 31.71080126309493\n",
      "P-Value: 4.4252019739840735e-150\n"
     ]
    }
   ],
   "source": [
    "# Computing the occupancy rate for rooms\n",
    "room_columns['OCCUPANCY_RATE_ROOM'] = room_columns['OCCUPIED_ROOMS'] / room_columns['CAPACITY_ACTUAL_ROOM']\n",
    "\n",
    "# Extracting room occupancy rates for 'Emergency' and 'Transitional' program models\n",
    "room_emergency = room_columns[room_columns['PROGRAM_MODEL'] == 'Emergency']['OCCUPANCY_RATE_ROOM']\n",
    "room_transitional = room_columns[room_columns['PROGRAM_MODEL'] == 'Transitional']['OCCUPANCY_RATE_ROOM']\n",
    "\n",
    "# Performing a t-test\n",
    "t_statistic, p_value = stats.ttest_ind(room_emergency, room_transitional, equal_var=False, nan_policy='omit')\n",
    "\n",
    "# Printing the results of the t-test\n",
    "print(\"T-Statistic:\", t_statistic)\n",
    "print(\"P-Value:\", p_value)"
   ]
  },
  {
   "cell_type": "code",
   "execution_count": 7,
   "metadata": {},
   "outputs": [
    {
     "data": {
      "image/png": "[encoded data removed]",
      "text/plain": [
       "<Figure size 432x288 with 1 Axes>"
      ]
     },
     "metadata": {
      "needs_background": "light"
     },
     "output_type": "display_data"
    }
   ],
   "source": [
    "# Calculating and plotting the average room occupancy rate\n",
    "room_average_occupancy_rate = room_columns.groupby('PROGRAM_MODEL')['OCCUPANCY_RATE_ROOM'].mean()\n",
    "\n",
    "room_average_occupancy_rate.plot(kind='bar')\n",
    "plt.title('Average Room Occupancy Rate by Program Model')\n",
    "plt.xlabel('Program Model')\n",
    "plt.ylabel('Average Occupancy Rate')\n",
    "plt.show()"
   ]
  },
  {
   "cell_type": "markdown",
   "metadata": {},
   "source": [
    "#### 2.Bed Based Capacity"
   ]
  },
  {
   "cell_type": "code",
   "execution_count": 8,
   "metadata": {},
   "outputs": [
    {
     "name": "stdout",
     "output_type": "stream",
     "text": [
      "            CAPACITY_TYPE PROGRAM_MODEL  SERVICE_USER_COUNT  \\\n",
      "5      Bed Based Capacity     Emergency                   6   \n",
      "10     Bed Based Capacity     Emergency                  22   \n",
      "11     Bed Based Capacity     Emergency                   8   \n",
      "21     Bed Based Capacity  Transitional                  10   \n",
      "25     Bed Based Capacity     Emergency                  11   \n",
      "...                   ...           ...                 ...   \n",
      "50939  Bed Based Capacity     Emergency                   6   \n",
      "50940  Bed Based Capacity     Emergency                  23   \n",
      "50941  Bed Based Capacity  Transitional                  13   \n",
      "50942  Bed Based Capacity     Emergency                  10   \n",
      "50943  Bed Based Capacity  Transitional                  29   \n",
      "\n",
      "       CAPACITY_ACTUAL_BED  OCCUPIED_BEDS  \n",
      "5                      8.0            6.0  \n",
      "10                    24.0           22.0  \n",
      "11                    12.0            8.0  \n",
      "21                    12.0           10.0  \n",
      "25                    12.0           11.0  \n",
      "...                    ...            ...  \n",
      "50939                 20.0            6.0  \n",
      "50940                 23.0           23.0  \n",
      "50941                 14.0           13.0  \n",
      "50942                 10.0           10.0  \n",
      "50943                 29.0           29.0  \n",
      "\n",
      "[32399 rows x 5 columns]\n"
     ]
    }
   ],
   "source": [
    "# Filtering data for bed capacity and selecting columns\n",
    "bed_columns = a1_df[['CAPACITY_TYPE', 'PROGRAM_MODEL', 'SERVICE_USER_COUNT', 'CAPACITY_ACTUAL_BED',\n",
    "                      'OCCUPIED_BEDS']][a1_df['CAPACITY_TYPE'] == 'Bed Based Capacity']\n",
    "\n",
    "# Printing the bed capacity data\n",
    "print(bed_columns)"
   ]
  },
  {
   "cell_type": "code",
   "execution_count": 9,
   "metadata": {},
   "outputs": [
    {
     "data": {
      "text/plain": [
       "CAPACITY_TYPE          0\n",
       "PROGRAM_MODEL          2\n",
       "SERVICE_USER_COUNT     0\n",
       "CAPACITY_ACTUAL_BED    0\n",
       "OCCUPIED_BEDS          0\n",
       "dtype: int64"
      ]
     },
     "execution_count": 9,
     "metadata": {},
     "output_type": "execute_result"
    }
   ],
   "source": [
    "# The number of missing values in bed_columns\n",
    "bed_columns.isnull().sum()"
   ]
  },
  {
   "cell_type": "code",
   "execution_count": 10,
   "metadata": {},
   "outputs": [
    {
     "data": {
      "text/plain": [
       "CAPACITY_TYPE          0\n",
       "PROGRAM_MODEL          0\n",
       "SERVICE_USER_COUNT     0\n",
       "CAPACITY_ACTUAL_BED    0\n",
       "OCCUPIED_BEDS          0\n",
       "dtype: int64"
      ]
     },
     "execution_count": 10,
     "metadata": {},
     "output_type": "execute_result"
    }
   ],
   "source": [
    "# Dropping rows with missing values\n",
    "bed_filled = bed_columns.dropna()\n",
    "\n",
    "# The number of missing values in bed_filled\n",
    "bed_filled.isnull().sum()"
   ]
  },
  {
   "cell_type": "code",
   "execution_count": 11,
   "metadata": {},
   "outputs": [
    {
     "name": "stdout",
     "output_type": "stream",
     "text": [
      "T-Statistic: 36.78483679745313\n",
      "P-Value: 7.273950955976339e-283\n"
     ]
    }
   ],
   "source": [
    "# Creating a copy of the bed_filled\n",
    "bed_filled_copy = bed_filled.copy()\n",
    "\n",
    "# Calculating the occupancy rate for beds\n",
    "bed_filled_copy['OCCUPANCY_RATE_BED'] = bed_filled_copy['OCCUPIED_BEDS'] / bed_filled_copy['CAPACITY_ACTUAL_BED']\n",
    "\n",
    "# Extracting bed occupancy rates for 'Emergency' and 'Transitional' program models\n",
    "bed_emergency = bed_filled_copy[bed_filled_copy['PROGRAM_MODEL'] == 'Emergency']['OCCUPANCY_RATE_BED']\n",
    "bed_transitional = bed_filled_copy[bed_filled_copy['PROGRAM_MODEL'] == 'Transitional']['OCCUPANCY_RATE_BED']\n",
    "\n",
    "# Performing a t-test\n",
    "t_statistic, p_value = stats.ttest_ind(bed_emergency, bed_transitional, equal_var=False, nan_policy='omit')\n",
    "\n",
    "# Printing the results of the t-test\n",
    "print(\"T-Statistic:\", t_statistic)\n",
    "print(\"P-Value:\", p_value)"
   ]
  },
  {
   "cell_type": "code",
   "execution_count": 12,
   "metadata": {},
   "outputs": [
    {
     "data": {
      "image/png": "[encoded data removed]",
      "text/plain": [
       "<Figure size 432x288 with 1 Axes>"
      ]
     },
     "metadata": {
      "needs_background": "light"
     },
     "output_type": "display_data"
    }
   ],
   "source": [
    "# Calculating and plotting the average bed occupancy rate\n",
    "bed_average_occupancy_rate = bed_filled_copy.groupby('PROGRAM_MODEL')['OCCUPANCY_RATE_BED'].mean()\n",
    "\n",
    "bed_average_occupancy_rate.plot(kind='bar')\n",
    "plt.title('Average Bed Occupancy Rate by Program Model')\n",
    "plt.xlabel('Program Model')\n",
    "plt.ylabel('Average Occupancy Rate')\n",
    "plt.show()"
   ]
  },
  {
   "cell_type": "code",
   "execution_count": null,
   "metadata": {},
   "outputs": [],
   "source": []
  }
 ],
 "metadata": {
  "kernelspec": {
   "display_name": "Python 3",
   "language": "python",
   "name": "python3"
  },
  "language_info": {
   "codemirror_mode": {
    "name": "ipython",
    "version": 3
   },
   "file_extension": ".py",
   "mimetype": "text/x-python",
   "name": "python",
   "nbconvert_exporter": "python",
   "pygments_lexer": "ipython3",
   "version": "3.8.3"
  }
 },
 "nbformat": 4,
 "nbformat_minor": 4
}
