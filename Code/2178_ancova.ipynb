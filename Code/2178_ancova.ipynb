{
  "nbformat": 4,
  "nbformat_minor": 0,
  "metadata": {
    "colab": {
      "provenance": []
    },
    "kernelspec": {
      "name": "ir",
      "display_name": "R"
    },
    "language_info": {
      "name": "R"
    }
  },
  "cells": [
    {
      "cell_type": "code",
      "execution_count": null,
      "metadata": {
        "id": "pQunPB7qwwjA"
      },
      "outputs": [],
      "source": [
        "#different ancova codes\n",
        "#ancova using pinguin\n",
        "import pandas as pd\n",
        "df=pd.read_csv(\"https://reneshbedre.github.io/assets/posts/ancova/ancova_data.csv\")\n",
        "df.head(4)"
      ]
    },
    {
      "cell_type": "code",
      "source": [
        "%pip install dfply\n",
        "from dfply import *\n",
        "# summary statistics for dependent variable yield\n",
        "df >> group_by(X.genotype) >> summarize(n=X['yield'].count(), mean=X['yield'].mean(), std=X['yield'].std())"
      ],
      "metadata": {
        "id": "XekzgK4MyVYG"
      },
      "execution_count": null,
      "outputs": []
    },
    {
      "cell_type": "code",
      "source": [
        "import seaborn as sns\n",
        "import matplotlib.pyplot as plt\n",
        "fig, axs = plt.subplots(ncols=3)\n",
        "sns.scatterplot(data=df, x=\"height\", y=\"yield\", hue=df.genotype.tolist(), ax=axs[0])\n",
        "sns.boxplot(data=df, x=\"genotype\", y=\"yield\", hue=df.genotype.tolist(), ax=axs[1])\n",
        "sns.boxplot(data=df, x=\"genotype\", y=\"height\", hue=df.genotype.tolist(), ax=axs[2])\n",
        "plt.show()\n"
      ],
      "metadata": {
        "id": "G8aEqHXNzRJO"
      },
      "execution_count": null,
      "outputs": []
    },
    {
      "cell_type": "code",
      "source": [
        "%pip install pingouin\n",
        "from pingouin import ancova\n",
        "ancova(data=df, dv='yield', covar='height', between='genotype')"
      ],
      "metadata": {
        "id": "-gBLC0z7z0RA"
      },
      "execution_count": null,
      "outputs": []
    },
    {
      "cell_type": "code",
      "source": [
        "import numpy as np\n",
        "import pandas as pd\n",
        "\n",
        "# create data\n",
        "data = pd.DataFrame({'methodology': np.repeat(['A', 'B', 'C'], 4),\n",
        "                     'current_grade': [67, 88, 75, 85,\n",
        "                                       92, 77, 74, 88,\n",
        "                                       91, 88, 82, 80],\n",
        "                     'test_score': [77, 89, 74, 69,\n",
        "                                    88, 93, 94, 90,\n",
        "                                    85, 81, 83, 79]})\n",
        "# view data\n",
        "data"
      ],
      "metadata": {
        "id": "onNjG00lz6wN"
      },
      "execution_count": null,
      "outputs": []
    },
    {
      "cell_type": "code",
      "source": [
        "from pingouin import ancova\n",
        "\n",
        "data = pd.DataFrame({'methodology': np.repeat(['A', 'B', 'C'], 4),\n",
        "                     'current_grade': [67, 88, 75, 85,\n",
        "                                       92, 77, 74, 88,\n",
        "                                       91, 88, 82, 80],\n",
        "                     'test_score': [77, 89, 74, 69,\n",
        "                                    88, 93, 94, 90,\n",
        "                                    85, 81, 83, 79]})\n",
        "\n",
        "ancova(data=data, dv='test_score', covar='current_grade', between='methodology')"
      ],
      "metadata": {
        "id": "RCxMYmkg0O2O"
      },
      "execution_count": null,
      "outputs": []
    },
    {
      "cell_type": "code",
      "source": [
        "#ancova using statsmodels\n",
        "import pandas as pd\n",
        "import statsmodels.api as sm\n",
        "from statsmodels.formula.api import ols\n",
        "\n",
        "# Define the data for the ANCOVA\n",
        "df = pd.DataFrame({'dependent_variable' : [8, 7, 9, 11, 10, 12, 14, 13, 15, 16],\n",
        "   'group' : [\"A\", \"A\", \"A\", \"B\", \"B\", \"B\", \"C\", \"C\", \"C\", \"C\"],\n",
        "    'covariate' : [20, 30, 40, 30, 40, 50, 40, 50, 60, 70]})\n",
        "\n",
        "# Perform the ANCOVA\n",
        "model = ols('dependent_variable ~ group + covariate', data=df).fit()\n",
        "\n",
        "# Print the summary of the model\n",
        "print(model.summary())"
      ],
      "metadata": {
        "id": "qerpwU4f18y2"
      },
      "execution_count": null,
      "outputs": []
    },
    {
      "cell_type": "code",
      "source": [
        "#a more detailed example:\n",
        "import numpy as np\n",
        "import pandas as pd\n",
        "import statsmodels.api as sm\n",
        "\n",
        "np.random.seed(123)\n",
        "\n",
        "# Generate age data\n",
        "age_treatment = np.random.normal(loc=40, scale=10, size=50)\n",
        "age_control = np.random.normal(loc=40, scale=10, size=50)\n",
        "\n",
        "# Generate body weight data\n",
        "baseline_weight_treatment = np.random.normal(loc=80, scale=10, size=50)\n",
        "baseline_weight_control = np.random.normal(loc=80, scale=10, size=50)\n",
        "post_weight_treatment = np.random.normal(loc=75, scale=10, size=50)\n",
        "post_weight_control = np.random.normal(loc=80, scale=10, size=50)\n",
        "\n",
        "# Combine data into a DataFrame\n",
        "df = pd.DataFrame({\n",
        "    'age': np.concatenate((age_treatment, age_control)),\n",
        "    'baseline_weight': np.concatenate((baseline_weight_treatment, baseline_weight_control)),\n",
        "    'post_weight': np.concatenate((post_weight_treatment, post_weight_control)),\n",
        "    'treatment': np.concatenate((np.ones(50), np.zeros(50)))\n",
        "})"
      ],
      "metadata": {
        "id": "lmmJDopl2Til"
      },
      "execution_count": null,
      "outputs": []
    },
    {
      "cell_type": "code",
      "source": [
        "# Fit ANCOVA model\n",
        "model = sm.formula.ols('post_weight ~ treatment + age + baseline_weight', data=df).fit()\n",
        "\n",
        "# Print model summary\n",
        "print(model.summary())"
      ],
      "metadata": {
        "id": "xXISNrww9cW9"
      },
      "execution_count": null,
      "outputs": []
    },
    {
      "cell_type": "code",
      "source": [
        "# Fit ANCOVA model with interaction term\n",
        "model_interaction = sm.formula.ols('post_weight ~ treatment * age + baseline_weight', data=df).fit()\n",
        "\n",
        "# Print model summary\n",
        "print(model_interaction.summary())"
      ],
      "metadata": {
        "id": "qulztxoS9exU"
      },
      "execution_count": null,
      "outputs": []
    },
    {
      "cell_type": "code",
      "source": [
        "#ancova in R\n",
        "install.packages(\"ggpubr\")\n",
        "library(tidyverse)\n",
        "library(ggpubr)\n",
        "library(rstatix)\n",
        "library(broom)"
      ],
      "metadata": {
        "id": "akCFj_sK9hu4"
      },
      "execution_count": null,
      "outputs": []
    },
    {
      "cell_type": "code",
      "source": [
        "# Load and prepare the data\n",
        "install.packages(\"datarium\")\n",
        "library(datarium)\n",
        "data(\"anxiety\", package = \"datarium\")\n",
        "anxiety <- anxiety %>%\n",
        "  select(id, group, t1, t3) %>%\n",
        "  rename(pretest = t1, posttest = t3)\n",
        "anxiety[14, \"posttest\"] <- 19\n",
        "# Inspect the data by showing one random row by groups\n",
        "set.seed(123)\n",
        "anxiety %>% sample_n_by(group, size = 1)"
      ],
      "metadata": {
        "id": "1RN3Kf_bAEuJ"
      },
      "execution_count": null,
      "outputs": []
    },
    {
      "cell_type": "code",
      "source": [
        "ggscatter(\n",
        "  anxiety, x = \"pretest\", y = \"posttest\",\n",
        "  color = \"group\", add = \"reg.line\"\n",
        "  )+\n",
        "  stat_regline_equation(\n",
        "    aes(label =  paste(..eq.label.., ..rr.label.., sep = \"~~~~\"), color = group)\n",
        "    )"
      ],
      "metadata": {
        "id": "mA4ODWfuB76z"
      },
      "execution_count": null,
      "outputs": []
    },
    {
      "cell_type": "code",
      "source": [
        "anxiety %>% anova_test(posttest ~ group*pretest)"
      ],
      "metadata": {
        "id": "1szdrmlHCQqD"
      },
      "execution_count": null,
      "outputs": []
    },
    {
      "cell_type": "code",
      "source": [
        "# Fit the model, the covariate goes first\n",
        "model <- lm(posttest ~ pretest + group, data = anxiety)"
      ],
      "metadata": {
        "id": "TCHdhJY_CfEO"
      },
      "execution_count": null,
      "outputs": []
    },
    {
      "cell_type": "code",
      "source": [
        "model.metrics <- augment(model)"
      ],
      "metadata": {
        "id": "NqliApH3ChMJ"
      },
      "execution_count": null,
      "outputs": []
    },
    {
      "cell_type": "code",
      "source": [
        "head(model.metrics, 3)"
      ],
      "metadata": {
        "id": "3tu3-TU7Cs6-"
      },
      "execution_count": null,
      "outputs": []
    },
    {
      "cell_type": "code",
      "source": [
        "# Assess normality of residuals using shapiro wilk test\n",
        "shapiro_test(model.metrics$.resid)"
      ],
      "metadata": {
        "id": "tF7Ls4mzCute"
      },
      "execution_count": null,
      "outputs": []
    },
    {
      "cell_type": "code",
      "source": [
        "model.metrics %>% levene_test(.resid ~ group)"
      ],
      "metadata": {
        "id": "CeFor2PNCxA-"
      },
      "execution_count": null,
      "outputs": []
    },
    {
      "cell_type": "code",
      "source": [
        "res.aov <- anxiety %>% anova_test(posttest ~ pretest + group)\n",
        "get_anova_table(res.aov)"
      ],
      "metadata": {
        "id": "coxUesKtCzpl"
      },
      "execution_count": null,
      "outputs": []
    },
    {
      "cell_type": "code",
      "source": [
        "install.packages(\"emmeans\")\n",
        "library(emmeans)\n",
        "pwc <- anxiety %>%\n",
        "  emmeans_test(\n",
        "    posttest ~ group, covariate = pretest,\n",
        "    p.adjust.method = \"bonferroni\"\n",
        "    )\n",
        "pwc"
      ],
      "metadata": {
        "id": "dwZ22uehC4n3"
      },
      "execution_count": null,
      "outputs": []
    },
    {
      "cell_type": "code",
      "source": [
        "# Display the adjusted means of each group\n",
        "# Also called as the estimated marginal means (emmeans)\n",
        "get_emmeans(pwc)"
      ],
      "metadata": {
        "id": "eA3j3GHRC7gj"
      },
      "execution_count": null,
      "outputs": []
    },
    {
      "cell_type": "code",
      "source": [
        "# Visualization: line plots with p-values\n",
        "pwc <- pwc %>% add_xy_position(x = \"group\", fun = \"mean_se\")\n",
        "ggline(get_emmeans(pwc), x = \"group\", y = \"emmean\") +\n",
        "  geom_errorbar(aes(ymin = conf.low, ymax = conf.high), width = 0.2) +\n",
        "  stat_pvalue_manual(pwc, hide.ns = TRUE, tip.length = FALSE) +\n",
        "  labs(\n",
        "    subtitle = get_test_label(res.aov, detailed = TRUE),\n",
        "    caption = get_pwc_label(pwc)\n",
        "  )"
      ],
      "metadata": {
        "id": "u0LXZCEjDKbG"
      },
      "execution_count": null,
      "outputs": []
    },
    {
      "cell_type": "code",
      "source": [],
      "metadata": {
        "id": "N4Kjy-NdDP3i"
      },
      "execution_count": null,
      "outputs": []
    }
  ]
}