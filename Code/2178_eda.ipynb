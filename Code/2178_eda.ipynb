{
  "nbformat": 4,
  "nbformat_minor": 0,
  "metadata": {
    "colab": {
      "provenance": []
    },
    "kernelspec": {
      "name": "python3",
      "display_name": "Python 3"
    },
    "language_info": {
      "name": "python"
    }
  },
  "cells": [
    {
      "cell_type": "code",
      "execution_count": 1,
      "metadata": {
        "id": "qkbwDdmp1H_M"
      },
      "outputs": [],
      "source": [
        "import numpy as np\n",
        "import pandas as pd\n",
        "from sklearn import datasets\n",
        "import matplotlib.pyplot as plt# Load Iris dataset\n",
        "iris = datasets.load_iris()"
      ]
    },
    {
      "cell_type": "code",
      "source": [
        "# Preparing Iris dataset\n",
        "iris_data = pd.DataFrame(data=iris.data, columns=['sepal_length', 'sepal_width', 'petal_length', 'petal_width'])"
      ],
      "metadata": {
        "id": "HizQn7Sb-tfD"
      },
      "execution_count": 2,
      "outputs": []
    },
    {
      "cell_type": "code",
      "source": [
        "iris_target = pd.DataFrame(data=iris.target, columns=['species'])\n",
        "iris_df = pd.concat([iris_data, iris_target], axis=1)"
      ],
      "metadata": {
        "id": "ka6G_tRI-vtb"
      },
      "execution_count": 3,
      "outputs": []
    },
    {
      "cell_type": "code",
      "source": [
        "# Add species name\n",
        "iris_df['species_name'] = np.where(iris_df['species'] == 0, 'Setosa', None)\n",
        "iris_df['species_name'] = np.where(iris_df['species'] == 1, 'Versicolor', iris_df['species_name'])\n",
        "iris_df['species_name'] = np.where(iris_df['species'] == 2, 'Virginica', iris_df['species_name'])"
      ],
      "metadata": {
        "id": "OtCkBRId-xyi"
      },
      "execution_count": 4,
      "outputs": []
    },
    {
      "cell_type": "code",
      "source": [
        "# Prepare petal length by species datasets\n",
        "setosa_petal_length = iris_df[iris_df['species_name'] == 'Setosa']['petal_length']"
      ],
      "metadata": {
        "id": "kPvTc0eb-4nL"
      },
      "execution_count": 5,
      "outputs": []
    },
    {
      "cell_type": "code",
      "source": [
        "versicolor_petal_length = iris_df[iris_df['species_name'] == 'Versicolor']['petal_length']\n",
        "virginica_petal_length = iris_df[iris_df['species_name'] == 'Virginica']['petal_length']"
      ],
      "metadata": {
        "id": "3G_KVd9E-6i7"
      },
      "execution_count": 6,
      "outputs": []
    },
    {
      "cell_type": "code",
      "source": [
        "# Visualize petal length distribution for all species\n",
        "fig, ax = plt.subplots(figsize=(12, 7))\n",
        "\n",
        "# Remove top and right border\n",
        "ax.spines['top'].set_visible(False)\n",
        "ax.spines['right'].set_visible(False)\n",
        "ax.spines['left'].set_visible(False)\n",
        "\n",
        "# Remove y-axis tick marks\n",
        "ax.yaxis.set_ticks_position('none')\n",
        "\n",
        "# Add major gridlines in the y-axis\n",
        "ax.grid(color='grey', axis='y', linestyle='-', linewidth=0.25, alpha=0.5)\n",
        "\n",
        "# Set plot title\n",
        "ax.set_title('Distribution of petal length by species')\n",
        "\n",
        "# Set species names as labels for the boxplot\n",
        "dataset = [setosa_petal_length, versicolor_petal_length, virginica_petal_length]\n",
        "\n",
        "labels = iris_df['species_name'].unique()\n",
        "ax.boxplot(dataset, labels=labels)\n",
        "plt.show()"
      ],
      "metadata": {
        "colab": {
          "base_uri": "https://localhost:8080/",
          "height": 622
        },
        "id": "C5pAk_RJ-9-t",
        "outputId": "1f681530-69b2-43b7-aecc-680649534eb5"
      },
      "execution_count": 7,
      "outputs": [
        {
          "output_type": "display_data",
          "data": {
            "text/plain": [
              "<Figure size 1200x700 with 1 Axes>"
            ],
            "image/png": "[encoded data removed]"
          },
          "metadata": {}
        }
      ]
    },
    {
      "cell_type": "code",
      "source": [
        "def get_summary_statistics(dataset):\n",
        "\n",
        "    mean = np.round(np.mean(dataset), 2)\n",
        "    median = np.round(np.median(dataset), 2)\n",
        "    min_value = np.round(dataset.min(), 2)\n",
        "    max_value = np.round(dataset.max(), 2)\n",
        "    quartile_1 = np.round(dataset.quantile(0.25), 2)\n",
        "    quartile_3 = np.round(dataset.quantile(0.75), 2)\n",
        "\n",
        "    # Interquartile range\n",
        "    iqr = np.round(quartile_3 - quartile_1, 2)\n",
        "\n",
        "    print('Min: %s' % min_value)\n",
        "    print('Mean: %s' % mean)\n",
        "    print('Max: %s' % max_value)\n",
        "    print('25th percentile: %s' % quartile_1)\n",
        "    print('Median: %s' % median)\n",
        "    print('75th percentile: %s' % quartile_3)\n",
        "    print('Interquartile range (IQR): %s' % iqr)\n",
        "    print('Setosa summary statistics')\n",
        "    print('\\n\\nSetosa summary statistics')\n",
        "\n"
      ],
      "metadata": {
        "id": "YMDnhyPh_DZl"
      },
      "execution_count": 10,
      "outputs": []
    },
    {
      "cell_type": "code",
      "source": [
        "print('\\n\\nSetosa summary statistics')\n",
        "get_summary_statistics(setosa_petal_length)"
      ],
      "metadata": {
        "colab": {
          "base_uri": "https://localhost:8080/"
        },
        "id": "0f7GK1Ge_EVu",
        "outputId": "3894f0b7-326b-46b8-d9fd-3c1f884a83d9"
      },
      "execution_count": 9,
      "outputs": [
        {
          "output_type": "stream",
          "name": "stdout",
          "text": [
            "\n",
            "\n",
            "Setosa summary statistics\n",
            "Min: 1.0\n",
            "Mean: 1.46\n",
            "Max: 1.9\n",
            "25th percentile: 1.4\n",
            "Median: 1.5\n",
            "75th percentile: 1.58\n",
            "Interquartile range (IQR): 0.18\n",
            "Setosa summary statistics\n",
            "\n",
            "\n",
            "Setosa summary statistics\n"
          ]
        }
      ]
    },
    {
      "cell_type": "code",
      "source": [
        "print('\\n\\nVersicolor summary statistics')\n",
        "get_summary_statistics(versicolor_petal_length)"
      ],
      "metadata": {
        "colab": {
          "base_uri": "https://localhost:8080/"
        },
        "id": "N43NSiZ1_GG7",
        "outputId": "65f68720-5a12-44c7-8395-4693ce665329"
      },
      "execution_count": 11,
      "outputs": [
        {
          "output_type": "stream",
          "name": "stdout",
          "text": [
            "\n",
            "\n",
            "Versicolor summary statistics\n",
            "Min: 3.0\n",
            "Mean: 4.26\n",
            "Max: 5.1\n",
            "25th percentile: 4.0\n",
            "Median: 4.35\n",
            "75th percentile: 4.6\n",
            "Interquartile range (IQR): 0.6\n",
            "Setosa summary statistics\n",
            "\n",
            "\n",
            "Setosa summary statistics\n"
          ]
        }
      ]
    },
    {
      "cell_type": "code",
      "source": [
        "print('\\n\\nVirginica summary statistics')\n",
        "get_summary_statistics(virginica_petal_length)"
      ],
      "metadata": {
        "colab": {
          "base_uri": "https://localhost:8080/"
        },
        "id": "yLt9J6fc_IA_",
        "outputId": "f4a8ac9e-248f-4703-8107-599cc494104c"
      },
      "execution_count": 12,
      "outputs": [
        {
          "output_type": "stream",
          "name": "stdout",
          "text": [
            "\n",
            "\n",
            "Virginica summary statistics\n",
            "Min: 4.5\n",
            "Mean: 5.55\n",
            "Max: 6.9\n",
            "25th percentile: 5.1\n",
            "Median: 5.55\n",
            "75th percentile: 5.88\n",
            "Interquartile range (IQR): 0.78\n",
            "Setosa summary statistics\n",
            "\n",
            "\n",
            "Setosa summary statistics\n"
          ]
        }
      ]
    },
    {
      "cell_type": "code",
      "source": [
        "#1 sample t-tests\n",
        "import numpy as np\n",
        "from scipy import stats\n",
        "\n",
        "# Population Mean\n",
        "mu = 10\n",
        "\n",
        "# Sample Size\n",
        "N1 = 21\n",
        "\n",
        "# Degrees of freedom\n",
        "dof = N1 - 1\n",
        "\n",
        "# Generate a random sample with mean = 11 and standard deviation = 1\n",
        "x = np.random.randn(N1) + 11\n",
        "\n",
        "# Using the Stats library, compute t-statistic and p-value\n",
        "t_stat, p_val = stats.ttest_1samp(a=x, popmean = mu)\n",
        "print(\"t-statistic = \" + str(t_stat))\n",
        "print(\"p-value = \" + str(p_val))"
      ],
      "metadata": {
        "colab": {
          "base_uri": "https://localhost:8080/"
        },
        "id": "bUWoHxqT_KbC",
        "outputId": "d91f927c-2bd4-41f6-c595-a758da1f38b2"
      },
      "execution_count": 13,
      "outputs": [
        {
          "output_type": "stream",
          "name": "stdout",
          "text": [
            "t-statistic = 3.749415452557537\n",
            "p-value = 0.0012630848207269823\n"
          ]
        }
      ]
    },
    {
      "cell_type": "code",
      "source": [
        "#2 sample t-test\n",
        "# Sample Sizes\n",
        "N1, N2 = 21, 25\n",
        "\n",
        "# Degrees of freedom\n",
        "dof = min(N1,N2) - 1\n",
        "\n",
        "# Gaussian distributed data with mean = 10.5 and var = 1\n",
        "x = np.random.randn(N1) + 10.5\n",
        "\n",
        "# Gaussian distributed data with mean = 9.5 and var = 1\n",
        "y = np.random.randn(N2) + 9.5\n",
        "\n",
        "## Using the internal function from SciPy Package\n",
        "t_stat, p_val = stats.ttest_ind(x, y)\n",
        "print(\"t-statistic = \" + str(t_stat))\n",
        "print(\"p-value = \" + str(p_val))"
      ],
      "metadata": {
        "colab": {
          "base_uri": "https://localhost:8080/"
        },
        "id": "xoRrmtBF_MSC",
        "outputId": "21ec300b-48a8-420d-b82a-4e2150b976d8"
      },
      "execution_count": 14,
      "outputs": [
        {
          "output_type": "stream",
          "name": "stdout",
          "text": [
            "t-statistic = 5.059833846213494\n",
            "p-value = 7.910961412976002e-06\n"
          ]
        }
      ]
    },
    {
      "cell_type": "code",
      "source": [
        "#welch's t-test\n",
        "# Sample Sizes\n",
        "N1, N2 = 21, 25\n",
        "\n",
        "# Degrees of freedom\n",
        "dof = min(N1,N2) - 1\n",
        "\n",
        "# Gaussian distributed data with mean = 9.9 and var = 1\n",
        "x = np.random.randn(N1) + 9.9\n",
        "\n",
        "# Gaussian distributed data with mean = 10 and var = 3\n",
        "y = 3*np.random.randn(N2) + 10\n",
        "\n",
        "## Using SciPy Package\n",
        "t_stat, p_val = stats.ttest_ind(x, y, equal_var = False)\n",
        "print(\"t-statistic = \" + str(t_stat))\n",
        "print(\"p-value = \" + str(p_val))"
      ],
      "metadata": {
        "colab": {
          "base_uri": "https://localhost:8080/"
        },
        "id": "6YJxlYkK_O2e",
        "outputId": "1add3831-f94c-4126-8f41-6a3fb11e76f7"
      },
      "execution_count": 15,
      "outputs": [
        {
          "output_type": "stream",
          "name": "stdout",
          "text": [
            "t-statistic = -0.04505461719351464\n",
            "p-value = 0.9643714374552262\n"
          ]
        }
      ]
    }
  ]
}