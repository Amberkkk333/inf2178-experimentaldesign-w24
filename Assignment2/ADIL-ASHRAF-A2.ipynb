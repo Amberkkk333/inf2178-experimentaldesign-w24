{
  "nbformat": 4,
  "nbformat_minor": 0,
  "metadata": {
    "colab": {
      "provenance": []
    },
    "kernelspec": {
      "name": "python3",
      "display_name": "Python 3"
    },
    "language_info": {
      "name": "python"
    }
  },
  "cells": [
    {
      "cell_type": "markdown",
      "source": [
        "IMPORT LIBRARIES"
      ],
      "metadata": {
        "id": "MRYLAnkcIYcs"
      }
    },
    {
      "cell_type": "code",
      "execution_count": 41,
      "metadata": {
        "id": "Ejnc9g1AcPCN"
      },
      "outputs": [],
      "source": [
        "# Importing the necessary libraries\n",
        "\n",
        "#To read excel files\n",
        "import pandas as pd\n",
        "\n",
        "#Vizualization\n",
        "import matplotlib.pyplot as plt\n",
        "import seaborn as sns\n",
        "import matplotlib.pyplot as plt\n",
        "\n",
        "#Stats\n",
        "import statsmodels.api as sm\n",
        "from statsmodels.formula.api import ols\n",
        "from statsmodels.graphics.factorplots import interaction_plot\n",
        "from scipy.stats import shapiro, levene\n",
        "from statsmodels.stats.multicomp import pairwise_tukeyhsd\n",
        "\n",
        "# Tukey HSD test\n",
        "from statsmodels.stats.multicomp import pairwise_tukeyhsd"
      ]
    },
    {
      "cell_type": "markdown",
      "source": [
        "FILE UPLOAD"
      ],
      "metadata": {
        "id": "I7q7P89_IVe2"
      }
    },
    {
      "cell_type": "code",
      "source": [
        "#from google.colab import files\n",
        "\n",
        "uploaded = files.upload()\n",
        "\n",
        "for fn in uploaded.keys():\n",
        "  print('User uploaded file \"{name}\" with length {length} bytes'.format(\n",
        "      name=fn, length=len(uploaded[fn])))"
      ],
      "metadata": {
        "colab": {
          "base_uri": "https://localhost:8080/",
          "height": 92
        },
        "id": "js0IMg6gcbEp",
        "outputId": "2ea803a1-ab39-46c6-9c30-ce8af39422d3"
      },
      "execution_count": 3,
      "outputs": [
        {
          "output_type": "display_data",
          "data": {
            "text/plain": [
              "<IPython.core.display.HTML object>"
            ],
            "text/html": [
              "\n",
              "     <input type=\"file\" id=\"files-2086d316-fde2-47f9-afee-82c25c503fc4\" name=\"files[]\" multiple disabled\n",
              "        style=\"border:none\" />\n",
              "     <output id=\"result-2086d316-fde2-47f9-afee-82c25c503fc4\">\n",
              "      Upload widget is only available when the cell has been executed in the\n",
              "      current browser session. Please rerun this cell to enable.\n",
              "      </output>\n",
              "      <script>// Copyright 2017 Google LLC\n",
              "//\n",
              "// Licensed under the Apache License, Version 2.0 (the \"License\");\n",
              "// you may not use this file except in compliance with the License.\n",
              "// You may obtain a copy of the License at\n",
              "//\n",
              "//      http://www.apache.org/licenses/LICENSE-2.0\n",
              "//\n",
              "// Unless required by applicable law or agreed to in writing, software\n",
              "// distributed under the License is distributed on an \"AS IS\" BASIS,\n",
              "// WITHOUT WARRANTIES OR CONDITIONS OF ANY KIND, either express or implied.\n",
              "// See the License for the specific language governing permissions and\n",
              "// limitations under the License.\n",
              "\n",
              "/**\n",
              " * @fileoverview Helpers for google.colab Python module.\n",
              " */\n",
              "(function(scope) {\n",
              "function span(text, styleAttributes = {}) {\n",
              "  const element = document.createElement('span');\n",
              "  element.textContent = text;\n",
              "  for (const key of Object.keys(styleAttributes)) {\n",
              "    element.style[key] = styleAttributes[key];\n",
              "  }\n",
              "  return element;\n",
              "}\n",
              "\n",
              "// Max number of bytes which will be uploaded at a time.\n",
              "const MAX_PAYLOAD_SIZE = 100 * 1024;\n",
              "\n",
              "function _uploadFiles(inputId, outputId) {\n",
              "  const steps = uploadFilesStep(inputId, outputId);\n",
              "  const outputElement = document.getElementById(outputId);\n",
              "  // Cache steps on the outputElement to make it available for the next call\n",
              "  // to uploadFilesContinue from Python.\n",
              "  outputElement.steps = steps;\n",
              "\n",
              "  return _uploadFilesContinue(outputId);\n",
              "}\n",
              "\n",
              "// This is roughly an async generator (not supported in the browser yet),\n",
              "// where there are multiple asynchronous steps and the Python side is going\n",
              "// to poll for completion of each step.\n",
              "// This uses a Promise to block the python side on completion of each step,\n",
              "// then passes the result of the previous step as the input to the next step.\n",
              "function _uploadFilesContinue(outputId) {\n",
              "  const outputElement = document.getElementById(outputId);\n",
              "  const steps = outputElement.steps;\n",
              "\n",
              "  const next = steps.next(outputElement.lastPromiseValue);\n",
              "  return Promise.resolve(next.value.promise).then((value) => {\n",
              "    // Cache the last promise value to make it available to the next\n",
              "    // step of the generator.\n",
              "    outputElement.lastPromiseValue = value;\n",
              "    return next.value.response;\n",
              "  });\n",
              "}\n",
              "\n",
              "/**\n",
              " * Generator function which is called between each async step of the upload\n",
              " * process.\n",
              " * @param {string} inputId Element ID of the input file picker element.\n",
              " * @param {string} outputId Element ID of the output display.\n",
              " * @return {!Iterable<!Object>} Iterable of next steps.\n",
              " */\n",
              "function* uploadFilesStep(inputId, outputId) {\n",
              "  const inputElement = document.getElementById(inputId);\n",
              "  inputElement.disabled = false;\n",
              "\n",
              "  const outputElement = document.getElementById(outputId);\n",
              "  outputElement.innerHTML = '';\n",
              "\n",
              "  const pickedPromise = new Promise((resolve) => {\n",
              "    inputElement.addEventListener('change', (e) => {\n",
              "      resolve(e.target.files);\n",
              "    });\n",
              "  });\n",
              "\n",
              "  const cancel = document.createElement('button');\n",
              "  inputElement.parentElement.appendChild(cancel);\n",
              "  cancel.textContent = 'Cancel upload';\n",
              "  const cancelPromise = new Promise((resolve) => {\n",
              "    cancel.onclick = () => {\n",
              "      resolve(null);\n",
              "    };\n",
              "  });\n",
              "\n",
              "  // Wait for the user to pick the files.\n",
              "  const files = yield {\n",
              "    promise: Promise.race([pickedPromise, cancelPromise]),\n",
              "    response: {\n",
              "      action: 'starting',\n",
              "    }\n",
              "  };\n",
              "\n",
              "  cancel.remove();\n",
              "\n",
              "  // Disable the input element since further picks are not allowed.\n",
              "  inputElement.disabled = true;\n",
              "\n",
              "  if (!files) {\n",
              "    return {\n",
              "      response: {\n",
              "        action: 'complete',\n",
              "      }\n",
              "    };\n",
              "  }\n",
              "\n",
              "  for (const file of files) {\n",
              "    const li = document.createElement('li');\n",
              "    li.append(span(file.name, {fontWeight: 'bold'}));\n",
              "    li.append(span(\n",
              "        `(${file.type || 'n/a'}) - ${file.size} bytes, ` +\n",
              "        `last modified: ${\n",
              "            file.lastModifiedDate ? file.lastModifiedDate.toLocaleDateString() :\n",
              "                                    'n/a'} - `));\n",
              "    const percent = span('0% done');\n",
              "    li.appendChild(percent);\n",
              "\n",
              "    outputElement.appendChild(li);\n",
              "\n",
              "    const fileDataPromise = new Promise((resolve) => {\n",
              "      const reader = new FileReader();\n",
              "      reader.onload = (e) => {\n",
              "        resolve(e.target.result);\n",
              "      };\n",
              "      reader.readAsArrayBuffer(file);\n",
              "    });\n",
              "    // Wait for the data to be ready.\n",
              "    let fileData = yield {\n",
              "      promise: fileDataPromise,\n",
              "      response: {\n",
              "        action: 'continue',\n",
              "      }\n",
              "    };\n",
              "\n",
              "    // Use a chunked sending to avoid message size limits. See b/62115660.\n",
              "    let position = 0;\n",
              "    do {\n",
              "      const length = Math.min(fileData.byteLength - position, MAX_PAYLOAD_SIZE);\n",
              "      const chunk = new Uint8Array(fileData, position, length);\n",
              "      position += length;\n",
              "\n",
              "      const base64 = btoa(String.fromCharCode.apply(null, chunk));\n",
              "      yield {\n",
              "        response: {\n",
              "          action: 'append',\n",
              "          file: file.name,\n",
              "          data: base64,\n",
              "        },\n",
              "      };\n",
              "\n",
              "      let percentDone = fileData.byteLength === 0 ?\n",
              "          100 :\n",
              "          Math.round((position / fileData.byteLength) * 100);\n",
              "      percent.textContent = `${percentDone}% done`;\n",
              "\n",
              "    } while (position < fileData.byteLength);\n",
              "  }\n",
              "\n",
              "  // All done.\n",
              "  yield {\n",
              "    response: {\n",
              "      action: 'complete',\n",
              "    }\n",
              "  };\n",
              "}\n",
              "\n",
              "scope.google = scope.google || {};\n",
              "scope.google.colab = scope.google.colab || {};\n",
              "scope.google.colab._files = {\n",
              "  _uploadFiles,\n",
              "  _uploadFilesContinue,\n",
              "};\n",
              "})(self);\n",
              "</script> "
            ]
          },
          "metadata": {}
        },
        {
          "output_type": "stream",
          "name": "stdout",
          "text": [
            "Saving INF2178_A2_data.xlsx to INF2178_A2_data.xlsx\n",
            "User uploaded file \"INF2178_A2_data.xlsx\" with length 134310 bytes\n"
          ]
        }
      ]
    },
    {
      "cell_type": "markdown",
      "source": [
        "CREATE DATA FRAME"
      ],
      "metadata": {
        "id": "Dcn16us9IsL8"
      }
    },
    {
      "cell_type": "code",
      "source": [
        "# Create data frame\n",
        "\n",
        "assignment2_data = \"INF2178_A2_data.xlsx\"\n",
        "data= pd.read_excel(assignment2_data)\n",
        "data"
      ],
      "metadata": {
        "id": "0FUjtRBXk_Ax"
      },
      "execution_count": null,
      "outputs": []
    },
    {
      "cell_type": "markdown",
      "source": [
        "EXPLORATORY DATA ANALYSIS"
      ],
      "metadata": {
        "id": "Zfc-y2xuDzNs"
      }
    },
    {
      "cell_type": "code",
      "source": [
        "# Breakdown of Child Care Centers by Agency Type (Auspice)\n",
        "\n",
        "# Setting the size of the figure\n",
        "plt.figure(figsize = (9, 3))\n",
        "\n",
        "# Get the counts of unique values in the 'AUSPICE' column, and selecting the top 3\n",
        "capacityType = data['AUSPICE'].value_counts().nlargest(3)\n",
        "\n",
        "# Plot a bar chart\n",
        "capacityType.plot(kind='bar', color='orange')\n",
        "\n",
        "# Setting titles and Labels\n",
        "plt.title('Agency Type')\n",
        "plt.xlabel('Agency Type')\n",
        "plt.ylabel('Count')\n",
        "plt.xticks(rotation=45, ha='center')\n",
        "\n",
        "# Add  labels\n",
        "for index, value in enumerate(capacityType):\n",
        "    plt.text(index, value + 0.1, str(value), ha='center', va='bottom')\n",
        "\n",
        "plt.show()\n"
      ],
      "metadata": {
        "id": "i0BpKd_zQ242"
      },
      "execution_count": null,
      "outputs": []
    },
    {
      "cell_type": "code",
      "source": [
        "#Breakdown of Childcare Centers by Subsidary Received\n",
        "\n",
        "# Create a cross tabulation of 'AUSPICE' and 'subsidy'\n",
        "subsidy_auspice_ct = pd.crosstab(data['AUSPICE'], data['subsidy'], normalize='index') * 100\n",
        "\n",
        "# Plotting the stacked bar chart\n",
        "subsidy_auspice_ct.plot(kind='bar', stacked=True, figsize=(10, 6))\n",
        "\n",
        "# Adding labels and title\n",
        "plt.title('Percentage of Agencies Receiving Subsidies by Auspice Type')\n",
        "plt.xlabel('AUSPICE Type')\n",
        "plt.ylabel('Percentage of Agencies (%)')\n",
        "plt.xticks(rotation=0)  # To keep the x-axis labels horizontal\n",
        "plt.legend(title='Subsidy Received', labels=['No', 'Yes'])\n",
        "\n",
        "# Adding the percentage text on the bars\n",
        "for n, x in enumerate([*subsidy_auspice_ct.index.values]):\n",
        "    for (proportion, y_loc) in zip(subsidy_auspice_ct.loc[x], subsidy_auspice_ct.loc[x].cumsum()):\n",
        "        plt.text(x=n, y=(y_loc - proportion) + (proportion / 2), s=f'{proportion:.1f}%',\n",
        "                 color='black', ha='center', va='center')\n",
        "\n",
        "# Display the plot\n",
        "plt.show()\n"
      ],
      "metadata": {
        "id": "oKeQnUSX_FA7"
      },
      "execution_count": null,
      "outputs": []
    },
    {
      "cell_type": "markdown",
      "source": [
        "# ONE-WAY ANOVA AND VISUALIZING FOR NORMAL DISTRIBUTION CHECK"
      ],
      "metadata": {
        "id": "exyEhh_UDuE6"
      }
    },
    {
      "cell_type": "code",
      "source": [
        "# Build and fit the two-way ANOVA model\n",
        "model = ols('TOTSPACE ~ C(AUSPICE) * C(subsidy)', data=data).fit()\n",
        "\n",
        "# Plotting the histogram of the residuals to show their distribution\n",
        "plt.figure(figsize=(8, 5))\n",
        "sns.histplot(residuals, kde=True, color='black', bins=30, edgecolor='black')\n",
        "\n",
        "# Adding a title and labels\n",
        "plt.title('Histogram of ANOVA Residuals for TOTSPACE by AUSPICE')\n",
        "plt.xlabel('Residuals')\n",
        "plt.ylabel('Frequency')\n",
        "\n",
        "# Adding a vertical line for the mean of the residuals\n",
        "plt.axvline(x=residuals.mean(), color='red', linestyle='--', linewidth=2)\n",
        "\n",
        "# Show the plot\n",
        "plt.show()"
      ],
      "metadata": {
        "id": "5R72qR6eNhd7"
      },
      "execution_count": null,
      "outputs": []
    },
    {
      "cell_type": "markdown",
      "source": [
        "QQ PLOT"
      ],
      "metadata": {
        "id": "fU0EN33JDrzr"
      }
    },
    {
      "cell_type": "code",
      "source": [
        "# Extract the residuals\n",
        "residuals = model.resid\n",
        "\n",
        "# Generate a Q-Q plot\n",
        "fig = sm.qqplot(residuals, line='s')  # line='s' draws a line to the samples\n",
        "plt.title('Q-Q Plot of ANOVA Residuals for TOTSPACE by AUSPICE')\n",
        "plt.show()\n"
      ],
      "metadata": {
        "id": "Gso2oOc_MwVU"
      },
      "execution_count": null,
      "outputs": []
    },
    {
      "cell_type": "markdown",
      "source": [
        "ONE WAY ANOVA- TABLE 1"
      ],
      "metadata": {
        "id": "6rbNCBoODln_"
      }
    },
    {
      "cell_type": "code",
      "source": [
        "# Fitting a linear regression model, Ordinary Least Squares (OLS) model where 'TOTSPACE' is the dependent variable, and 'AUSPICE' is a categorical independent variable\n",
        "model = ols('TOTSPACE ~ C(AUSPICE)', data=data).fit()\n",
        "anovaTable = sm.stats.anova_lm(model, typ=2)\n",
        "anovaTable"
      ],
      "metadata": {
        "colab": {
          "base_uri": "https://localhost:8080/",
          "height": 125
        },
        "id": "TdFvi4pOcCOV",
        "outputId": "97def5f2-359e-4deb-ca0d-c3cbdd537a54"
      },
      "execution_count": 47,
      "outputs": [
        {
          "output_type": "execute_result",
          "data": {
            "text/plain": [
              "                  sum_sq      df          F        PR(>F)\n",
              "C(AUSPICE)  9.611211e+04     2.0  21.843051  5.057716e-10\n",
              "Residual    2.332065e+06  1060.0        NaN           NaN"
            ],
            "text/html": [
              "\n",
              "  <div id=\"df-dfbc5126-b8ed-4e1a-80db-7b7ff68332fa\" class=\"colab-df-container\">\n",
              "    <div>\n",
              "<style scoped>\n",
              "    .dataframe tbody tr th:only-of-type {\n",
              "        vertical-align: middle;\n",
              "    }\n",
              "\n",
              "    .dataframe tbody tr th {\n",
              "        vertical-align: top;\n",
              "    }\n",
              "\n",
              "    .dataframe thead th {\n",
              "        text-align: right;\n",
              "    }\n",
              "</style>\n",
              "<table border=\"1\" class=\"dataframe\">\n",
              "  <thead>\n",
              "    <tr style=\"text-align: right;\">\n",
              "      <th></th>\n",
              "      <th>sum_sq</th>\n",
              "      <th>df</th>\n",
              "      <th>F</th>\n",
              "      <th>PR(&gt;F)</th>\n",
              "    </tr>\n",
              "  </thead>\n",
              "  <tbody>\n",
              "    <tr>\n",
              "      <th>C(AUSPICE)</th>\n",
              "      <td>9.611211e+04</td>\n",
              "      <td>2.0</td>\n",
              "      <td>21.843051</td>\n",
              "      <td>5.057716e-10</td>\n",
              "    </tr>\n",
              "    <tr>\n",
              "      <th>Residual</th>\n",
              "      <td>2.332065e+06</td>\n",
              "      <td>1060.0</td>\n",
              "      <td>NaN</td>\n",
              "      <td>NaN</td>\n",
              "    </tr>\n",
              "  </tbody>\n",
              "</table>\n",
              "</div>\n",
              "    <div class=\"colab-df-buttons\">\n",
              "\n",
              "  <div class=\"colab-df-container\">\n",
              "    <button class=\"colab-df-convert\" onclick=\"convertToInteractive('df-dfbc5126-b8ed-4e1a-80db-7b7ff68332fa')\"\n",
              "            title=\"Convert this dataframe to an interactive table.\"\n",
              "            style=\"display:none;\">\n",
              "\n",
              "  <svg xmlns=\"http://www.w3.org/2000/svg\" height=\"24px\" viewBox=\"0 -960 960 960\">\n",
              "    <path d=\"M120-120v-720h720v720H120Zm60-500h600v-160H180v160Zm220 220h160v-160H400v160Zm0 220h160v-160H400v160ZM180-400h160v-160H180v160Zm440 0h160v-160H620v160ZM180-180h160v-160H180v160Zm440 0h160v-160H620v160Z\"/>\n",
              "  </svg>\n",
              "    </button>\n",
              "\n",
              "  <style>\n",
              "    .colab-df-container {\n",
              "      display:flex;\n",
              "      gap: 12px;\n",
              "    }\n",
              "\n",
              "    .colab-df-convert {\n",
              "      background-color: #E8F0FE;\n",
              "      border: none;\n",
              "      border-radius: 50%;\n",
              "      cursor: pointer;\n",
              "      display: none;\n",
              "      fill: #1967D2;\n",
              "      height: 32px;\n",
              "      padding: 0 0 0 0;\n",
              "      width: 32px;\n",
              "    }\n",
              "\n",
              "    .colab-df-convert:hover {\n",
              "      background-color: #E2EBFA;\n",
              "      box-shadow: 0px 1px 2px rgba(60, 64, 67, 0.3), 0px 1px 3px 1px rgba(60, 64, 67, 0.15);\n",
              "      fill: #174EA6;\n",
              "    }\n",
              "\n",
              "    .colab-df-buttons div {\n",
              "      margin-bottom: 4px;\n",
              "    }\n",
              "\n",
              "    [theme=dark] .colab-df-convert {\n",
              "      background-color: #3B4455;\n",
              "      fill: #D2E3FC;\n",
              "    }\n",
              "\n",
              "    [theme=dark] .colab-df-convert:hover {\n",
              "      background-color: #434B5C;\n",
              "      box-shadow: 0px 1px 3px 1px rgba(0, 0, 0, 0.15);\n",
              "      filter: drop-shadow(0px 1px 2px rgba(0, 0, 0, 0.3));\n",
              "      fill: #FFFFFF;\n",
              "    }\n",
              "  </style>\n",
              "\n",
              "    <script>\n",
              "      const buttonEl =\n",
              "        document.querySelector('#df-dfbc5126-b8ed-4e1a-80db-7b7ff68332fa button.colab-df-convert');\n",
              "      buttonEl.style.display =\n",
              "        google.colab.kernel.accessAllowed ? 'block' : 'none';\n",
              "\n",
              "      async function convertToInteractive(key) {\n",
              "        const element = document.querySelector('#df-dfbc5126-b8ed-4e1a-80db-7b7ff68332fa');\n",
              "        const dataTable =\n",
              "          await google.colab.kernel.invokeFunction('convertToInteractive',\n",
              "                                                    [key], {});\n",
              "        if (!dataTable) return;\n",
              "\n",
              "        const docLinkHtml = 'Like what you see? Visit the ' +\n",
              "          '<a target=\"_blank\" href=https://colab.research.google.com/notebooks/data_table.ipynb>data table notebook</a>'\n",
              "          + ' to learn more about interactive tables.';\n",
              "        element.innerHTML = '';\n",
              "        dataTable['output_type'] = 'display_data';\n",
              "        await google.colab.output.renderOutput(dataTable, element);\n",
              "        const docLink = document.createElement('div');\n",
              "        docLink.innerHTML = docLinkHtml;\n",
              "        element.appendChild(docLink);\n",
              "      }\n",
              "    </script>\n",
              "  </div>\n",
              "\n",
              "\n",
              "<div id=\"df-cfdc1e1c-1e0a-4454-897c-35f6529babc0\">\n",
              "  <button class=\"colab-df-quickchart\" onclick=\"quickchart('df-cfdc1e1c-1e0a-4454-897c-35f6529babc0')\"\n",
              "            title=\"Suggest charts\"\n",
              "            style=\"display:none;\">\n",
              "\n",
              "<svg xmlns=\"http://www.w3.org/2000/svg\" height=\"24px\"viewBox=\"0 0 24 24\"\n",
              "     width=\"24px\">\n",
              "    <g>\n",
              "        <path d=\"M19 3H5c-1.1 0-2 .9-2 2v14c0 1.1.9 2 2 2h14c1.1 0 2-.9 2-2V5c0-1.1-.9-2-2-2zM9 17H7v-7h2v7zm4 0h-2V7h2v10zm4 0h-2v-4h2v4z\"/>\n",
              "    </g>\n",
              "</svg>\n",
              "  </button>\n",
              "\n",
              "<style>\n",
              "  .colab-df-quickchart {\n",
              "      --bg-color: #E8F0FE;\n",
              "      --fill-color: #1967D2;\n",
              "      --hover-bg-color: #E2EBFA;\n",
              "      --hover-fill-color: #174EA6;\n",
              "      --disabled-fill-color: #AAA;\n",
              "      --disabled-bg-color: #DDD;\n",
              "  }\n",
              "\n",
              "  [theme=dark] .colab-df-quickchart {\n",
              "      --bg-color: #3B4455;\n",
              "      --fill-color: #D2E3FC;\n",
              "      --hover-bg-color: #434B5C;\n",
              "      --hover-fill-color: #FFFFFF;\n",
              "      --disabled-bg-color: #3B4455;\n",
              "      --disabled-fill-color: #666;\n",
              "  }\n",
              "\n",
              "  .colab-df-quickchart {\n",
              "    background-color: var(--bg-color);\n",
              "    border: none;\n",
              "    border-radius: 50%;\n",
              "    cursor: pointer;\n",
              "    display: none;\n",
              "    fill: var(--fill-color);\n",
              "    height: 32px;\n",
              "    padding: 0;\n",
              "    width: 32px;\n",
              "  }\n",
              "\n",
              "  .colab-df-quickchart:hover {\n",
              "    background-color: var(--hover-bg-color);\n",
              "    box-shadow: 0 1px 2px rgba(60, 64, 67, 0.3), 0 1px 3px 1px rgba(60, 64, 67, 0.15);\n",
              "    fill: var(--button-hover-fill-color);\n",
              "  }\n",
              "\n",
              "  .colab-df-quickchart-complete:disabled,\n",
              "  .colab-df-quickchart-complete:disabled:hover {\n",
              "    background-color: var(--disabled-bg-color);\n",
              "    fill: var(--disabled-fill-color);\n",
              "    box-shadow: none;\n",
              "  }\n",
              "\n",
              "  .colab-df-spinner {\n",
              "    border: 2px solid var(--fill-color);\n",
              "    border-color: transparent;\n",
              "    border-bottom-color: var(--fill-color);\n",
              "    animation:\n",
              "      spin 1s steps(1) infinite;\n",
              "  }\n",
              "\n",
              "  @keyframes spin {\n",
              "    0% {\n",
              "      border-color: transparent;\n",
              "      border-bottom-color: var(--fill-color);\n",
              "      border-left-color: var(--fill-color);\n",
              "    }\n",
              "    20% {\n",
              "      border-color: transparent;\n",
              "      border-left-color: var(--fill-color);\n",
              "      border-top-color: var(--fill-color);\n",
              "    }\n",
              "    30% {\n",
              "      border-color: transparent;\n",
              "      border-left-color: var(--fill-color);\n",
              "      border-top-color: var(--fill-color);\n",
              "      border-right-color: var(--fill-color);\n",
              "    }\n",
              "    40% {\n",
              "      border-color: transparent;\n",
              "      border-right-color: var(--fill-color);\n",
              "      border-top-color: var(--fill-color);\n",
              "    }\n",
              "    60% {\n",
              "      border-color: transparent;\n",
              "      border-right-color: var(--fill-color);\n",
              "    }\n",
              "    80% {\n",
              "      border-color: transparent;\n",
              "      border-right-color: var(--fill-color);\n",
              "      border-bottom-color: var(--fill-color);\n",
              "    }\n",
              "    90% {\n",
              "      border-color: transparent;\n",
              "      border-bottom-color: var(--fill-color);\n",
              "    }\n",
              "  }\n",
              "</style>\n",
              "\n",
              "  <script>\n",
              "    async function quickchart(key) {\n",
              "      const quickchartButtonEl =\n",
              "        document.querySelector('#' + key + ' button');\n",
              "      quickchartButtonEl.disabled = true;  // To prevent multiple clicks.\n",
              "      quickchartButtonEl.classList.add('colab-df-spinner');\n",
              "      try {\n",
              "        const charts = await google.colab.kernel.invokeFunction(\n",
              "            'suggestCharts', [key], {});\n",
              "      } catch (error) {\n",
              "        console.error('Error during call to suggestCharts:', error);\n",
              "      }\n",
              "      quickchartButtonEl.classList.remove('colab-df-spinner');\n",
              "      quickchartButtonEl.classList.add('colab-df-quickchart-complete');\n",
              "    }\n",
              "    (() => {\n",
              "      let quickchartButtonEl =\n",
              "        document.querySelector('#df-cfdc1e1c-1e0a-4454-897c-35f6529babc0 button');\n",
              "      quickchartButtonEl.style.display =\n",
              "        google.colab.kernel.accessAllowed ? 'block' : 'none';\n",
              "    })();\n",
              "  </script>\n",
              "</div>\n",
              "\n",
              "  <div id=\"id_c0a8970f-1555-4e68-969e-0b615b2249eb\">\n",
              "    <style>\n",
              "      .colab-df-generate {\n",
              "        background-color: #E8F0FE;\n",
              "        border: none;\n",
              "        border-radius: 50%;\n",
              "        cursor: pointer;\n",
              "        display: none;\n",
              "        fill: #1967D2;\n",
              "        height: 32px;\n",
              "        padding: 0 0 0 0;\n",
              "        width: 32px;\n",
              "      }\n",
              "\n",
              "      .colab-df-generate:hover {\n",
              "        background-color: #E2EBFA;\n",
              "        box-shadow: 0px 1px 2px rgba(60, 64, 67, 0.3), 0px 1px 3px 1px rgba(60, 64, 67, 0.15);\n",
              "        fill: #174EA6;\n",
              "      }\n",
              "\n",
              "      [theme=dark] .colab-df-generate {\n",
              "        background-color: #3B4455;\n",
              "        fill: #D2E3FC;\n",
              "      }\n",
              "\n",
              "      [theme=dark] .colab-df-generate:hover {\n",
              "        background-color: #434B5C;\n",
              "        box-shadow: 0px 1px 3px 1px rgba(0, 0, 0, 0.15);\n",
              "        filter: drop-shadow(0px 1px 2px rgba(0, 0, 0, 0.3));\n",
              "        fill: #FFFFFF;\n",
              "      }\n",
              "    </style>\n",
              "    <button class=\"colab-df-generate\" onclick=\"generateWithVariable('anovaTable')\"\n",
              "            title=\"Generate code using this dataframe.\"\n",
              "            style=\"display:none;\">\n",
              "\n",
              "  <svg xmlns=\"http://www.w3.org/2000/svg\" height=\"24px\"viewBox=\"0 0 24 24\"\n",
              "       width=\"24px\">\n",
              "    <path d=\"M7,19H8.4L18.45,9,17,7.55,7,17.6ZM5,21V16.75L18.45,3.32a2,2,0,0,1,2.83,0l1.4,1.43a1.91,1.91,0,0,1,.58,1.4,1.91,1.91,0,0,1-.58,1.4L9.25,21ZM18.45,9,17,7.55Zm-12,3A5.31,5.31,0,0,0,4.9,8.1,5.31,5.31,0,0,0,1,6.5,5.31,5.31,0,0,0,4.9,4.9,5.31,5.31,0,0,0,6.5,1,5.31,5.31,0,0,0,8.1,4.9,5.31,5.31,0,0,0,12,6.5,5.46,5.46,0,0,0,6.5,12Z\"/>\n",
              "  </svg>\n",
              "    </button>\n",
              "    <script>\n",
              "      (() => {\n",
              "      const buttonEl =\n",
              "        document.querySelector('#id_c0a8970f-1555-4e68-969e-0b615b2249eb button.colab-df-generate');\n",
              "      buttonEl.style.display =\n",
              "        google.colab.kernel.accessAllowed ? 'block' : 'none';\n",
              "\n",
              "      buttonEl.onclick = () => {\n",
              "        google.colab.notebook.generateWithVariable('anovaTable');\n",
              "      }\n",
              "      })();\n",
              "    </script>\n",
              "  </div>\n",
              "\n",
              "    </div>\n",
              "  </div>\n"
            ],
            "application/vnd.google.colaboratory.intrinsic+json": {
              "type": "dataframe",
              "variable_name": "anovaTable",
              "summary": "{\n  \"name\": \"anovaTable\",\n  \"rows\": 2,\n  \"fields\": [\n    {\n      \"column\": \"sum_sq\",\n      \"properties\": {\n        \"dtype\": \"number\",\n        \"std\": 1581057.6351588734,\n        \"min\": 96112.11429024815,\n        \"max\": 2332065.2648254596,\n        \"num_unique_values\": 2,\n        \"samples\": [\n          2332065.2648254596,\n          96112.11429024815\n        ],\n        \"semantic_type\": \"\",\n        \"description\": \"\"\n      }\n    },\n    {\n      \"column\": \"df\",\n      \"properties\": {\n        \"dtype\": \"number\",\n        \"std\": 748.1189744953673,\n        \"min\": 2.0,\n        \"max\": 1060.0,\n        \"num_unique_values\": 2,\n        \"samples\": [\n          1060.0,\n          2.0\n        ],\n        \"semantic_type\": \"\",\n        \"description\": \"\"\n      }\n    },\n    {\n      \"column\": \"F\",\n      \"properties\": {\n        \"dtype\": \"number\",\n        \"std\": null,\n        \"min\": 21.843051025265375,\n        \"max\": 21.843051025265375,\n        \"num_unique_values\": 1,\n        \"samples\": [\n          21.843051025265375\n        ],\n        \"semantic_type\": \"\",\n        \"description\": \"\"\n      }\n    },\n    {\n      \"column\": \"PR(>F)\",\n      \"properties\": {\n        \"dtype\": \"number\",\n        \"std\": null,\n        \"min\": 5.057716322707518e-10,\n        \"max\": 5.057716322707518e-10,\n        \"num_unique_values\": 1,\n        \"samples\": [\n          5.057716322707518e-10\n        ],\n        \"semantic_type\": \"\",\n        \"description\": \"\"\n      }\n    }\n  ]\n}"
            }
          },
          "metadata": {},
          "execution_count": 47
        }
      ]
    },
    {
      "cell_type": "markdown",
      "source": [
        "BOXPLOTS"
      ],
      "metadata": {
        "id": "unwkFEEY3wzB"
      }
    },
    {
      "cell_type": "code",
      "source": [
        "# Boxplot generation using Matplotlib and Seaborn\n",
        "\n",
        "# Creating a boxplot\n",
        "plt.figure(figsize=(12, 8)) # Setting the figure size\n",
        "boxplot = sns.boxplot(x='AUSPICE', y='TOTSPACE', data=data, showmeans=True,\n",
        "                      meanprops={\"marker\":\"x\",\n",
        "                                 \"markerfacecolor\":\"white\",\n",
        "                                 \"markeredgecolor\":\"black\",\n",
        "                                 \"markersize\":\"10\"},\n",
        "                      palette=['#3498db', '#e74c3c', '#2ecc71'])\n",
        "\n",
        "# Calculating means and medians for each category\n",
        "auspice_means = data.groupby('AUSPICE')['TOTSPACE'].mean().reset_index()\n",
        "auspice_medians = data.groupby('AUSPICE')['TOTSPACE'].median().reset_index()\n",
        "\n",
        "print(\"Auspice Means:\", auspice_means)\n",
        "print(\"Auspice Medians:\", auspice_medians)\n",
        "\n",
        "# Adding text annotations for mean and median\n",
        "for i in range(len(auspice_means['AUSPICE'])):\n",
        "    mean = auspice_means.loc[i, 'TOTSPACE']\n",
        "    median = auspice_medians.loc[i, 'TOTSPACE']\n",
        "    plt.text(x=i, y=mean, s=f\"Mean: {mean:.1f}\",\n",
        "             ha='center', va='bottom', color='black')\n",
        "    plt.text(x=i, y=median, s=f\"Median: {median:.1f}\",\n",
        "             ha='center', va='top', color='white')\n",
        "\n",
        "# Setting the title of the boxplot\n",
        "plt.title('Boxplot of Total Space by Auspice')\n",
        "\n",
        "# Displaying the plot\n",
        "plt.show()"
      ],
      "metadata": {
        "colab": {
          "base_uri": "https://localhost:8080/",
          "height": 943
        },
        "id": "E4ZlgAvYeN29",
        "outputId": "25f8cd36-69a8-46c9-e473-cd16db0339b6"
      },
      "execution_count": 48,
      "outputs": [
        {
          "output_type": "stream",
          "name": "stderr",
          "text": [
            "<ipython-input-48-bb4a5be13680>:5: FutureWarning: \n",
            "\n",
            "Passing `palette` without assigning `hue` is deprecated and will be removed in v0.14.0. Assign the `x` variable to `hue` and set `legend=False` for the same effect.\n",
            "\n",
            "  boxplot = sns.boxplot(x='AUSPICE', y='TOTSPACE', data=data, showmeans=True,\n"
          ]
        },
        {
          "output_type": "stream",
          "name": "stdout",
          "text": [
            "Auspice Means:                          AUSPICE   TOTSPACE\n",
            "0              Commercial Agency  64.984424\n",
            "1              Non Profit Agency  82.103841\n",
            "2  Public (City Operated) Agency  47.769231\n",
            "Auspice Medians:                          AUSPICE  TOTSPACE\n",
            "0              Commercial Agency      58.0\n",
            "1              Non Profit Agency      66.0\n",
            "2  Public (City Operated) Agency      49.0\n"
          ]
        },
        {
          "output_type": "display_data",
          "data": {
            "text/plain": [
              "<Figure size 1200x800 with 1 Axes>"
            ],
            "image/png": "[encoded data removed]"
          },
          "metadata": {}
        }
      ]
    },
    {
      "cell_type": "markdown",
      "source": [
        "PREPARE DATA FOR TWO WAY **ANOVA**"
      ],
      "metadata": {
        "id": "dxlTnFqpKSxg"
      }
    },
    {
      "cell_type": "code",
      "source": [
        "# Remove NaN values\n",
        "data = data.dropna(subset=['AUSPICE', 'subsidy', 'TOTSPACE'])\n",
        "\n",
        "# Convert 'AUSPICE' and 'subsidy' to categorical data types\n",
        "data['AUSPICE'] = data['AUSPICE'].astype(str).astype('category')\n",
        "data['subsidy'] = data['subsidy'].astype(str).astype('category')\n",
        "\n",
        "# Convert 'TOTSPACE' to a numeric type\n",
        "data['TOTSPACE'] = pd.to_numeric(data['TOTSPACE'], errors='coerce')"
      ],
      "metadata": {
        "id": "pkED6ak1KJbh"
      },
      "execution_count": 49,
      "outputs": []
    },
    {
      "cell_type": "markdown",
      "source": [
        "TWO WAY ANOVA- using 'subsidy' and 'AUSPICE' as the categorical variables and and 'TOTSPACE' as the *quantitative* variable- TABLE 2"
      ],
      "metadata": {
        "id": "jBG_sEIODhdJ"
      }
    },
    {
      "cell_type": "code",
      "source": [
        "# Perform a two-way ANOVA with 'subsidy' and 'AUSPICE' as the categorical variables and 'TOTSPACE' as the quantitative variable\n",
        "model = ols('TOTSPACE ~ C(subsidy) * C(AUSPICE)', data=data).fit()\n",
        "\n",
        "# Carry out the ANOVA\n",
        "anova_table = sm.stats.anova_lm(model, typ=2)\n",
        "anova_table\n",
        "\n",
        "# Extract the label for the interaction term from the ANOVA table's index.\n",
        "\n",
        "interaction_term = [col for col in anova_table.index if 'AUSPICE' in col and 'subsidy' in col][0]\n",
        "\n",
        "# Check if the p-value for the interaction term in the ANOVA table is less than 0.05. If so, which would indicate a statistically significant interaction effect\n",
        "if anova_table.loc[interaction_term, 'PR(>F)'] < 0.05:\n",
        "    # If the interaction is significant, perform Tukey's HSD test to conduct multiple pairwise\n",
        "    # comparison tests between the levels of the 'AUSPICE' factor\n",
        "    tukey = pairwise_tukeyhsd(endog=data['TOTSPACE'], groups=data['AUSPICE'], alpha=0.05)\n",
        "\n",
        "    # Output the summary of Tukey's HSD test which shows the mean difference between group levels,\n",
        "    # the p-value for each test, and whether the null hypothesis can be rejected for each pairwise comparison\n",
        "    print(tukey.summary())\n"
      ],
      "metadata": {
        "id": "O6q8G26dpVZl",
        "colab": {
          "base_uri": "https://localhost:8080/"
        },
        "outputId": "489a0354-c27f-4d9f-c3f6-9a5ae3b026b0"
      },
      "execution_count": 50,
      "outputs": [
        {
          "output_type": "stream",
          "name": "stdout",
          "text": [
            "                  Multiple Comparison of Means - Tukey HSD, FWER=0.05                   \n",
            "========================================================================================\n",
            "      group1                  group2            meandiff p-adj   lower    upper   reject\n",
            "----------------------------------------------------------------------------------------\n",
            "Commercial Agency             Non Profit Agency  17.1194    0.0   9.7037  24.5351   True\n",
            "Commercial Agency Public (City Operated) Agency -17.2152 0.0779 -35.8832   1.4528  False\n",
            "Non Profit Agency Public (City Operated) Agency -34.3346    0.0 -52.4448 -16.2244   True\n",
            "----------------------------------------------------------------------------------------\n"
          ]
        }
      ]
    },
    {
      "cell_type": "markdown",
      "source": [
        "CHECK ASSUMPTIONS FOR TWO WAY ANOVA"
      ],
      "metadata": {
        "id": "AW4X09iJa9O9"
      }
    },
    {
      "cell_type": "code",
      "source": [
        "# Testing for normality using the Shapiro-Wilk test for each category of AUSPICE\n",
        "\n",
        "# Convert 'AUSPICE' to a categorical variable\n",
        "data['AUSPICE'] = data['AUSPICE'].astype('category')\n",
        "print(\"Shapiro-Wilk Test for Normality\")\n",
        "for category in data['AUSPICE'].cat.categories:\n",
        "    stat, p = shapiro(data.loc[data['AUSPICE'] == category, 'TOTSPACE'])\n",
        "    print(f\"AUSPICE = {category}: Statistics={stat}, p={p}\")\n",
        "\n",
        "# Testing for homogeneity of variance using Levene's test across the different AUSPICE groups\n",
        "grouped_data = [data.loc[data['AUSPICE'] == category, 'TOTSPACE'] for category in data['AUSPICE'].cat.categories]\n",
        "stat, p = levene(*grouped_data)\n",
        "print(f\"\\nLevene's Test for Homogeneity of Variance: Statistics={stat}, p={p}\")\n",
        "\n",
        "# Use the model's ANOVA result to check for significance and proceed with Tukey's HSD test\n",
        "if anova_table.loc['C(AUSPICE)', 'PR(>F)'] < 0.05:\n",
        "    tukey_hsd = pairwise_tukeyhsd(endog=data['TOTSPACE'], groups=data['AUSPICE'], alpha=0.05)\n",
        "    print(\"\\nTukey's HSD Post-Hoc Test\")\n",
        "    print(tukey_hsd)"
      ],
      "metadata": {
        "id": "RKtRF1ahk7Fn",
        "colab": {
          "base_uri": "https://localhost:8080/"
        },
        "outputId": "5a9eb6b4-eee0-4d96-aec1-e0ff3cea989c"
      },
      "execution_count": 51,
      "outputs": [
        {
          "output_type": "stream",
          "name": "stdout",
          "text": [
            "Shapiro-Wilk Test for Normality\n",
            "AUSPICE = Commercial Agency: Statistics=0.9238301515579224, p=1.013540900512977e-11\n",
            "AUSPICE = Non Profit Agency: Statistics=0.8917579650878906, p=8.339870811481173e-22\n",
            "AUSPICE = Public (City Operated) Agency: Statistics=0.9514912962913513, p=0.09225869178771973\n",
            "\n",
            "Levene's Test for Homogeneity of Variance: Statistics=17.927068524236084, p=2.2036889276494363e-08\n"
          ]
        }
      ]
    },
    {
      "cell_type": "code",
      "source": [
        "# Visualize the Interaction plot\n",
        "plt.figure(figsize=(10, 6))\n",
        "interaction_plot = sns.pointplot(x='AUSPICE', y='TOTSPACE', hue='subsidy', data=data, ci=None, palette='deep', markers=[\"o\", \"s\"], linestyles=[\"-\", \"--\"]) #ci is the confidence interval\n",
        "\n",
        "# Add labels and title\n",
        "plt.title('Interaction Effect of Subsidy and AUSPICE on TOTSPACE')\n",
        "plt.xlabel('AUSPICE')\n",
        "plt.ylabel('Total Space')\n",
        "plt.legend(title='Subsidy')\n",
        "\n",
        "# Show the plot\n",
        "plt.show()"
      ],
      "metadata": {
        "colab": {
          "base_uri": "https://localhost:8080/",
          "height": 651
        },
        "id": "-QKn7CGBeLdn",
        "outputId": "c08e2814-9453-47e0-e9dc-7b37fec35900"
      },
      "execution_count": 52,
      "outputs": [
        {
          "output_type": "stream",
          "name": "stderr",
          "text": [
            "<ipython-input-52-2ba0397ee82d>:3: FutureWarning: \n",
            "\n",
            "The `ci` parameter is deprecated. Use `errorbar=None` for the same effect.\n",
            "\n",
            "  interaction_plot = sns.pointplot(x='AUSPICE', y='TOTSPACE', hue='subsidy', data=data, ci=None, palette='deep', markers=[\"o\", \"s\"], linestyles=[\"-\", \"--\"]) #ci is the confidence interval\n"
          ]
        },
        {
          "output_type": "display_data",
          "data": {
            "text/plain": [
              "<Figure size 1000x600 with 1 Axes>"
            ],
            "image/png": "[encoded data removed]"
          },
          "metadata": {}
        }
      ]
    }
  ]
}